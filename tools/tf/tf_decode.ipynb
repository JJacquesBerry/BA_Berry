{
 "cells": [
  {
   "cell_type": "code",
   "execution_count": 14,
   "metadata": {
    "pycharm": {
     "name": "#%%\n"
    }
   },
   "outputs": [],
   "source": [
    "import tensorflow as tf\n",
    "import tensorflow_io as tfio"
   ]
  },
  {
   "cell_type": "code",
   "execution_count": 16,
   "metadata": {
    "pycharm": {
     "name": "#%%\n"
    }
   },
   "outputs": [
    {
     "name": "stdout",
     "output_type": "stream",
     "text": [
      "<AudioIOTensor: shape=[28979     1], dtype=<dtype: 'int16'>, rate=16000>\n",
      "tf.Tensor([-184], shape=(1,), dtype=int16)\n",
      "tf.Tensor(-184, shape=(), dtype=int16)\n"
     ]
    }
   ],
   "source": [
    "audio = tfio.audio.AudioIOTensor('gs://cloud-samples-tests/speech/brooklyn.flac')\n",
    "\n",
    "print(audio)\n",
    "print(audio[0])\n",
    "print(tf.squeeze(audio[0]))\n",
    "#for i in range(len(audio)):\n",
    " #  print(audio[i])"
   ]
  },
  {
   "cell_type": "code",
   "execution_count": 22,
   "metadata": {
    "pycharm": {
     "name": "#%%\n"
    }
   },
   "outputs": [
    {
     "name": "stdout",
     "output_type": "stream",
     "text": [
      "tf.Tensor([0.00125122], shape=(1,), dtype=float32)\n",
      "tf.Tensor(0.0012512207, shape=(), dtype=float32)\n"
     ]
    }
   ],
   "source": [
    "fileContent = tf.io.read_file(\"soundFiles/TroglodytesTroglodytes/WAV/TroglodytesTroglodytes0.wav\")\n",
    "audioData, sr = tf.audio.decode_wav(fileContent, desired_channels=1)\n",
    "\n",
    "print(audioData[0])\n",
    "print(tf.squeeze(audioData[0]))\n"
   ]
  }
 ],
 "metadata": {
  "interpreter": {
   "hash": "aa9a882852ac62e17bf9b766fd20d316f23d7dc4029249375b9ccd5e4b3c823d"
  },
  "kernelspec": {
   "display_name": "Python 3.9.4 64-bit",
   "language": "python",
   "name": "python3"
  },
  "language_info": {
   "codemirror_mode": {
    "name": "ipython",
    "version": 3
   },
   "file_extension": ".py",
   "mimetype": "text/x-python",
   "name": "python",
   "nbconvert_exporter": "python",
   "pygments_lexer": "ipython3",
   "version": "3.9.4"
  },
  "orig_nbformat": 4
 },
 "nbformat": 4,
 "nbformat_minor": 2
}