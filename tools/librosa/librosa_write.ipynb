{
 "cells": [
  {
   "cell_type": "code",
   "execution_count": 40,
   "metadata": {
    "pycharm": {
     "name": "#%%\n"
    }
   },
   "outputs": [],
   "source": [
    "import librosa\n",
    "import soundfile as sf"
   ]
  },
  {
   "cell_type": "code",
   "execution_count": 41,
   "metadata": {
    "pycharm": {
     "name": "#%%\n"
    }
   },
   "outputs": [
    {
     "name": "stdout",
     "output_type": "stream",
     "text": [
      "22050\n",
      "479842\n"
     ]
    }
   ],
   "source": [
    "#get audio\n",
    "\n",
    "audioPath = \"../soundFiles/TroglodytesTroglodytes/WAV/TroglodytesTroglodytes0.wav\"\n",
    "#audioPath = \"../soundFiles/Test/test1.m4a\"\n",
    "    \n",
    "audioData, sr = librosa.load(audioPath, sr=22050)\n",
    "    \n",
    "print(sr)\n",
    "print(len(audioData))"
   ]
  },
  {
   "cell_type": "code",
   "execution_count": 42,
   "metadata": {
    "pycharm": {
     "name": "#%%\n"
    }
   },
   "outputs": [],
   "source": [
    "sf.write(\"../soundFiles/readSoundfiles/sr22050.wav\", audioData, sr)"
   ]
  }
 ],
 "metadata": {
  "interpreter": {
   "hash": "aa9a882852ac62e17bf9b766fd20d316f23d7dc4029249375b9ccd5e4b3c823d"
  },
  "kernelspec": {
   "display_name": "Python 3.9.4 64-bit",
   "language": "python",
   "name": "python3"
  },
  "language_info": {
   "codemirror_mode": {
    "name": "ipython",
    "version": 3
   },
   "file_extension": ".py",
   "mimetype": "text/x-python",
   "name": "python",
   "nbconvert_exporter": "python",
   "pygments_lexer": "ipython3",
   "version": "3.9.4"
  },
  "orig_nbformat": 4
 },
 "nbformat": 4,
 "nbformat_minor": 2
}