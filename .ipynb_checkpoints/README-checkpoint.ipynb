{
 "cells": [
  {
   "cell_type": "markdown",
   "metadata": {
    "pycharm": {
     "name": "#%% md\n"
    }
   },
   "source": [
    "### Grundlage für Konstruktion & Training von GANs in diesem Projekt:\n",
    "\n",
    "Völkl, Gerhard: Bildermacher, in: iX 12/2020, S. 102"
   ]
  },
  {
   "cell_type": "markdown",
   "metadata": {
    "pycharm": {
     "name": "#%% md\n"
    }
   },
   "source": [
    "### Genutzte Packages, Libraries, Tools etc."
   ]
  },
  {
   "cell_type": "markdown",
   "metadata": {
    "pycharm": {
     "name": "#%% md\n"
    }
   },
   "source": [
    "Librosa - https://librosa.org/doc/latest/index.html"
   ]
  },
  {
   "cell_type": "markdown",
   "metadata": {
    "pycharm": {
     "name": "#%% md\n"
    }
   },
   "source": [
    "Keras - https://keras.io/api/"
   ]
  },
  {
   "cell_type": "markdown",
   "metadata": {
    "pycharm": {
     "name": "#%% md\n"
    }
   },
   "source": [
    "Numpy - https://numpy.org/doc/"
   ]
  },
  {
   "cell_type": "markdown",
   "metadata": {
    "pycharm": {
     "name": "#%% md\n"
    }
   },
   "source": [
    "Pandas - https://pandas.pydata.org/"
   ]
  },
  {
   "cell_type": "markdown",
   "metadata": {
    "pycharm": {
     "name": "#%% md\n"
    }
   },
   "source": [
    "Mutagen - https://mutagen.readthedocs.io/en/latest/"
   ]
  },
  {
   "cell_type": "markdown",
   "metadata": {
    "pycharm": {
     "name": "#%% md\n"
    }
   },
   "source": [
    "os - https://docs.python.org/3/library/os.html / sys - https://docs.python.org/3/library/sys.html?highlight=sys#module-sys\n",
    "- für Import von Dateien genutzt\n",
    "- Referenz: https://csatlas.com/python-import-file-module/ (abgerufen am 05.02.2022)"
   ]
  },
  {
   "cell_type": "markdown",
   "metadata": {
    "pycharm": {
     "name": "#%% md\n"
    }
   },
   "source": [
    "json - https://docs.python.org/3/library/json.html"
   ]
  },
  {
   "cell_type": "markdown",
   "metadata": {
    "pycharm": {
     "name": "#%% md\n"
    }
   },
   "source": [
    "tensorflow - https://www.tensorflow.org/api_docs"
   ]
  },
  {
   "cell_type": "markdown",
   "metadata": {
    "pycharm": {
     "name": "#%% md\n"
    }
   },
   "source": [
    "### Dateibenennung - Muster"
   ]
  },
  {
   "cell_type": "markdown",
   "metadata": {
    "pycharm": {
     "name": "#%% md\n"
    }
   },
   "source": [
    "Generierte WAV-Dateien - Namensbedeutung\n",
    "<br/><br/>\n",
    "Bsp. \"tm5g1d2gen.wav\" / \"tm5g1d2gen.wav\"\n",
    "- Die erste Abkürzung steht für den genutzten Datensatz:\n",
    "    - tm - Turdus Merula (Amsel)\n",
    "    - pm - Parus Major (Kohlmeise)\n",
    "    - cc - Corvus Corone (Rabenkrähe)\n",
    "    - tt - Troglodytes Troglodytes (Zaunkönig)<br/>\n",
    "    -> Die Zahl steht für die Länge der Samples (1 bzw.5 Sekunden)\n",
    "- g in Kombination mit einer Nummer steht für den Generator mit der dazugehörigen Nummer\n",
    "- d in Kombination mit einer Nummer steht für den Diskriminator mit der dazugehörigen Nummer<br/>\n",
    "    -> Die Netzwerke sind immer die zum Netzwerk dazugehörigen\n",
    "- Die letzte Abkürzung steht dafür, wie die Daten vor der Speicherung als Datei verarbeitet wurden\n",
    "    - gen sind Dateien, \n",
    "        - welche in OD-GANs als eindimensionale Audiospur erzeugt und als Datei gespeichert wurden\n",
    "        - welche in FT-GANs als Fourier-Koeffizienten-Matrix erzeugt, mit istft in eine eindimensionale Audiospur umgewandelt und als Datei gespeichert wurden\n",
    "    - gl sind Daten, auf die der Griffin-Lim Algorithmus angewendet wurde, bevor sie als Datei gespeichert wurden"
   ]
  },
  {
   "cell_type": "markdown",
   "metadata": {
    "pycharm": {
     "name": "#%% md\n"
    }
   },
   "source": [
    "Trainingsdaten - Namensbedeutung\n",
    "<br/><br/>\n",
    "Bsp. \"TurdusMerulaSongFT5.csv\"\n",
    "\n",
    "- Der Name der Trainingsdaten setzt sich aus \n",
    "    - dem lateinischen Namen der Vogelspezies\n",
    "    - der Art von Lauten (Song, Call etc.)\n",
    "    - der Form der Daten (eindimensioanl(OD) oder Short-Fourier-transformiert(FT))\n",
    "    - und der Länge der Datensamples (1 bzw. 5 Sekunden) zusammen."
   ]
  },
  {
   "cell_type": "markdown",
   "metadata": {
    "pycharm": {
     "name": "#%% md\n"
    }
   },
   "source": [
    "### Betrachtung der Ergebnisse\n",
    "- Um die Ergebnisse seperat betrachten zu können, wurde für jeden Trainingsdurchlauf ein Commit erstellt.\n",
    "    - Falls Interesse an z.B. der Visualisierung der Audiospur eines bestimmten Ergebnisses besteht, muss einfach der jeweilige Commit ausgecheckt werden.\n",
    "<br/><br/>\n",
    "- Die generierten Audiodaten befinden sich in den Unterordnern des Ordners \"gan\"\n",
    "    - Die WAV-Dateien befinden sich in den \"output\"-Ordnern\n",
    "<br/><br/>\n",
    "- Achtung!: Die Lautstärke der Dateien kann lauter als erwartet sein. <br/>\n",
    "    - Auch hören sich einige generierte WAV-Dateien unangenehm an. Dies gilt insbesondere für die mit FT-Trainingsdaten generierten Audiodaten"
   ]
  }
 ],
 "metadata": {
  "kernelspec": {
   "display_name": "Python 3 (ipykernel)",
   "language": "python",
   "name": "python3"
  },
  "language_info": {
   "codemirror_mode": {
    "name": "ipython",
    "version": 3
   },
   "file_extension": ".py",
   "mimetype": "text/x-python",
   "name": "python",
   "nbconvert_exporter": "python",
   "pygments_lexer": "ipython3",
   "version": "3.9.12"
  }
 },
 "nbformat": 4,
 "nbformat_minor": 2
}