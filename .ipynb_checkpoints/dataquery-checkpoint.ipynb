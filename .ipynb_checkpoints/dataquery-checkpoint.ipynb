{
 "cells": [
  {
   "cell_type": "markdown",
   "metadata": {
    "pycharm": {
     "name": "#%% md\n"
    }
   },
   "source": [
    "Download-Test"
   ]
  },
  {
   "cell_type": "code",
   "execution_count": null,
   "outputs": [],
   "source": [
    "\n",
    "curl https://www.xeno-canto.org/api/2/recordings?query=troglodytes+troglodytes+q:A+type:song+lic:by-nc-sa > TroglodytesTroglodytes.json\n",
    "curl https://www.xeno-canto.org/api/2/recordings?query=parus+major+q:A+type:song+lic:by-nc-sa -O ParusMajor.json\n",
    "\n",
    "curl https://www.xeno-canto.org/api/2/recordings?query=turdus+merula+q:A+type:song+lic:by-nc-sa -O TurdusMerula.json\n",
    "\n",
    "curl https://www.xeno-canto.org/api/2/recordings?query=corvus+cornix+q:A+type:call+lic:by-nc-sa -O CorvusCornix.json\n",
    "curl https://www.xeno-canto.org/api/2/recordings?query=corvus+corone+q:A+type:call+lic:by-nc-sa -O CorvusCorone.json"
   ],
   "metadata": {
    "collapsed": false,
    "pycharm": {
     "name": "#%%\n"
    }
   }
  },
  {
   "cell_type": "code",
   "execution_count": null,
   "metadata": {
    "pycharm": {
     "name": "#%%\n"
    }
   },
   "outputs": [],
   "source": [
    "import json\n",
    "import requests\n",
    "import urllib"
   ]
  },
  {
   "cell_type": "code",
   "execution_count": null,
   "metadata": {
    "pycharm": {
     "name": "#%%\n"
    }
   },
   "outputs": [],
   "source": [
    "#prints file reformatted\n",
    "#jsonfile = open('D:\\\\1. Studium\\\\7. Semester\\BA\\\\birdvoice1', \"r\")\n",
    "#jsondata = json.load(jsonfile)\n",
    "#print(json.dumps(jsondata, indent=4))\n",
    "#jsonfile.close()"
   ]
  },
  {
   "cell_type": "markdown",
   "metadata": {
    "pycharm": {
     "name": "#%% md\n"
    }
   },
   "source": [
    "- Get all URLs from file"
   ]
  },
  {
   "cell_type": "code",
   "execution_count": null,
   "metadata": {
    "pycharm": {
     "name": "#%%\n"
    }
   },
   "outputs": [],
   "source": [
    "species = ['./soundFiles/TroglodytesTroglodytes/TroglodytesTroglodytesSong.json', './soundFiles/TurdusMerula/TurdusMerulaSong.json', './soundFiles/CorvusCornix/CorvusCornixCall.json', './soundFiles/CorvusCorone/CorvusCoroneCallB.json', './soundFiles/ParusMajor/ParusMajorSongB.json']\n",
    "\n",
    "# gets filenames of all instances\n",
    "jsonfile = open(species[4], \"r\")\n",
    "jsondata = json.load(jsonfile)\n",
    "recordings = jsondata[\"recordings\"]\n",
    "jsondata[\"recordings\"][0][\"gen\"]\n",
    "allrecordingfiles = []\n",
    "allFullUrls = []\n",
    "for record in recordings:\n",
    "    allrecordingfiles.append(record[\"file\"])\n",
    "\n",
    "#gets all long URLs\n",
    "for r in enumerate(allrecordingfiles):\n",
    "    newurl = str(r[1]).replace(\"//www.\", \"http://\")\n",
    "    requested_url = urllib.request.urlopen(newurl)\n",
    "    fullurl = requested_url.url\n",
    "    allFullUrls.append(fullurl)"
   ]
  },
  {
   "cell_type": "code",
   "execution_count": null,
   "metadata": {
    "pycharm": {
     "name": "#%%\n"
    }
   },
   "outputs": [],
   "source": [
    "print(len(allFullUrls))"
   ]
  },
  {
   "cell_type": "markdown",
   "metadata": {
    "pycharm": {
     "name": "#%% md\n"
    }
   },
   "source": [
    "- MP3-Dateien downloaden"
   ]
  },
  {
   "cell_type": "code",
   "execution_count": null,
   "metadata": {
    "pycharm": {
     "name": "#%%\n"
    }
   },
   "outputs": [],
   "source": [
    "#download files from URLs\n",
    "# avg. 7min/500files\n",
    "paths = [\"./soundFiles/TroglodytesTroglodytes/MP3/song/TroglodytesTroglodytesSong\", \"./soundFiles/TurdusMerula/MP3/song/TurdusMerulaSong\", \"./soundFiles/CorvusCornix/MP3/call/CorvusCornixCall\", \"./soundFiles/CorvusCorone/MP3/call/CorvusCoroneCall\", \"./soundFiles/ParusMajor/MP3/song/ParusMajorSong\"]\n",
    "\n",
    "for index, currentURL in enumerate(allFullUrls):\n",
    "    test = str(allFullUrls[index])\n",
    "    print(test)\n",
    "    requesttest = requests.get(test)\n",
    "    open(paths[4] + str(index+692) + \".mp3\", \"wb\").write(requesttest.content)"
   ]
  },
  {
   "cell_type": "code",
   "execution_count": null,
   "metadata": {
    "pycharm": {
     "name": "#%%\n"
    }
   },
   "outputs": [],
   "source": []
  },
  {
   "cell_type": "code",
   "execution_count": null,
   "metadata": {
    "pycharm": {
     "name": "#%%\n"
    }
   },
   "outputs": [],
   "source": []
  }
 ],
 "metadata": {
  "interpreter": {
   "hash": "aa9a882852ac62e17bf9b766fd20d316f23d7dc4029249375b9ccd5e4b3c823d"
  },
  "kernelspec": {
   "display_name": "Python 3 (ipykernel)",
   "language": "python",
   "name": "python3"
  },
  "language_info": {
   "codemirror_mode": {
    "name": "ipython",
    "version": 3
   },
   "file_extension": ".py",
   "mimetype": "text/x-python",
   "name": "python",
   "nbconvert_exporter": "python",
   "pygments_lexer": "ipython3",
   "version": "3.9.12"
  }
 },
 "nbformat": 4,
 "nbformat_minor": 2
}