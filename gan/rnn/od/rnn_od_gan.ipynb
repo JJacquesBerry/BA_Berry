{
 "cells": [
  {
   "cell_type": "markdown",
   "metadata": {
    "pycharm": {
     "name": "#%% md\n"
    }
   },
   "source": [
    "- Recurrent neural network - onedimensional data"
   ]
  },
  {
   "cell_type": "code",
   "execution_count": 32,
   "metadata": {
    "pycharm": {
     "name": "#%%\n"
    }
   },
   "outputs": [],
   "source": [
    "import numpy as np\n",
    "import tensorflow.keras as keras\n",
    "import pandas as pd\n",
    "import matplotlib.pyplot as plt\n",
    "import librosa"
   ]
  },
  {
   "cell_type": "markdown",
   "metadata": {
    "pycharm": {
     "name": "#%% md\n"
    }
   },
   "source": [
    "Add path to util-functions"
   ]
  },
  {
   "cell_type": "code",
   "execution_count": 33,
   "metadata": {
    "pycharm": {
     "name": "#%%\n"
    }
   },
   "outputs": [],
   "source": [
    "import sys\n",
    "sys.path.append('D:/1. Studium/7. Semester/BA/Birdvoice/utils')"
   ]
  },
  {
   "cell_type": "markdown",
   "metadata": {
    "pycharm": {
     "name": "#%% md\n"
    }
   },
   "source": [
    "The Paths to the OD-databases"
   ]
  },
  {
   "cell_type": "code",
   "execution_count": 34,
   "metadata": {
    "pycharm": {
     "name": "#%%\n"
    }
   },
   "outputs": [],
   "source": [
    "databasePathsParusMajor=['../../../dataPreprocessing/databases/od/ParusMajor/ParusMajorSongOD1.csv', '../../../dataPreprocessing/databases/od/ParusMajor/ParusMajorSongOD5.csv']\n",
    "databasePathsTurdusMerula=['../../../dataPreprocessing/databases/od/TurdusMerula/TurdusMerulaSongOD5.csv']\n",
    "databasePathsCorvusCorone=['../../../dataPreprocessing/databases/od/CorvusCorone/CorvusCoroneCallOD5.csv']"
   ]
  },
  {
   "cell_type": "markdown",
   "metadata": {
    "pycharm": {
     "name": "#%% md\n"
    }
   },
   "source": [
    "Load data from chosen path"
   ]
  },
  {
   "cell_type": "code",
   "execution_count": 35,
   "metadata": {
    "pycharm": {
     "name": "#%%\n"
    }
   },
   "outputs": [],
   "source": [
    "readSampleCount = 2000\n",
    "\n",
    "x_train_pm = pd.read_csv(databasePathsParusMajor[1], header=None, delimiter=',', index_col=None, nrows=readSampleCount).to_numpy()\n",
    "x_train_tm = pd.read_csv(databasePathsTurdusMerula[0], header=None, delimiter=',', index_col=None, nrows=readSampleCount).to_numpy()\n",
    "x_train_cc = pd.read_csv(databasePathsCorvusCorone[0], header=None, delimiter=',', index_col=None, nrows=readSampleCount).to_numpy()"
   ]
  },
  {
   "cell_type": "code",
   "execution_count": 36,
   "metadata": {
    "pycharm": {
     "name": "#%%\n"
    }
   },
   "outputs": [
    {
     "name": "stdout",
     "output_type": "stream",
     "text": [
      "(457, 55125)\n"
     ]
    }
   ],
   "source": [
    "x_train = x_train_tm\n",
    "_, AUDIO_COLS = x_train.shape\n",
    "print(x_train.shape)"
   ]
  },
  {
   "cell_type": "markdown",
   "metadata": {
    "pycharm": {
     "name": "#%% md\n"
    }
   },
   "source": [
    "Reshape the data\n",
    "- since LSTM layers are used, the training-data needs to be two-dimensionale, hence the reshaping of the data"
   ]
  },
  {
   "cell_type": "code",
   "execution_count": 37,
   "metadata": {
    "pycharm": {
     "name": "#%%\n"
    }
   },
   "outputs": [
    {
     "name": "stdout",
     "output_type": "stream",
     "text": [
      "(457, 1, 55125)\n"
     ]
    }
   ],
   "source": [
    "x_train = np.resize(x_train, (x_train.shape[0], 1, x_train.shape[1]))\n",
    "print(x_train.shape)"
   ]
  },
  {
   "cell_type": "markdown",
   "metadata": {
    "pycharm": {
     "name": "#%% md\n"
    }
   },
   "source": [
    "Create optimizer"
   ]
  },
  {
   "cell_type": "code",
   "execution_count": 38,
   "metadata": {
    "pycharm": {
     "name": "#%%\n"
    }
   },
   "outputs": [],
   "source": [
    "import tensorflow.keras as keras\n",
    "optimiser = keras.optimizers.Adamax(learning_rate=0.001, beta_1=0.9)"
   ]
  },
  {
   "cell_type": "markdown",
   "metadata": {
    "pycharm": {
     "name": "#%% md\n"
    }
   },
   "source": [
    "Create the discriminator"
   ]
  },
  {
   "cell_type": "code",
   "execution_count": 39,
   "metadata": {
    "pycharm": {
     "name": "#%%\n"
    }
   },
   "outputs": [],
   "source": [
    "from utils.discriminatorsOD import *"
   ]
  },
  {
   "cell_type": "code",
   "execution_count": 40,
   "metadata": {
    "pycharm": {
     "name": "#%%\n"
    }
   },
   "outputs": [],
   "source": [
    "discriminator = buildDiscriminator1(AUDIO_COLS)\n",
    "discriminator.compile(loss = \"binary_crossentropy\",\n",
    "                      optimizer = optimiser,\n",
    "                      metrics = \"accuracy\")"
   ]
  },
  {
   "cell_type": "markdown",
   "metadata": {
    "pycharm": {
     "name": "#%% md\n"
    }
   },
   "source": [
    "Create the generator"
   ]
  },
  {
   "cell_type": "code",
   "execution_count": 41,
   "metadata": {
    "pycharm": {
     "name": "#%%\n"
    }
   },
   "outputs": [],
   "source": [
    "from utils.generatorsOD import *"
   ]
  },
  {
   "cell_type": "code",
   "execution_count": 42,
   "metadata": {
    "pycharm": {
     "name": "#%%\n"
    }
   },
   "outputs": [],
   "source": [
    "generator = buildGenerator1(AUDIO_COLS)\n",
    "discriminator.trainable = True\n",
    "gan = keras.models.Sequential( [generator, discriminator] )\n",
    "gan.compile(loss=\"binary_crossentropy\",\n",
    "           optimizer = optimiser,\n",
    "           metrics = \"accuracy\")\n"
   ]
  },
  {
   "cell_type": "markdown",
   "metadata": {
    "pycharm": {
     "name": "#%% md\n"
    }
   },
   "source": [
    "Run the training:"
   ]
  },
  {
   "cell_type": "code",
   "execution_count": 43,
   "metadata": {
    "pycharm": {
     "name": "#%%\n"
    }
   },
   "outputs": [],
   "source": [
    "from utils.trainingOD import trainOD"
   ]
  },
  {
   "cell_type": "code",
   "execution_count": 44,
   "metadata": {
    "pycharm": {
     "name": "#%%\n"
    }
   },
   "outputs": [
    {
     "name": "stdout",
     "output_type": "stream",
     "text": [
      "Iteration: 0\n",
      "1/1 [==============================] - 1s 784ms/step\n",
      "d_loss_real: {'loss': 0.6931415796279907, 'accuracy': 0.0}\n",
      "d_loss_gen: {'loss': 0.6936550736427307, 'accuracy': 0.0}\n",
      "g_loss: [0.6932128667831421, 0.0]\n",
      "Iteration: 1\n",
      "1/1 [==============================] - 1s 823ms/step\n",
      "d_loss_real: {'loss': 0.6925194263458252, 'accuracy': 0.0}\n",
      "d_loss_gen: {'loss': 0.6959589123725891, 'accuracy': 0.0}\n",
      "g_loss: [0.6907567977905273, 0.0]\n",
      "Iteration: 2\n",
      "1/1 [==============================] - 0s 89ms/step\n",
      "d_loss_real: {'loss': 0.6920561194419861, 'accuracy': 0.0}\n",
      "d_loss_gen: {'loss': 0.6977300047874451, 'accuracy': 0.0}\n",
      "g_loss: [0.6884878277778625, 0.0]\n",
      "Iteration: 3\n",
      "1/1 [==============================] - 0s 33ms/step\n",
      "d_loss_real: {'loss': 0.6909238696098328, 'accuracy': 0.0}\n",
      "d_loss_gen: {'loss': 0.6993597149848938, 'accuracy': 0.0}\n",
      "g_loss: [0.6867597103118896, 0.0]\n",
      "Iteration: 4\n",
      "1/1 [==============================] - 0s 36ms/step\n",
      "d_loss_real: {'loss': 0.6906123161315918, 'accuracy': 0.0}\n",
      "d_loss_gen: {'loss': 0.7056400775909424, 'accuracy': 0.0}\n",
      "g_loss: [0.6836068630218506, 0.0]\n",
      "Iteration: 5\n",
      "1/1 [==============================] - 0s 32ms/step\n",
      "d_loss_real: {'loss': 0.6907750964164734, 'accuracy': 0.0}\n",
      "d_loss_gen: {'loss': 0.7075881958007812, 'accuracy': 0.0}\n",
      "g_loss: [0.682918906211853, 0.0]\n",
      "Iteration: 6\n",
      "1/1 [==============================] - 0s 35ms/step\n",
      "d_loss_real: {'loss': 0.689606785774231, 'accuracy': 0.0}\n",
      "d_loss_gen: {'loss': 0.7053101062774658, 'accuracy': 0.0}\n",
      "g_loss: [0.6818872094154358, 0.0]\n",
      "Iteration: 7\n",
      "1/1 [==============================] - 0s 31ms/step\n",
      "d_loss_real: {'loss': 0.688434898853302, 'accuracy': 0.0}\n",
      "d_loss_gen: {'loss': 0.7084988951683044, 'accuracy': 0.0}\n",
      "g_loss: [0.6806546449661255, 0.0]\n",
      "Iteration: 8\n",
      "1/1 [==============================] - 0s 31ms/step\n",
      "d_loss_real: {'loss': 0.6882971525192261, 'accuracy': 0.0}\n",
      "d_loss_gen: {'loss': 0.7082200050354004, 'accuracy': 0.0}\n",
      "g_loss: [0.6762863993644714, 0.0]\n",
      "Iteration: 9\n",
      "1/1 [==============================] - 0s 32ms/step\n",
      "d_loss_real: {'loss': 0.6876819729804993, 'accuracy': 0.0}\n",
      "d_loss_gen: {'loss': 0.7170427441596985, 'accuracy': 0.0}\n",
      "g_loss: [0.6744533181190491, 0.0]\n",
      "Iteration: 10\n",
      "1/1 [==============================] - 0s 31ms/step\n",
      "d_loss_real: {'loss': 0.6869960427284241, 'accuracy': 0.0}\n",
      "d_loss_gen: {'loss': 0.7206592559814453, 'accuracy': 0.0}\n",
      "g_loss: [0.6759081482887268, 0.0]\n",
      "Iteration: 11\n",
      "1/1 [==============================] - 0s 31ms/step\n",
      "d_loss_real: {'loss': 0.6865211129188538, 'accuracy': 0.0}\n",
      "d_loss_gen: {'loss': 0.7160801887512207, 'accuracy': 0.0}\n",
      "g_loss: [0.6750480532646179, 0.0]\n",
      "Iteration: 12\n",
      "1/1 [==============================] - 0s 32ms/step\n",
      "d_loss_real: {'loss': 0.686191976070404, 'accuracy': 0.0}\n",
      "d_loss_gen: {'loss': 0.7150857448577881, 'accuracy': 0.0}\n",
      "g_loss: [0.6745116114616394, 0.0]\n",
      "Iteration: 13\n",
      "1/1 [==============================] - 0s 32ms/step\n",
      "d_loss_real: {'loss': 0.686339795589447, 'accuracy': 0.0}\n",
      "d_loss_gen: {'loss': 0.714471161365509, 'accuracy': 0.0}\n",
      "g_loss: [0.6736920475959778, 0.0]\n",
      "Iteration: 14\n",
      "1/1 [==============================] - 0s 34ms/step\n",
      "d_loss_real: {'loss': 0.6835235953330994, 'accuracy': 0.0}\n",
      "d_loss_gen: {'loss': 0.7189701199531555, 'accuracy': 0.0}\n",
      "g_loss: [0.6737940311431885, 0.0]\n",
      "Iteration: 15\n",
      "1/1 [==============================] - 0s 31ms/step\n",
      "d_loss_real: {'loss': 0.6825206875801086, 'accuracy': 0.0}\n",
      "d_loss_gen: {'loss': 0.7208924293518066, 'accuracy': 0.0}\n",
      "g_loss: [0.6722336411476135, 0.0]\n",
      "Iteration: 16\n",
      "1/1 [==============================] - 0s 38ms/step\n",
      "d_loss_real: {'loss': 0.6826688051223755, 'accuracy': 0.0}\n",
      "d_loss_gen: {'loss': 0.7197674512863159, 'accuracy': 0.0}\n",
      "g_loss: [0.6751272678375244, 0.0]\n",
      "Iteration: 17\n",
      "1/1 [==============================] - 0s 31ms/step\n",
      "d_loss_real: {'loss': 0.6834726929664612, 'accuracy': 0.0}\n",
      "d_loss_gen: {'loss': 0.713279664516449, 'accuracy': 0.0}\n",
      "g_loss: [0.6785630583763123, 0.0]\n",
      "Iteration: 18\n",
      "1/1 [==============================] - 0s 67ms/step\n",
      "d_loss_real: {'loss': 0.6823266744613647, 'accuracy': 0.0}\n",
      "d_loss_gen: {'loss': 0.7125442028045654, 'accuracy': 0.0}\n",
      "g_loss: [0.6796020269393921, 0.0]\n",
      "Iteration: 19\n",
      "1/1 [==============================] - 0s 32ms/step\n",
      "d_loss_real: {'loss': 0.6826522350311279, 'accuracy': 0.0}\n",
      "d_loss_gen: {'loss': 0.7076781392097473, 'accuracy': 0.0}\n",
      "g_loss: [0.6876316666603088, 0.0]\n",
      "Iteration: 20\n",
      "1/1 [==============================] - 0s 30ms/step\n",
      "d_loss_real: {'loss': 0.6848288774490356, 'accuracy': 0.0}\n",
      "d_loss_gen: {'loss': 0.7025675773620605, 'accuracy': 0.0}\n",
      "g_loss: [0.6894659996032715, 0.0]\n",
      "Iteration: 21\n",
      "1/1 [==============================] - 0s 31ms/step\n",
      "d_loss_real: {'loss': 0.6423637866973877, 'accuracy': 0.0}\n",
      "d_loss_gen: {'loss': 0.7031069397926331, 'accuracy': 0.0}\n",
      "g_loss: [0.6838536262512207, 0.0]\n",
      "Iteration: 22\n",
      "1/1 [==============================] - 0s 33ms/step\n",
      "d_loss_real: {'loss': 0.6808710098266602, 'accuracy': 0.0}\n",
      "d_loss_gen: {'loss': 0.7109648585319519, 'accuracy': 0.0}\n",
      "g_loss: [0.6820406317710876, 0.0]\n",
      "Iteration: 23\n",
      "1/1 [==============================] - 0s 31ms/step\n",
      "d_loss_real: {'loss': 0.6794099807739258, 'accuracy': 0.0}\n",
      "d_loss_gen: {'loss': 0.7163260579109192, 'accuracy': 0.0}\n",
      "g_loss: [0.6677473187446594, 0.0]\n",
      "Iteration: 24\n",
      "1/1 [==============================] - 0s 32ms/step\n",
      "d_loss_real: {'loss': 0.6802183985710144, 'accuracy': 0.0}\n",
      "d_loss_gen: {'loss': 0.7276679277420044, 'accuracy': 0.0}\n",
      "g_loss: [0.6648540496826172, 0.0]\n",
      "Iteration: 25\n",
      "1/1 [==============================] - 0s 31ms/step\n",
      "d_loss_real: {'loss': 0.6781973242759705, 'accuracy': 0.0}\n",
      "d_loss_gen: {'loss': 0.742339015007019, 'accuracy': 0.0}\n",
      "g_loss: [0.6627945303916931, 0.0]\n",
      "Iteration: 26\n",
      "1/1 [==============================] - 0s 31ms/step\n",
      "d_loss_real: {'loss': 0.678283154964447, 'accuracy': 0.0}\n",
      "d_loss_gen: {'loss': 0.7433480024337769, 'accuracy': 0.0}\n",
      "g_loss: [0.6632997989654541, 0.0]\n",
      "Iteration: 27\n",
      "1/1 [==============================] - 0s 30ms/step\n",
      "d_loss_real: {'loss': 0.677034854888916, 'accuracy': 0.0}\n",
      "d_loss_gen: {'loss': 0.7226006388664246, 'accuracy': 0.0}\n",
      "g_loss: [0.6608538031578064, 0.0]\n",
      "Iteration: 28\n",
      "1/1 [==============================] - 0s 32ms/step\n",
      "d_loss_real: {'loss': 0.6758670806884766, 'accuracy': 0.0}\n",
      "d_loss_gen: {'loss': 0.7408329248428345, 'accuracy': 0.0}\n",
      "g_loss: [0.6712667346000671, 0.0]\n",
      "Iteration: 29\n",
      "1/1 [==============================] - 0s 30ms/step\n",
      "d_loss_real: {'loss': 0.675814688205719, 'accuracy': 0.0}\n",
      "d_loss_gen: {'loss': 0.7636109590530396, 'accuracy': 0.0}\n",
      "g_loss: [0.6684746146202087, 0.0]\n",
      "Iteration: 30\n",
      "1/1 [==============================] - 0s 31ms/step\n",
      "d_loss_real: {'loss': 0.6760544180870056, 'accuracy': 0.0}\n",
      "d_loss_gen: {'loss': 0.7424329519271851, 'accuracy': 0.0}\n",
      "g_loss: [0.688606321811676, 0.0]\n",
      "Iteration: 31\n",
      "1/1 [==============================] - 0s 32ms/step\n",
      "d_loss_real: {'loss': 0.6765252351760864, 'accuracy': 0.0}\n",
      "d_loss_gen: {'loss': 0.7186490297317505, 'accuracy': 0.0}\n",
      "g_loss: [0.6891247034072876, 0.0]\n",
      "Iteration: 32\n",
      "1/1 [==============================] - 0s 30ms/step\n",
      "d_loss_real: {'loss': 0.6762077808380127, 'accuracy': 0.0}\n",
      "d_loss_gen: {'loss': 0.7031078338623047, 'accuracy': 0.0}\n",
      "g_loss: [0.6934706568717957, 0.0]\n",
      "Iteration: 33\n",
      "1/1 [==============================] - 0s 30ms/step\n",
      "d_loss_real: {'loss': 0.6766089200973511, 'accuracy': 0.0}\n",
      "d_loss_gen: {'loss': 0.684980034828186, 'accuracy': 0.0}\n",
      "g_loss: [0.7084565758705139, 0.0]\n",
      "Iteration: 34\n",
      "1/1 [==============================] - 0s 30ms/step\n",
      "d_loss_real: {'loss': 0.6960324048995972, 'accuracy': 0.0}\n",
      "d_loss_gen: {'loss': 0.6765167117118835, 'accuracy': 0.0}\n",
      "g_loss: [0.7081385254859924, 0.0]\n",
      "Iteration: 35\n",
      "1/1 [==============================] - 0s 30ms/step\n",
      "d_loss_real: {'loss': 0.6766735911369324, 'accuracy': 0.0}\n",
      "d_loss_gen: {'loss': 0.6787893772125244, 'accuracy': 0.0}\n",
      "g_loss: [0.716812789440155, 0.0]\n",
      "Iteration: 36\n",
      "1/1 [==============================] - 0s 30ms/step\n",
      "d_loss_real: {'loss': 0.6766032576560974, 'accuracy': 0.0}\n",
      "d_loss_gen: {'loss': 0.6757064461708069, 'accuracy': 0.0}\n",
      "g_loss: [0.7348244786262512, 0.0]\n",
      "Iteration: 37\n",
      "1/1 [==============================] - 0s 31ms/step\n",
      "d_loss_real: {'loss': 0.6757456064224243, 'accuracy': 0.0}\n",
      "d_loss_gen: {'loss': 0.6844297051429749, 'accuracy': 0.0}\n",
      "g_loss: [0.69490647315979, 0.0]\n",
      "Iteration: 38\n",
      "1/1 [==============================] - 0s 32ms/step\n",
      "d_loss_real: {'loss': 0.6758114099502563, 'accuracy': 0.0}\n",
      "d_loss_gen: {'loss': 0.6792657375335693, 'accuracy': 0.0}\n",
      "g_loss: [0.7109574675559998, 0.0]\n",
      "Iteration: 39\n",
      "1/1 [==============================] - 0s 30ms/step\n",
      "d_loss_real: {'loss': 0.6751546263694763, 'accuracy': 0.0}\n",
      "d_loss_gen: {'loss': 0.6921244263648987, 'accuracy': 0.0}\n",
      "g_loss: [0.7037433385848999, 0.0]\n",
      "Iteration: 40\n",
      "1/1 [==============================] - 0s 30ms/step\n",
      "d_loss_real: {'loss': 0.6744917631149292, 'accuracy': 0.0}\n",
      "d_loss_gen: {'loss': 0.6901801228523254, 'accuracy': 0.0}\n",
      "g_loss: [0.6996180415153503, 0.0]\n",
      "Iteration: 41\n",
      "1/1 [==============================] - 0s 34ms/step\n",
      "d_loss_real: {'loss': 0.673922061920166, 'accuracy': 0.0}\n",
      "d_loss_gen: {'loss': 0.6915912628173828, 'accuracy': 0.0}\n",
      "g_loss: [0.6942945122718811, 0.0]\n",
      "Iteration: 42\n",
      "1/1 [==============================] - 0s 31ms/step\n",
      "d_loss_real: {'loss': 0.6729722023010254, 'accuracy': 0.0}\n",
      "d_loss_gen: {'loss': 0.6946865320205688, 'accuracy': 0.0}\n",
      "g_loss: [0.6972848773002625, 0.0]\n",
      "Iteration: 43\n",
      "1/1 [==============================] - 0s 38ms/step\n",
      "d_loss_real: {'loss': 0.6722540259361267, 'accuracy': 0.0}\n",
      "d_loss_gen: {'loss': 0.698243260383606, 'accuracy': 0.0}\n",
      "g_loss: [0.7003405690193176, 0.0]\n",
      "Iteration: 44\n",
      "1/1 [==============================] - 0s 30ms/step\n",
      "d_loss_real: {'loss': 0.6709369421005249, 'accuracy': 0.0}\n",
      "d_loss_gen: {'loss': 0.6984930038452148, 'accuracy': 0.0}\n",
      "g_loss: [0.680819571018219, 0.0]\n",
      "Iteration: 45\n",
      "1/1 [==============================] - 0s 32ms/step\n",
      "d_loss_real: {'loss': 0.6725072264671326, 'accuracy': 0.0}\n",
      "d_loss_gen: {'loss': 0.7083357572555542, 'accuracy': 0.0}\n",
      "g_loss: [0.6869146823883057, 0.0]\n",
      "Iteration: 46\n",
      "1/1 [==============================] - 0s 32ms/step\n",
      "d_loss_real: {'loss': 0.6690417528152466, 'accuracy': 0.0}\n",
      "d_loss_gen: {'loss': 0.7155488729476929, 'accuracy': 0.0}\n",
      "g_loss: [0.6781468987464905, 0.0]\n",
      "Iteration: 47\n",
      "1/1 [==============================] - 0s 32ms/step\n",
      "d_loss_real: {'loss': 0.6691799163818359, 'accuracy': 0.0}\n",
      "d_loss_gen: {'loss': 0.7120482325553894, 'accuracy': 0.0}\n",
      "g_loss: [0.6777139902114868, 0.0]\n",
      "Iteration: 48\n",
      "1/1 [==============================] - 0s 31ms/step\n",
      "d_loss_real: {'loss': 0.6687842011451721, 'accuracy': 0.0}\n",
      "d_loss_gen: {'loss': 0.7331236004829407, 'accuracy': 0.0}\n",
      "g_loss: [0.6645313501358032, 0.0]\n",
      "Iteration: 49\n",
      "1/1 [==============================] - 0s 33ms/step\n",
      "d_loss_real: {'loss': 0.6676822304725647, 'accuracy': 0.0}\n",
      "d_loss_gen: {'loss': 0.7327408790588379, 'accuracy': 0.0}\n",
      "g_loss: [0.6589418053627014, 0.0]\n"
     ]
    }
   ],
   "source": [
    "ITERATIONS = 50\n",
    "BATCH_SIZE = 1\n",
    "\n",
    "trainOD(iterations=ITERATIONS, batch_size=BATCH_SIZE, generator=generator, discriminator=discriminator, network=gan, data=x_train, columnCount=AUDIO_COLS)"
   ]
  },
  {
   "cell_type": "markdown",
   "metadata": {
    "pycharm": {
     "name": "#%% md\n"
    }
   },
   "source": [
    "Test of generator after training"
   ]
  },
  {
   "cell_type": "code",
   "execution_count": 45,
   "metadata": {
    "pycharm": {
     "name": "#%%\n"
    }
   },
   "outputs": [
    {
     "name": "stdout",
     "output_type": "stream",
     "text": [
      "1/1 [==============================] - 0s 30ms/step\n"
     ]
    },
    {
     "data": {
      "text/plain": [
       "[<matplotlib.lines.Line2D at 0x23d885e6048>]"
      ]
     },
     "execution_count": 45,
     "metadata": {},
     "output_type": "execute_result"
    },
    {
     "data": {
      "image/png": "[encoded data removed]",
      "text/plain": [
       "<Figure size 1200x600 with 1 Axes>"
      ]
     },
     "metadata": {},
     "output_type": "display_data"
    },
    {
     "data": {
      "image/png": "[encoded data removed]",
      "text/plain": [
       "<Figure size 1200x600 with 1 Axes>"
      ]
     },
     "metadata": {},
     "output_type": "display_data"
    }
   ],
   "source": [
    "noise = np.random.normal(0,0.01, (1, 1, AUDIO_COLS))  \n",
    "fake_audios = generator.predict(noise)\n",
    "reshaped_fake_audio = np.reshape(fake_audios, (AUDIO_COLS))\n",
    "\n",
    "stftdata = librosa.stft(reshaped_fake_audio)\n",
    "glAudio = librosa.griffinlim(stftdata)\n",
    "\n",
    "#first sample\n",
    "plt.figure(figsize=(12, 6))\n",
    "plt.plot(reshaped_fake_audio[0:11025])\n",
    "\n",
    "#first sample - griffin-lim\n",
    "plt.figure(figsize=(12, 6))\n",
    "plt.plot(glAudio[0:11025])"
   ]
  },
  {
   "cell_type": "markdown",
   "metadata": {
    "pycharm": {
     "name": "#%% md\n"
    }
   },
   "source": [
    "Save generated data to files"
   ]
  },
  {
   "cell_type": "code",
   "execution_count": 46,
   "metadata": {
    "pycharm": {
     "name": "#%%\n"
    }
   },
   "outputs": [],
   "source": [
    "import soundfile as sf\n",
    "\n",
    "sf.write(\"tm5g1d1gen50.wav\", reshaped_fake_audio, 11025)\n",
    "sf.write(\"tm5g1d1gl50.wav\", glAudio, 11025)"
   ]
  }
 ],
 "metadata": {
  "interpreter": {
   "hash": "aa9a882852ac62e17bf9b766fd20d316f23d7dc4029249375b9ccd5e4b3c823d"
  },
  "kernelspec": {
   "display_name": "Python 3 (ipykernel)",
   "language": "python",
   "name": "python3"
  },
  "language_info": {
   "codemirror_mode": {
    "name": "ipython",
    "version": 3
   },
   "file_extension": ".py",
   "mimetype": "text/x-python",
   "name": "python",
   "nbconvert_exporter": "python",
   "pygments_lexer": "ipython3",
   "version": "3.8.10"
  }
 },
 "nbformat": 4,
 "nbformat_minor": 2
}
