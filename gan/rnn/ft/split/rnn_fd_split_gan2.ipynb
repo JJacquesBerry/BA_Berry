{
 "cells": [
  {
   "cell_type": "markdown",
   "metadata": {
    "pycharm": {
     "name": "#%% md\n"
    }
   },
   "source": [
    "- RNN-GAN - fourier-transformed audiodata - split complex number values"
   ]
  },
  {
   "cell_type": "code",
   "execution_count": 1,
   "metadata": {
    "pycharm": {
     "name": "#%%\n"
    }
   },
   "outputs": [],
   "source": [
    "import numpy as np\n",
    "import tensorflow.keras as keras\n",
    "import pandas as pd\n",
    "import librosa\n",
    "import matplotlib.pyplot as plt\n",
    "import soundfile as sf"
   ]
  },
  {
   "cell_type": "markdown",
   "metadata": {
    "pycharm": {
     "name": "#%% md\n"
    }
   },
   "source": [
    "Add path to util-functions"
   ]
  },
  {
   "cell_type": "code",
   "execution_count": 2,
   "metadata": {
    "pycharm": {
     "name": "#%%\n"
    }
   },
   "outputs": [],
   "source": [
    "import sys\n",
    "sys.path.append('D:/1. Studium/7. Semester/BA/Birdvoice/utils')"
   ]
  },
  {
   "cell_type": "markdown",
   "metadata": {
    "pycharm": {
     "name": "#%% md\n"
    }
   },
   "source": [
    "The Paths to the FT-databases"
   ]
  },
  {
   "cell_type": "code",
   "execution_count": 3,
   "metadata": {
    "pycharm": {
     "name": "#%%\n"
    }
   },
   "outputs": [],
   "source": [
    "databasePathsParusMajor=['../../../../dataPreprocessing/databases/ft/parusMajor/ParusMajorSongFT1.csv', '../../../../dataPreprocessing/databases/ft/parusMajor/ParusMajorSongFT5.csv']\n",
    "databasePathsTurdusMerula=['../../../../dataPreprocessing/databases/ft/turdusMerula/TurdusMerulaSongFT5.csv']\n",
    "databasePathsCorvusCorone=['../../../../dataPreprocessing/databases/ft/corvusCorone/CorvusCoroneCallFT5.csv']"
   ]
  },
  {
   "cell_type": "markdown",
   "metadata": {
    "pycharm": {
     "name": "#%% md\n"
    }
   },
   "source": [
    "Load data from chosen path"
   ]
  },
  {
   "cell_type": "code",
   "execution_count": 4,
   "metadata": {
    "pycharm": {
     "name": "#%%\n"
    }
   },
   "outputs": [
    {
     "name": "stdout",
     "output_type": "stream",
     "text": [
      "[[['(-0.014772154+0j)' '(-0.0073714806+0j)' '(6.789393e-05+0j)' ...\n",
      "   '(-0.00012515683+0j)' '(0.00028530793+0j)' '(0.006124617+0j)']\n",
      "  ['(0.01472751-2.4733362e-18j)' '(4.2481588e-05+0.0074026017j)'\n",
      "   '(-5.7866713e-05+3.6582183e-05j)' ...\n",
      "   '(1.9505971e-05-0.00016416561j)' '(0.00073923275+0.00028742355j)'\n",
      "   '(-0.0031299691+0.0055543547j)']\n",
      "  ['(-0.01462455+2.99936e-18j)' '(0.0072760386-6.0696326e-05j)'\n",
      "   '(2.1559532e-05+4.351068e-05j)' ... '(2.3055427e-05+7.0379814e-05j)'\n",
      "   '(0.00011017384+0.0005063219j)' '(-0.0030036345-0.0055081j)']\n",
      "  ...\n",
      "  ['(6.613875e-05-1.3730567e-18j)' '(-4.590701e-05+6.8263744e-06j)'\n",
      "   '(1.11812105e-05-2.2286069e-05j)' ... '(-5.023377e-06-3.816736e-06j)'\n",
      "   '(1.630423e-05-3.9252092e-05j)' '(-0.00019118945+0.00035524156j)']\n",
      "  ['(-5.9319264e-05+1.1587411e-18j)' '(1.9876964e-06+2.1362228e-05j)'\n",
      "   '(-6.3429875e-06+3.6729007e-06j)' ...\n",
      "   '(-9.604153e-08+1.1872922e-06j)' '(3.3583612e-05-2.0382422e-05j)'\n",
      "   '(-0.00020787139-0.000354218j)']\n",
      "  ['(5.402969e-05+0j)' '(3.1630716e-05+0j)' '(6.526714e-06+0j)' ...\n",
      "   '(-2.5421917e-07+0j)' '(3.632221e-05+0j)' '(0.00041093497+0j)']]\n",
      "\n",
      " [['(-0.004306249+0j)' '(-0.002116156+0j)' '(6.486593e-05+0j)' ...\n",
      "   '(-4.1355644e-05+0j)' '(0.00041667128+0j)' '(0.0045121056+0j)']\n",
      "  ['(0.004374379+4.654446e-18j)' '(-5.8891495e-05+0.0021875936j)'\n",
      "   '(-4.4254313e-05-2.3602663e-06j)' ...\n",
      "   '(-1.2598817e-05+5.610284e-05j)' '(0.00034250767+0.0002002107j)'\n",
      "   '(-0.0022584337+0.003896263j)']\n",
      "  ['(-0.004493104-4.0590146e-18j)' '(0.002261053+6.596778e-05j)'\n",
      "   '(1.1876294e-05-8.501665e-05j)' ... '(9.9722354e-05+6.585556e-05j)'\n",
      "   '(0.00026071657+0.00030827906j)' '(-0.0022887792-0.003958707j)']\n",
      "  ...\n",
      "  ['(0.00032178411-7.111801e-20j)' '(-0.0001700632+2.287219e-05j)'\n",
      "   '(6.8119616e-06-2.8868479e-05j)' ... '(8.199424e-06-5.320748e-07j)'\n",
      "   '(-3.59691e-05-2.3198896e-05j)' '(0.000117057105-0.00014701924j)']\n",
      "  ['(-0.000294021+3.0281428e-18j)' '(7.5480325e-06+0.00013750201j)'\n",
      "   '(-5.1901334e-06+5.4080306e-06j)' ...\n",
      "   '(-1.9840143e-05+2.0937574e-05j)' '(2.9223322e-05+4.0121737e-05j)'\n",
      "   '(0.00012988379+0.00014639j)']\n",
      "  ['(0.0002830128+0j)' '(0.00014459334+0j)' '(2.4010037e-06+0j)' ...\n",
      "   '(8.362102e-08+0j)' '(-6.9204376e-05+0j)' '(-0.0002564163+0j)']]\n",
      "\n",
      " [['(-0.0026059425+0j)' '(-0.0012975964+0j)' '(1.9504265e-05+0j)' ...\n",
      "   '(0.00012487419+0j)' '(0.00019103153+0j)' '(7.2438124e-05+0j)']\n",
      "  ['(0.002497137+1.1011428e-18j)' '(0.00010077288+0.0013079542j)'\n",
      "   '(-0.000102074766+6.13508e-06j)' ... '(-3.583501e-05+4.255702e-05j)'\n",
      "   '(-0.00017567571+2.3090768e-05j)' '(-1.1092048e-06-0.00013866735j)']\n",
      "  ['(-0.002428682-4.1745283e-18j)' '(0.0010789043+2.1702303e-05j)'\n",
      "   '(0.00023490976+3.0856412e-05j)' ... '(-5.987656e-05+9.006739e-05j)'\n",
      "   '(0.0001702135-7.5897275e-05j)' '(-7.989944e-05+7.109404e-05j)']\n",
      "  ...\n",
      "  ['(-0.0010661137-2.9727357e-18j)' '(0.0002831911+0.00024107078j)'\n",
      "   '(0.00032372255-0.0003582229j)' ... '(-5.546197e-05-7.523697e-05j)'\n",
      "   '(0.00024204358+0.00022637784j)' '(2.4100167e-05-0.00052849983j)']\n",
      "  ['(0.0011322835-3.5067164e-18j)' '(-0.000112438196-0.0008611321j)'\n",
      "   '(-0.0004220507+0.0001677159j)' ... '(3.732179e-05-5.6495068e-05j)'\n",
      "   '(-0.0002783155-2.4479783e-05j)' '(0.00027261814+0.00062463543j)']\n",
      "  ['(-0.0010882566+0j)' '(-0.00023776598+0j)' '(0.00045504185+0j)' ...\n",
      "   '(0.00011454797+0j)' '(0.00016846998+0j)' '(-0.00043640737+0j)']]\n",
      "\n",
      " ...\n",
      "\n",
      " [['(-0.002043168283515754+0j)' '(-0.0010101213737209493+0j)'\n",
      "   '(3.007354207593127e-05+0j)' ... '(2.8687787641473207e-05+0j)'\n",
      "   '(-0.00013758287668437248+0j)' '(-0.0008663406920869266+0j)']\n",
      "  ['(0.0020571910716561215+1.5585406229479126e-17j)'\n",
      "   '(-1.8582495532315653e-05+0.0010316077319604774j)'\n",
      "   '(-3.23538233562985e-06+7.20593951459537e-06j)' ...\n",
      "   '(-2.8433379290031322e-05-8.38772836219642e-05j)'\n",
      "   '(3.183746591224593e-05-3.907736246074668e-05j)'\n",
      "   '(0.0003999156879783388-0.0006892544789535802j)']\n",
      "  ['(-0.002059369860175887-1.9708729860282443e-17j)'\n",
      "   '(0.0010412991164944754-2.504303892655532e-05j)'\n",
      "   '(-4.3035586493017384e-05+4.6618651853486655e-06j)' ...\n",
      "   '(4.069432409864183e-05-2.2850842859362924e-05j)'\n",
      "   '(-0.00018353675589702955-4.137269492976381e-05j)'\n",
      "   '(0.0005334867214812164+0.000767849723119804j)']\n",
      "  ...\n",
      "  ['(0.002116275459216311+5.807225129944866e-18j)'\n",
      "   '(-0.0010673760261962822+7.667308395967534e-05j)'\n",
      "   '(5.737314115133981e-05-6.803076814030634e-05j)' ...\n",
      "   '(-4.7443347213589626e-05+0.00014662444411897454j)'\n",
      "   '(-9.976957167082576e-05+9.776943718598257e-05j)'\n",
      "   '(0.001214798261609023-0.0021127032115807283j)']\n",
      "  ['(-0.002067459433456219-7.291259609965017e-18j)'\n",
      "   '(-2.6370412472009734e-05+0.0009907970902262538j)'\n",
      "   '(-5.486032720288943e-05+8.660037797840575e-05j)' ...\n",
      "   '(9.410683727732109e-06-7.9149892940481e-05j)'\n",
      "   '(-0.00026317761310791217+0.00013690825887830864j)'\n",
      "   '(0.0012127153621014901+0.002110651124346847j)']\n",
      "  ['(0.0020868964249235768+0j)' '(0.0010918203179196041+0j)'\n",
      "   '(1.4240252694502908e-05+0j)' ... '(2.9899139435767517e-05+0j)'\n",
      "   '(-0.00013796733616970851+0j)' '(-0.0023842965812772943+0j)']]\n",
      "\n",
      " [['(-0.00044842879907527975+0j)' '(-0.0002100473894715185+0j)'\n",
      "   '(1.1901255383400117e-06+0j)' ... '(2.1862136119486873e-05+0j)'\n",
      "   '(-0.0001366068415340851+0j)' '(-0.0013715566255377877+0j)']\n",
      "  ['(0.0004711764764978011-5.987675904140649e-18j)'\n",
      "   '(-3.086279202628316e-05+0.00024126563325979448j)'\n",
      "   '(6.944785360391185e-06-2.6492589108011528e-05j)' ...\n",
      "   '(-6.634897574219222e-06-6.28821966470284e-05j)'\n",
      "   '(-0.00010379193137359025-3.666282321626672e-05j)'\n",
      "   '(0.0006964507613116339-0.0011935129604608605j)']\n",
      "  ['(-0.0004747201596797426+2.0718425889840186e-18j)'\n",
      "   '(0.0002456980034950876-3.138421929670741e-05j)'\n",
      "   '(-4.4066358577228736e-05+4.5473504793333195e-05j)' ...\n",
      "   '(4.299482678239343e-05+0.0001357768467831776j)'\n",
      "   '(1.796517693552402e-06-0.0002504830854056006j)'\n",
      "   '(0.0005504224487718745+0.0011872020965523343j)']\n",
      "  ...\n",
      "  ['(-0.004882622370507858+1.7330294100822985e-18j)'\n",
      "   '(0.002419969913889648-1.7376813213120606e-05j)'\n",
      "   '(6.294648996622842e-06+6.836599636896371e-05j)' ...\n",
      "   '(-4.866270169679391e-05+7.758059340463729e-05j)'\n",
      "   '(0.00011286636136432419-0.0001620659553698576j)'\n",
      "   '(-0.00039544230753872715+0.0006821721024951995j)']\n",
      "  ['(0.004923596904029973-1.0003459107073287e-18j)'\n",
      "   '(5.9985705264675534e-05-0.0024595231275611933j)'\n",
      "   '(-2.7318200088023375e-05-7.848802023840333e-05j)' ...\n",
      "   '(5.63893459129302e-06-6.544099873419217e-05j)'\n",
      "   '(1.358685321103971e-05+4.4653517911003486e-05j)'\n",
      "   '(-0.00027055205491964465-0.0006012599435473351j)']\n",
      "  ['(-0.004977411261029563+0j)' '(-0.0025133248808035555+0j)'\n",
      "   '(2.483976256217532e-05+0j)' ... '(9.217488570947754e-06+0j)'\n",
      "   '(6.0497201120091135e-05+0j)' '(0.0006169580040296108+0j)']]\n",
      "\n",
      " [['(0.0014445820816914702+0j)' '(0.0006320606120218549+0j)'\n",
      "   '(-0.00011047402028725554+0j)' ... '(-3.5950944483442715e-05+0j)'\n",
      "   '(0.00035646494607680275+0j)' '(0.0038305582541346642+0j)']\n",
      "  ['(-0.0015236320478995474+1.0057192759664732e-18j)'\n",
      "   '(9.029049062121057e-05-0.0008168565665350515j)'\n",
      "   '(7.535902028173574e-05+7.40645174213945e-05j)' ...\n",
      "   '(1.963689659987693e-05+4.598170113757849e-05j)'\n",
      "   '(0.0002921596679444651+0.0001786006297397879j)'\n",
      "   '(-0.001928699675834084+0.003293478278290793j)']\n",
      "  ['(0.0015276545475419222+2.393063456014903e-18j)'\n",
      "   '(-0.000774861248153344+9.227321009177358e-05j)'\n",
      "   '(1.4491095255022681e-05-7.583882694929629e-05j)' ...\n",
      "   '(6.102232108021993e-05-3.154769784777134e-05j)'\n",
      "   '(0.00017347738508976122+0.0002868256332154487j)'\n",
      "   '(-0.0018810338165329375-0.0033184100565458127j)']\n",
      "  ...\n",
      "  ['(0.0013833547524428709-1.8810320393996783e-18j)'\n",
      "   '(-0.0006482536075280503+2.3929445927096946e-05j)'\n",
      "   '(-0.00010160506923027577-1.4496327407661853e-05j)' ...\n",
      "   '(-0.00011844793579817686-0.0001504645390198063j)'\n",
      "   '(-2.7254869224367743e-05+0.00030954664775207394j)'\n",
      "   '(0.0012511650311818933-0.0022847559083638996j)']\n",
      "  ['(-0.0013863871883992745-2.4280728828636553e-19j)'\n",
      "   '(-3.0919564656194536e-05+0.0007077858146809873j)'\n",
      "   '(3.970743918350229e-05-2.3992430264945512e-05j)' ...\n",
      "   '(0.00011306106355903485+5.6782667532145336e-05j)'\n",
      "   '(-0.00019088050743608495+6.801537687213755e-06j)'\n",
      "   '(0.0012881175535551014+0.0022606270090747395j)']\n",
      "  ['(0.0014184831618834224+0j)' '(0.0007097558179230815+0j)'\n",
      "   '(2.976027528974086e-05+0j)' ... '(-0.00012921532906212674+0j)'\n",
      "   '(-0.00030551987907645635+0j)' '(-0.0025744296073432083+0j)']]]\n"
     ]
    }
   ],
   "source": [
    "readSampleCount = 500\n",
    "\n",
    "#number of columns per dataset-sample for\n",
    "ONE_SECOND = 22\n",
    "FIVE_SECONDS = 108\n",
    "\n",
    "#load and reshape data\n",
    "x_train = pd.read_csv(databasePathsTurdusMerula[0], header=None, delimiter=',', index_col=None, nrows=readSampleCount).to_numpy()\n",
    "x_train = np.reshape(x_train, [readSampleCount, 1025, FIVE_SECONDS])\n",
    "print(x_train)\n",
    "\n",
    "#change datatype to complex128 and expand one dim\n",
    "x_train = x_train.astype('complex128')\n",
    "\n",
    "SAMPLE_COUNT, AUDIO_ROWS, AUDIO_COLS = x_train.shape"
   ]
  },
  {
   "cell_type": "markdown",
   "metadata": {
    "pycharm": {
     "name": "#%% md\n"
    }
   },
   "source": [
    "TODO: replace value and insert imaginary part after that"
   ]
  },
  {
   "cell_type": "code",
   "execution_count": 5,
   "metadata": {
    "pycharm": {
     "name": "#%%\n"
    }
   },
   "outputs": [],
   "source": [
    "combinedArray = np.empty((readSampleCount, 1025, AUDIO_COLS*2), dtype=np.float32)\n",
    "\n",
    "#split the compiles data for all numbers\n",
    "for lineIndex in range(SAMPLE_COUNT):\n",
    "    for rowIndex in range(AUDIO_ROWS):\n",
    "        for colIndex in range(AUDIO_COLS):\n",
    "            combinedArray[lineIndex][rowIndex][colIndex*2] = x_train[lineIndex][rowIndex][colIndex].real\n",
    "            combinedArray[lineIndex][rowIndex][colIndex*2+1] = x_train[lineIndex][rowIndex][colIndex].imag"
   ]
  },
  {
   "cell_type": "code",
   "execution_count": 6,
   "metadata": {
    "pycharm": {
     "name": "#%%\n"
    }
   },
   "outputs": [],
   "source": [
    "x_train = combinedArray.copy()\n",
    "SAMPLE_COUNT, AUDIO_ROWS, AUDIO_COMBINED = x_train.shape"
   ]
  },
  {
   "cell_type": "markdown",
   "metadata": {
    "pycharm": {
     "name": "#%% md\n"
    }
   },
   "source": [
    "Create optimizer"
   ]
  },
  {
   "cell_type": "code",
   "execution_count": 7,
   "metadata": {
    "pycharm": {
     "name": "#%%\n"
    }
   },
   "outputs": [],
   "source": [
    "optimiser = keras.optimizers.Adam(0.002, 0.5)"
   ]
  },
  {
   "cell_type": "markdown",
   "metadata": {
    "pycharm": {
     "name": "#%% md\n"
    }
   },
   "source": [
    "Create the discriminator"
   ]
  },
  {
   "cell_type": "code",
   "execution_count": 8,
   "metadata": {
    "pycharm": {
     "name": "#%%\n"
    }
   },
   "outputs": [],
   "source": [
    "from utils.discriminatorsFT import *"
   ]
  },
  {
   "cell_type": "code",
   "execution_count": 9,
   "metadata": {
    "pycharm": {
     "name": "#%%\n"
    }
   },
   "outputs": [],
   "source": [
    "discriminator = buildDiscriminator1(AUDIO_ROWS, AUDIO_COMBINED)\n",
    "discriminator.compile(loss = \"binary_crossentropy\",\n",
    "                      optimizer = optimiser,\n",
    "                      metrics = \"accuracy\")"
   ]
  },
  {
   "cell_type": "markdown",
   "metadata": {
    "pycharm": {
     "name": "#%% md\n"
    }
   },
   "source": [
    "Create the generator and GAN"
   ]
  },
  {
   "cell_type": "code",
   "execution_count": 10,
   "metadata": {
    "pycharm": {
     "name": "#%%\n"
    }
   },
   "outputs": [],
   "source": [
    "from utils.generatorsFT import *"
   ]
  },
  {
   "cell_type": "code",
   "execution_count": 11,
   "metadata": {
    "pycharm": {
     "name": "#%%\n"
    }
   },
   "outputs": [
    {
     "name": "stdout",
     "output_type": "stream",
     "text": [
      "True\n"
     ]
    }
   ],
   "source": [
    "generator = buildGenerator4(AUDIO_ROWS, AUDIO_COMBINED)\n",
    "\n",
    "print(discriminator.trainable)\n",
    "discriminator.trainable = False\n",
    "gan = keras.models.Sequential( [generator, discriminator] )\n",
    "gan.compile(loss=\"binary_crossentropy\",\n",
    "           optimizer = optimiser,\n",
    "           metrics = \"accuracy\")\n"
   ]
  },
  {
   "cell_type": "markdown",
   "metadata": {
    "pycharm": {
     "name": "#%% md\n"
    }
   },
   "source": [
    "Run the training:"
   ]
  },
  {
   "cell_type": "code",
   "execution_count": 12,
   "metadata": {
    "pycharm": {
     "name": "#%%\n"
    }
   },
   "outputs": [],
   "source": [
    "from utils.trainingFT import trainFT"
   ]
  },
  {
   "cell_type": "code",
   "execution_count": 13,
   "metadata": {
    "pycharm": {
     "name": "#%%\n"
    }
   },
   "outputs": [
    {
     "name": "stdout",
     "output_type": "stream",
     "text": [
      "Iteration: 0\n",
      "1/1 [==============================] - 5s 5s/step\n",
      "d_loss_real: {'loss': 0.709528386592865, 'accuracy': 0.0039024390280246735}\n",
      "d_loss_gen: {'loss': 0.696527898311615, 'accuracy': 0.0009756097570061684}\n",
      "g_loss: [0.6914082765579224, 0.00585365854203701]\n",
      "Iteration: 1\n",
      "1/1 [==============================] - 5s 5s/step\n",
      "d_loss_real: {'loss': 0.6918426156044006, 'accuracy': 0.0009756097570061684}\n",
      "d_loss_gen: {'loss': 0.700383186340332, 'accuracy': 0.0019512195140123367}\n",
      "g_loss: [0.6932994723320007, 0.0]\n",
      "Iteration: 2\n",
      "1/1 [==============================] - 5s 5s/step\n",
      "d_loss_real: {'loss': 0.695877194404602, 'accuracy': 0.007804878056049347}\n",
      "d_loss_gen: {'loss': 0.7016019821166992, 'accuracy': 0.0}\n",
      "g_loss: [0.6935982704162598, 0.0]\n",
      "Iteration: 3\n",
      "1/1 [==============================] - 5s 5s/step\n",
      "d_loss_real: {'loss': 0.6934005618095398, 'accuracy': 0.007804878056049347}\n",
      "d_loss_gen: {'loss': 0.7108813524246216, 'accuracy': 0.0}\n",
      "g_loss: [0.7022660970687866, 0.0]\n",
      "Iteration: 4\n",
      "1/1 [==============================] - 5s 5s/step\n",
      "d_loss_real: {'loss': 0.6931449770927429, 'accuracy': 0.0009756097570061684}\n",
      "d_loss_gen: {'loss': 0.7306527495384216, 'accuracy': 0.0}\n",
      "g_loss: [0.7517762184143066, 0.0]\n",
      "Iteration: 5\n",
      "1/1 [==============================] - 5s 5s/step\n",
      "d_loss_real: {'loss': 0.6965413689613342, 'accuracy': 0.004878048785030842}\n",
      "d_loss_gen: {'loss': 0.7919080257415771, 'accuracy': 0.0}\n",
      "g_loss: [0.733156144618988, 0.0]\n",
      "Iteration: 6\n",
      "1/1 [==============================] - 5s 5s/step\n",
      "d_loss_real: {'loss': 0.7047287225723267, 'accuracy': 0.0039024390280246735}\n",
      "d_loss_gen: {'loss': 0.7220491766929626, 'accuracy': 0.0}\n",
      "g_loss: [0.7337380647659302, 0.0]\n",
      "Iteration: 7\n",
      "1/1 [==============================] - 5s 5s/step\n",
      "d_loss_real: {'loss': 0.7034227252006531, 'accuracy': 0.0039024390280246735}\n",
      "d_loss_gen: {'loss': 0.6966439485549927, 'accuracy': 0.0}\n",
      "g_loss: [0.8497949838638306, 0.018536584451794624]\n",
      "Iteration: 8\n",
      "1/1 [==============================] - 5s 5s/step\n",
      "d_loss_real: {'loss': 0.6914997100830078, 'accuracy': 0.002926829271018505}\n",
      "d_loss_gen: {'loss': 1.6032345294952393, 'accuracy': 0.0}\n",
      "g_loss: [0.8105612397193909, 0.008780487813055515]\n",
      "Iteration: 9\n",
      "1/1 [==============================] - 5s 5s/step\n",
      "d_loss_real: {'loss': 0.6929044723510742, 'accuracy': 0.00585365854203701}\n",
      "d_loss_gen: {'loss': 0.9839053153991699, 'accuracy': 0.0}\n",
      "g_loss: [1.7656347751617432, 0.0]\n",
      "Generator:\n",
      "Model: \"sequential_1\"\n",
      "_________________________________________________________________\n",
      " Layer (type)                Output Shape              Param #   \n",
      "=================================================================\n",
      " dense_3 (Dense)             (None, 1025, 256)         55552     \n",
      "                                                                 \n",
      " dense_4 (Dense)             (None, 1025, 512)         131584    \n",
      "                                                                 \n",
      " dense_5 (Dense)             (None, 1025, 1024)        525312    \n",
      "                                                                 \n",
      " lstm (LSTM)                 (None, 1025, 2048)        25174016  \n",
      "                                                                 \n",
      " dense_6 (Dense)             (None, 1025, 216)         442584    \n",
      "                                                                 \n",
      " reshape (Reshape)           (None, 1025, 216)         0         \n",
      "                                                                 \n",
      "=================================================================\n",
      "Total params: 26,329,048\n",
      "Trainable params: 26,329,048\n",
      "Non-trainable params: 0\n",
      "_________________________________________________________________\n",
      "Discriminator:\n",
      "Model: \"sequential\"\n",
      "_________________________________________________________________\n",
      " Layer (type)                Output Shape              Param #   \n",
      "=================================================================\n",
      " dense (Dense)               (None, 1025, 512)         111104    \n",
      "                                                                 \n",
      " dense_1 (Dense)             (None, 1025, 256)         131328    \n",
      "                                                                 \n",
      " dense_2 (Dense)             (None, 1025, 216)         55512     \n",
      "                                                                 \n",
      "=================================================================\n",
      "Total params: 297,944\n",
      "Trainable params: 0\n",
      "Non-trainable params: 297,944\n",
      "_________________________________________________________________\n",
      "GAN:\n",
      "Model: \"sequential_2\"\n",
      "_________________________________________________________________\n",
      " Layer (type)                Output Shape              Param #   \n",
      "=================================================================\n",
      " sequential_1 (Sequential)   (None, 1025, 216)         26329048  \n",
      "                                                                 \n",
      " sequential (Sequential)     (None, 1025, 216)         297944    \n",
      "                                                                 \n",
      "=================================================================\n",
      "Total params: 26,626,992\n",
      "Trainable params: 26,329,048\n",
      "Non-trainable params: 297,944\n",
      "_________________________________________________________________\n"
     ]
    }
   ],
   "source": [
    "ITERATIONS = 10\n",
    "BATCH_SIZE = 1\n",
    "\n",
    "trainFT(iterations=ITERATIONS, batch_size=BATCH_SIZE, generator=generator, discriminator=discriminator, network=gan, data=x_train, columnCount=AUDIO_COMBINED)\n",
    "\n",
    "print(\"Generator:\")\n",
    "generator.summary()\n",
    "print(\"Discriminator:\")\n",
    "discriminator.summary()\n",
    "print(\"GAN:\")\n",
    "gan.summary()"
   ]
  },
  {
   "cell_type": "markdown",
   "metadata": {
    "pycharm": {
     "name": "#%% md\n"
    }
   },
   "source": [
    "Test of generator after training"
   ]
  },
  {
   "cell_type": "code",
   "execution_count": 14,
   "metadata": {
    "pycharm": {
     "name": "#%%\n"
    }
   },
   "outputs": [
    {
     "name": "stdout",
     "output_type": "stream",
     "text": [
      "1/1 [==============================] - 5s 5s/step\n"
     ]
    },
    {
     "data": {
      "text/plain": "[<matplotlib.lines.Line2D at 0x170963cc948>]"
     },
     "execution_count": 14,
     "metadata": {},
     "output_type": "execute_result"
    },
    {
     "data": {
      "text/plain": "<Figure size 1200x600 with 1 Axes>",
      "image/png": "[encoded data removed]"
     },
     "metadata": {},
     "output_type": "display_data"
    },
    {
     "data": {
      "text/plain": "<Figure size 1200x600 with 1 Axes>",
      "image/png": "[encoded data removed]"
     },
     "metadata": {},
     "output_type": "display_data"
    }
   ],
   "source": [
    "#generate sound\n",
    "noise = np.random.normal(0,0.01, (1, 1025, AUDIO_COMBINED))  \n",
    "fake_audios = generator.predict(noise)\n",
    "\n",
    "#combine split to complex values\n",
    "complexDataArray = np.empty((1, 1025, AUDIO_COLS), dtype=np.complex128)\n",
    "for lineIndex in range(complexDataArray.shape[0]):\n",
    "    for rowIndex in range(complexDataArray.shape[1]):\n",
    "        for colIndex in range(complexDataArray.shape[2]):\n",
    "            complexDataArray[lineIndex][rowIndex][colIndex] = complex(fake_audios[lineIndex][rowIndex][colIndex*2], fake_audios[lineIndex][rowIndex][colIndex*2+1])\n",
    "\n",
    "istftAudio = librosa.istft(complexDataArray[0])\n",
    "glAudio = librosa.griffinlim(complexDataArray[0])\n",
    "\n",
    "#show\n",
    "plt.figure(figsize=(12, 6))\n",
    "plt.plot(istftAudio*100)\n",
    "\n",
    "plt.figure(figsize=(12, 6))\n",
    "plt.plot(glAudio)"
   ]
  },
  {
   "cell_type": "markdown",
   "metadata": {
    "pycharm": {
     "name": "#%% md\n"
    }
   },
   "source": [
    "Save generated output to file"
   ]
  },
  {
   "cell_type": "code",
   "execution_count": 15,
   "metadata": {
    "pycharm": {
     "name": "#%%\n"
    }
   },
   "outputs": [],
   "source": [
    "sf.write(\"tm5g4d1gen.wav\", istftAudio*100, 11025)\n",
    "sf.write(\"tm5g4d1gl.wav\", glAudio, 11025)"
   ]
  }
 ],
 "metadata": {
  "interpreter": {
   "hash": "aa9a882852ac62e17bf9b766fd20d316f23d7dc4029249375b9ccd5e4b3c823d"
  },
  "kernelspec": {
   "display_name": "Python 3.9.4 64-bit",
   "name": "python3"
  },
  "language_info": {
   "codemirror_mode": {
    "name": "ipython",
    "version": 3
   },
   "file_extension": ".py",
   "mimetype": "text/x-python",
   "name": "python",
   "nbconvert_exporter": "python",
   "pygments_lexer": "ipython3",
   "version": "3.9.4"
  }
 },
 "nbformat": 4,
 "nbformat_minor": 2
}