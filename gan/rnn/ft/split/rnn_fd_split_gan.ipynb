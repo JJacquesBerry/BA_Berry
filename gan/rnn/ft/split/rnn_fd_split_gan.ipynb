{
 "cells": [
  {
   "cell_type": "markdown",
   "metadata": {
    "pycharm": {
     "name": "#%% md\n"
    }
   },
   "source": [
    "- RNN-GAN - fourier-transformed audiodata - split complex number values"
   ]
  },
  {
   "cell_type": "code",
   "execution_count": 5,
   "metadata": {
    "pycharm": {
     "name": "#%%\n"
    }
   },
   "outputs": [],
   "source": [
    "import numpy as np\n",
    "import tensorflow.keras as keras\n",
    "import pandas as pd\n",
    "import librosa\n",
    "import matplotlib.pyplot as plt\n",
    "import soundfile as sf"
   ]
  },
  {
   "cell_type": "markdown",
   "metadata": {
    "pycharm": {
     "name": "#%% md\n"
    }
   },
   "source": [
    "Add path to util-functions"
   ]
  },
  {
   "cell_type": "code",
   "execution_count": 6,
   "metadata": {
    "pycharm": {
     "name": "#%%\n"
    }
   },
   "outputs": [],
   "source": [
    "import sys\n",
    "sys.path.append('D:/1. Studium/7. Semester/BA/Birdvoice/utils')"
   ]
  },
  {
   "cell_type": "markdown",
   "metadata": {
    "pycharm": {
     "name": "#%% md\n"
    }
   },
   "source": [
    "The Paths to the FT-databases"
   ]
  },
  {
   "cell_type": "code",
   "execution_count": 7,
   "metadata": {
    "pycharm": {
     "name": "#%%\n"
    }
   },
   "outputs": [],
   "source": [
    "databasePathsParusMajor=['../../../../dataPreprocessing/databases/ft/parusMajor/ParusMajorSongFT1.csv', '../../../../dataPreprocessing/databases/ft/parusMajor/ParusMajorSongFT5.csv']\n",
    "databasePathsTurdusMerula=['../../../../dataPreprocessing/databases/ft/turdusMerula/TurdusMerulaSongFT5.csv']\n",
    "databasePathsCorvusCorone=['../../../../dataPreprocessing/databases/ft/corvusCorone/CorvusCoroneCallFT5.csv']"
   ]
  },
  {
   "cell_type": "markdown",
   "metadata": {
    "pycharm": {
     "name": "#%% md\n"
    }
   },
   "source": [
    "Load data from chosen path"
   ]
  },
  {
   "cell_type": "code",
   "execution_count": 8,
   "metadata": {
    "pycharm": {
     "name": "#%%\n"
    }
   },
   "outputs": [],
   "source": [
    "readSampleCount = 500\n",
    "\n",
    "#number of columns per dataset-sample for\n",
    "ONE_SECOND = 22\n",
    "FIVE_SECONDS = 108\n",
    "\n",
    "#load and reshape data\n",
    "x_train = pd.read_csv(databasePathsTurdusMerula[0], header=None, delimiter=',', index_col=None, nrows=readSampleCount).to_numpy()\n",
    "x_train = np.reshape(x_train, [readSampleCount, 1025, FIVE_SECONDS])\n",
    "\n",
    "#change datatype to complex128 and expand one dim\n",
    "x_train = x_train.astype('complex128')\n",
    "\n",
    "SAMPLE_COUNT, AUDIO_ROWS, AUDIO_COLS = x_train.shape"
   ]
  },
  {
   "cell_type": "markdown",
   "metadata": {
    "pycharm": {
     "name": "#%% md\n"
    }
   },
   "source": [
    "TODO: replace value and insert imaginary part after that"
   ]
  },
  {
   "cell_type": "code",
   "execution_count": 9,
   "metadata": {
    "pycharm": {
     "name": "#%%\n"
    }
   },
   "outputs": [],
   "source": [
    "combinedArray = np.empty((readSampleCount, 1025, AUDIO_COLS*2), dtype=np.float32)\n",
    "\n",
    "#split the comples data for all numbers\n",
    "for lineIndex in range(SAMPLE_COUNT):\n",
    "    for rowIndex in range(AUDIO_ROWS):\n",
    "        for colIndex in range(AUDIO_COLS):\n",
    "            combinedArray[lineIndex][rowIndex][colIndex*2] = x_train[lineIndex][rowIndex][colIndex].real\n",
    "            combinedArray[lineIndex][rowIndex][colIndex*2+1] = x_train[lineIndex][rowIndex][colIndex].imag"
   ]
  },
  {
   "cell_type": "code",
   "execution_count": 10,
   "metadata": {
    "pycharm": {
     "name": "#%%\n"
    }
   },
   "outputs": [],
   "source": [
    "x_train = combinedArray.copy()\n",
    "SAMPLE_COUNT, AUDIO_ROWS, AUDIO_COMBINED = x_train.shape"
   ]
  },
  {
   "cell_type": "markdown",
   "metadata": {
    "pycharm": {
     "name": "#%% md\n"
    }
   },
   "source": [
    "Create optimizer"
   ]
  },
  {
   "cell_type": "code",
   "execution_count": 11,
   "metadata": {
    "pycharm": {
     "name": "#%%\n"
    }
   },
   "outputs": [],
   "source": [
    "optimiser = keras.optimizers.Adam(0.002, 0.5)"
   ]
  },
  {
   "cell_type": "markdown",
   "metadata": {
    "pycharm": {
     "name": "#%% md\n"
    }
   },
   "source": [
    "Create the discriminator"
   ]
  },
  {
   "cell_type": "code",
   "execution_count": 12,
   "metadata": {
    "pycharm": {
     "name": "#%%\n"
    }
   },
   "outputs": [],
   "source": [
    "from utils.discriminatorsFT import *"
   ]
  },
  {
   "cell_type": "code",
   "execution_count": 13,
   "metadata": {
    "pycharm": {
     "name": "#%%\n"
    }
   },
   "outputs": [],
   "source": [
    "discriminator = buildDiscriminator1(AUDIO_ROWS, AUDIO_COMBINED)\n",
    "discriminator.compile(loss = \"binary_crossentropy\",\n",
    "                      optimizer = optimiser,\n",
    "                      metrics = \"accuracy\")"
   ]
  },
  {
   "cell_type": "markdown",
   "metadata": {
    "pycharm": {
     "name": "#%% md\n"
    }
   },
   "source": [
    "Create the generator and GAN"
   ]
  },
  {
   "cell_type": "code",
   "execution_count": 14,
   "metadata": {
    "pycharm": {
     "name": "#%%\n"
    }
   },
   "outputs": [],
   "source": [
    "from utils.generatorsFT import *"
   ]
  },
  {
   "cell_type": "code",
   "execution_count": 15,
   "metadata": {
    "pycharm": {
     "name": "#%%\n"
    }
   },
   "outputs": [],
   "source": [
    "generator = buildGenerator4(AUDIO_ROWS, AUDIO_COMBINED)\n",
    "discriminator.trainable = False\n",
    "gan = keras.models.Sequential( [generator, discriminator] )\n",
    "gan.compile(loss=\"binary_crossentropy\",\n",
    "           optimizer = optimiser,\n",
    "           metrics = \"accuracy\")\n"
   ]
  },
  {
   "cell_type": "markdown",
   "metadata": {
    "pycharm": {
     "name": "#%% md\n"
    }
   },
   "source": [
    "Run the training:"
   ]
  },
  {
   "cell_type": "code",
   "execution_count": 16,
   "metadata": {
    "pycharm": {
     "name": "#%%\n"
    }
   },
   "outputs": [],
   "source": [
    "from utils.trainingFT import trainFT"
   ]
  },
  {
   "cell_type": "code",
   "execution_count": null,
   "metadata": {
    "pycharm": {
     "name": "#%%\n",
     "is_executing": true
    }
   },
   "outputs": [
    {
     "name": "stdout",
     "output_type": "stream",
     "text": [
      "Iteration: 0\n",
      "1/1 [==============================] - 5s 5s/step\n",
      "d_loss_real: {'loss': 0.6938037872314453, 'accuracy': 0.0009756097570061684}\n",
      "d_loss_gen: {'loss': 0.6964981555938721, 'accuracy': 0.0}\n",
      "g_loss: [0.6916704773902893, 0.0]\n",
      "Iteration: 1\n",
      "1/1 [==============================] - 5s 5s/step\n",
      "d_loss_real: {'loss': 0.6923372745513916, 'accuracy': 0.0009756097570061684}\n",
      "d_loss_gen: {'loss': 0.699492871761322, 'accuracy': 0.010731707327067852}\n",
      "g_loss: [0.6949120163917542, 0.004878048785030842]\n",
      "Iteration: 2\n",
      "1/1 [==============================] - 5s 5s/step\n",
      "d_loss_real: {'loss': 0.6923531293869019, 'accuracy': 0.0}\n",
      "d_loss_gen: {'loss': 0.7026169896125793, 'accuracy': 0.0}\n",
      "g_loss: [0.6933498382568359, 0.0]\n",
      "Iteration: 3\n",
      "1/1 [==============================] - 5s 5s/step\n",
      "d_loss_real: {'loss': 0.6921148896217346, 'accuracy': 0.0019512195140123367}\n",
      "d_loss_gen: {'loss': 0.709833025932312, 'accuracy': 0.0}\n",
      "g_loss: [0.7006258368492126, 0.0]\n",
      "Iteration: 4\n",
      "1/1 [==============================] - 5s 5s/step\n",
      "d_loss_real: {'loss': 0.6961697340011597, 'accuracy': 0.0}\n",
      "d_loss_gen: {'loss': 0.7039899230003357, 'accuracy': 0.0}\n",
      "g_loss: [0.7116666436195374, 0.0]\n",
      "Iteration: 5\n",
      "1/1 [==============================] - 5s 5s/step\n",
      "d_loss_real: {'loss': 0.6925654411315918, 'accuracy': 0.0019512195140123367}\n",
      "d_loss_gen: {'loss': 0.8922927379608154, 'accuracy': 0.0}\n",
      "g_loss: [1.7629716396331787, 0.0]\n",
      "Iteration: 6\n",
      "1/1 [==============================] - 5s 5s/step\n",
      "d_loss_real: {'loss': 0.6923824548721313, 'accuracy': 0.004878048785030842}\n",
      "d_loss_gen: {'loss': 0.47578439116477966, 'accuracy': 0.0}\n",
      "g_loss: [4.632765293121338, 0.0]\n",
      "Iteration: 7\n",
      "1/1 [==============================] - 5s 5s/step\n",
      "d_loss_real: {'loss': 0.7108092904090881, 'accuracy': 0.0009756097570061684}\n",
      "d_loss_gen: {'loss': 6.435697078704834, 'accuracy': 0.0}\n",
      "g_loss: [0.5259189009666443, 0.0]\n",
      "Iteration: 8\n",
      "1/1 [==============================] - 5s 5s/step\n",
      "d_loss_real: {'loss': 0.7138628959655762, 'accuracy': 0.0}\n",
      "d_loss_gen: {'loss': 0.20743362605571747, 'accuracy': 0.0}\n",
      "g_loss: [4.5117621421813965, 0.0]\n",
      "Iteration: 9\n",
      "1/1 [==============================] - 5s 5s/step\n",
      "d_loss_real: {'loss': 0.6862344741821289, 'accuracy': 0.0}\n",
      "d_loss_gen: {'loss': 0.23058976233005524, 'accuracy': 0.0}\n",
      "g_loss: [4.741417407989502, 0.0]\n",
      "Iteration: 10\n",
      "1/1 [==============================] - 5s 5s/step\n",
      "d_loss_real: {'loss': 0.6750491261482239, 'accuracy': 0.0}\n",
      "d_loss_gen: {'loss': 3.871293067932129, 'accuracy': 0.0}\n",
      "g_loss: [2.3600833415985107, 0.0]\n",
      "Iteration: 11\n",
      "1/1 [==============================] - 5s 5s/step\n",
      "d_loss_real: {'loss': 0.6807537078857422, 'accuracy': 0.0}\n",
      "d_loss_gen: {'loss': 1.9651496410369873, 'accuracy': 0.0}\n",
      "g_loss: [2.9238340854644775, 0.0]\n",
      "Iteration: 12\n",
      "1/1 [==============================] - 5s 5s/step\n",
      "d_loss_real: {'loss': 0.6918579339981079, 'accuracy': 0.0}\n",
      "d_loss_gen: {'loss': 0.2500656843185425, 'accuracy': 0.0}\n",
      "g_loss: [4.708065032958984, 0.0]\n",
      "Iteration: 13\n",
      "1/1 [==============================] - 5s 5s/step\n",
      "d_loss_real: {'loss': 0.7138498425483704, 'accuracy': 0.0}\n",
      "d_loss_gen: {'loss': 0.04931041598320007, 'accuracy': 0.0}\n",
      "g_loss: [4.951461315155029, 0.0]\n",
      "Iteration: 14\n",
      "1/1 [==============================] - 5s 5s/step\n",
      "d_loss_real: {'loss': 0.6807015538215637, 'accuracy': 0.0009756097570061684}\n",
      "d_loss_gen: {'loss': 0.22596994042396545, 'accuracy': 0.0}\n",
      "g_loss: [4.8423967361450195, 0.0]\n",
      "Iteration: 15\n",
      "1/1 [==============================] - 5s 5s/step\n",
      "d_loss_real: {'loss': 0.669100284576416, 'accuracy': 0.0}\n",
      "d_loss_gen: {'loss': 0.07130615413188934, 'accuracy': 0.0}\n",
      "g_loss: [5.249292373657227, 0.0]\n",
      "Iteration: 16\n",
      "1/1 [==============================] - 5s 5s/step\n",
      "d_loss_real: {'loss': 0.6448930501937866, 'accuracy': 0.0}\n",
      "d_loss_gen: {'loss': 0.028019947931170464, 'accuracy': 0.0}\n",
      "g_loss: [5.359307765960693, 0.0]\n",
      "Iteration: 17\n",
      "1/1 [==============================] - 5s 5s/step\n",
      "d_loss_real: {'loss': 0.6332630515098572, 'accuracy': 0.0}\n",
      "d_loss_gen: {'loss': 0.24297530949115753, 'accuracy': 0.0}\n",
      "g_loss: [8.699270248413086, 0.0]\n",
      "Iteration: 18\n",
      "1/1 [==============================] - 5s 5s/step\n",
      "d_loss_real: {'loss': 0.5920222401618958, 'accuracy': 0.0}\n",
      "d_loss_gen: {'loss': 0.06416266411542892, 'accuracy': 0.0}\n",
      "g_loss: [7.367762088775635, 0.0]\n",
      "Iteration: 19\n",
      "1/1 [==============================] - 5s 5s/step\n",
      "d_loss_real: {'loss': 0.5848061442375183, 'accuracy': 0.0}\n",
      "d_loss_gen: {'loss': 0.4076318144798279, 'accuracy': 0.0}\n",
      "g_loss: [15.889703750610352, 0.0]\n",
      "Iteration: 20\n",
      "1/1 [==============================] - 5s 5s/step\n",
      "d_loss_real: {'loss': 0.5393984913825989, 'accuracy': 0.0}\n",
      "d_loss_gen: {'loss': 0.00020938560192007571, 'accuracy': 0.0}\n",
      "g_loss: [13.802933692932129, 0.0]\n",
      "Iteration: 21\n",
      "1/1 [==============================] - 5s 5s/step\n",
      "d_loss_real: {'loss': 0.5299246907234192, 'accuracy': 0.0}\n",
      "d_loss_gen: {'loss': 0.0014030153397470713, 'accuracy': 0.0}\n",
      "g_loss: [8.731548309326172, 0.0]\n",
      "Iteration: 22\n",
      "1/1 [==============================] - 5s 5s/step\n",
      "d_loss_real: {'loss': 0.4563228189945221, 'accuracy': 0.0}\n",
      "d_loss_gen: {'loss': 0.05401476100087166, 'accuracy': 0.0}\n",
      "g_loss: [8.594025611877441, 0.0]\n",
      "Iteration: 23\n",
      "1/1 [==============================] - 5s 5s/step\n",
      "d_loss_real: {'loss': 0.4128313362598419, 'accuracy': 0.0}\n",
      "d_loss_gen: {'loss': 0.000391990935895592, 'accuracy': 0.0}\n",
      "g_loss: [9.906084060668945, 0.0]\n",
      "Iteration: 24\n",
      "1/1 [==============================] - 5s 5s/step\n",
      "d_loss_real: {'loss': 0.4931444525718689, 'accuracy': 0.0}\n",
      "d_loss_gen: {'loss': 0.0003245870757382363, 'accuracy': 0.0}\n",
      "g_loss: [9.056252479553223, 0.0]\n",
      "Iteration: 25\n",
      "1/1 [==============================] - 5s 5s/step\n",
      "d_loss_real: {'loss': 0.3328409790992737, 'accuracy': 0.0}\n",
      "d_loss_gen: {'loss': 0.002444957382977009, 'accuracy': 0.0}\n",
      "g_loss: [7.024641513824463, 0.0]\n",
      "Iteration: 26\n",
      "1/1 [==============================] - 5s 5s/step\n",
      "d_loss_real: {'loss': 0.3576488196849823, 'accuracy': 0.0}\n",
      "d_loss_gen: {'loss': 0.013639198616147041, 'accuracy': 0.0}\n",
      "g_loss: [7.007719993591309, 0.0]\n",
      "Iteration: 27\n",
      "1/1 [==============================] - 5s 5s/step\n",
      "d_loss_real: {'loss': 0.3070354163646698, 'accuracy': 0.0}\n",
      "d_loss_gen: {'loss': 0.004961126949638128, 'accuracy': 0.0}\n",
      "g_loss: [7.207871437072754, 0.0]\n",
      "Iteration: 28\n",
      "1/1 [==============================] - 5s 5s/step\n",
      "d_loss_real: {'loss': 0.33490175008773804, 'accuracy': 0.0}\n",
      "d_loss_gen: {'loss': 0.0012141376500949264, 'accuracy': 0.0}\n",
      "g_loss: [7.752890110015869, 0.0]\n",
      "Iteration: 29\n",
      "1/1 [==============================] - 5s 5s/step\n",
      "d_loss_real: {'loss': 0.2879916727542877, 'accuracy': 0.0}\n",
      "d_loss_gen: {'loss': 0.0025250117760151625, 'accuracy': 0.0}\n",
      "g_loss: [7.0615668296813965, 0.0]\n",
      "Iteration: 30\n",
      "1/1 [==============================] - 5s 5s/step\n",
      "d_loss_real: {'loss': 0.171195387840271, 'accuracy': 0.0}\n",
      "d_loss_gen: {'loss': 0.0048618437722325325, 'accuracy': 0.0}\n",
      "g_loss: [7.097954750061035, 0.0]\n",
      "Iteration: 31\n",
      "1/1 [==============================] - 5s 5s/step\n",
      "d_loss_real: {'loss': 0.19333507120609283, 'accuracy': 0.0}\n",
      "d_loss_gen: {'loss': 0.001849174266681075, 'accuracy': 0.0}\n",
      "g_loss: [7.48561954498291, 0.0]\n",
      "Iteration: 32\n",
      "1/1 [==============================] - 5s 5s/step\n",
      "d_loss_real: {'loss': 0.13060878217220306, 'accuracy': 0.0}\n",
      "d_loss_gen: {'loss': 0.002380919875577092, 'accuracy': 0.0}\n",
      "g_loss: [7.336711406707764, 0.0]\n",
      "Iteration: 33\n",
      "1/1 [==============================] - 5s 5s/step\n",
      "d_loss_real: {'loss': 1.7017897367477417, 'accuracy': 0.0}\n",
      "d_loss_gen: {'loss': 0.00486846175044775, 'accuracy': 0.0}\n",
      "g_loss: [7.080325603485107, 0.0]\n",
      "Iteration: 34\n",
      "1/1 [==============================] - 5s 5s/step\n",
      "d_loss_real: {'loss': 0.13174854218959808, 'accuracy': 0.0}\n",
      "d_loss_gen: {'loss': 0.0009105636272579432, 'accuracy': 0.0}\n",
      "g_loss: [7.893301963806152, 0.0]\n",
      "Iteration: 35\n",
      "1/1 [==============================] - 5s 5s/step\n",
      "d_loss_real: {'loss': 0.6068622469902039, 'accuracy': 0.0}\n",
      "d_loss_gen: {'loss': 0.000587083981372416, 'accuracy': 0.0}\n",
      "g_loss: [7.735429763793945, 0.0]\n",
      "Iteration: 36\n",
      "1/1 [==============================] - 5s 5s/step\n",
      "d_loss_real: {'loss': 0.24873675405979156, 'accuracy': 0.0}\n",
      "d_loss_gen: {'loss': 0.00045254078577272594, 'accuracy': 0.0}\n",
      "g_loss: [8.197563171386719, 0.0]\n",
      "Iteration: 37\n",
      "1/1 [==============================] - 5s 5s/step\n",
      "d_loss_real: {'loss': 0.1318143904209137, 'accuracy': 0.0}\n",
      "d_loss_gen: {'loss': 0.002112624002620578, 'accuracy': 0.0}\n",
      "g_loss: [7.066946983337402, 0.0]\n",
      "Iteration: 38\n",
      "1/1 [==============================] - 5s 5s/step\n",
      "d_loss_real: {'loss': 0.11149455606937408, 'accuracy': 0.0}\n",
      "d_loss_gen: {'loss': 0.0008848818251863122, 'accuracy': 0.0}\n",
      "g_loss: [7.747816562652588, 0.0]\n",
      "Iteration: 39\n",
      "1/1 [==============================] - 5s 5s/step\n",
      "d_loss_real: {'loss': 0.10281502455472946, 'accuracy': 0.0}\n",
      "d_loss_gen: {'loss': 0.00041325052734464407, 'accuracy': 0.0}\n",
      "g_loss: [8.358687400817871, 0.0]\n",
      "Iteration: 40\n",
      "1/1 [==============================] - 5s 5s/step\n",
      "d_loss_real: {'loss': 0.10281529277563095, 'accuracy': 0.0}\n",
      "d_loss_gen: {'loss': 0.0002468764432705939, 'accuracy': 0.0}\n",
      "g_loss: [8.790948867797852, 0.0]\n",
      "Iteration: 41\n",
      "1/1 [==============================] - 5s 5s/step\n",
      "d_loss_real: {'loss': 0.06864897906780243, 'accuracy': 0.0}\n",
      "d_loss_gen: {'loss': 0.00017095902876462787, 'accuracy': 0.0}\n",
      "g_loss: [9.116033554077148, 0.0]\n",
      "Iteration: 42\n",
      "1/1 [==============================] - 5s 5s/step\n",
      "d_loss_real: {'loss': 0.07955334335565567, 'accuracy': 0.0}\n",
      "d_loss_gen: {'loss': 0.00013407978985924274, 'accuracy': 0.0}\n",
      "g_loss: [9.317220687866211, 0.0]\n",
      "Iteration: 43\n",
      "1/1 [==============================] - 5s 5s/step\n",
      "d_loss_real: {'loss': 0.15164852142333984, 'accuracy': 0.0}\n",
      "d_loss_gen: {'loss': 0.00014375662431120872, 'accuracy': 0.0}\n"
     ]
    }
   ],
   "source": [
    "ITERATIONS = 50\n",
    "BATCH_SIZE = 1\n",
    "\n",
    "trainFT(iterations=ITERATIONS, batch_size=BATCH_SIZE, generator=generator, discriminator=discriminator, network=gan, data=x_train, columnCount=AUDIO_COMBINED)"
   ]
  },
  {
   "cell_type": "markdown",
   "metadata": {
    "pycharm": {
     "name": "#%% md\n"
    }
   },
   "source": [
    "Test of generator after training"
   ]
  },
  {
   "cell_type": "code",
   "execution_count": null,
   "metadata": {
    "pycharm": {
     "name": "#%%\n",
     "is_executing": true
    }
   },
   "outputs": [],
   "source": [
    "#generate sound\n",
    "noise = np.random.normal(0,0.01, (1, 1025, AUDIO_COMBINED))  \n",
    "fake_audios = generator.predict(noise)\n",
    "\n",
    "#combine split to complex values\n",
    "complexDataArray = np.empty((1, 1025, AUDIO_COLS), dtype=np.complex128)\n",
    "for lineIndex in range(complexDataArray.shape[0]):\n",
    "    for rowIndex in range(complexDataArray.shape[1]):\n",
    "        for colIndex in range(complexDataArray.shape[2]):\n",
    "            complexDataArray[lineIndex][rowIndex][colIndex] = complex(fake_audios[lineIndex][rowIndex][colIndex*2], fake_audios[lineIndex][rowIndex][colIndex*2+1])\n",
    "\n",
    "istftAudio = librosa.istft(complexDataArray[0])\n",
    "glAudio = librosa.griffinlim(complexDataArray[0])\n",
    "\n",
    "#show\n",
    "plt.figure(figsize=(12, 6))\n",
    "plt.plot(istftAudio*100)\n",
    "\n",
    "plt.figure(figsize=(12, 6))\n",
    "plt.plot(glAudio)"
   ]
  },
  {
   "cell_type": "markdown",
   "metadata": {
    "pycharm": {
     "name": "#%% md\n"
    }
   },
   "source": [
    "Save generated output to file"
   ]
  },
  {
   "cell_type": "code",
   "execution_count": null,
   "metadata": {
    "pycharm": {
     "name": "#%%\n",
     "is_executing": true
    }
   },
   "outputs": [],
   "source": [
    "sf.write(\"tm5g4d1gen.wav\", istftAudio*100, 11025)\n",
    "sf.write(\"tm5g4d1gl.wav\", glAudio, 11025)"
   ]
  }
 ],
 "metadata": {
  "interpreter": {
   "hash": "aa9a882852ac62e17bf9b766fd20d316f23d7dc4029249375b9ccd5e4b3c823d"
  },
  "kernelspec": {
   "display_name": "Python 3.9.4 64-bit",
   "name": "python3"
  },
  "language_info": {
   "codemirror_mode": {
    "name": "ipython",
    "version": 3
   },
   "file_extension": ".py",
   "mimetype": "text/x-python",
   "name": "python",
   "nbconvert_exporter": "python",
   "pygments_lexer": "ipython3",
   "version": "3.9.4"
  }
 },
 "nbformat": 4,
 "nbformat_minor": 2
}