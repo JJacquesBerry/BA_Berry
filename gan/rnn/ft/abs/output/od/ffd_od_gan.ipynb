{
 "cells": [
  {
   "cell_type": "markdown",
   "metadata": {
    "pycharm": {
     "name": "#%% md\n"
    }
   },
   "source": [
    "- neural network - audioData 2"
   ]
  },
  {
   "cell_type": "code",
   "execution_count": 1,
   "metadata": {
    "pycharm": {
     "name": "#%%\n"
    }
   },
   "outputs": [],
   "source": [
    "import numpy as np\n",
    "import tensorflow.keras as keras\n",
    "import keras.layers as layers\n",
    "import pandas as pd\n",
    "import matplotlib.pyplot as plt\n",
    "import librosa\n",
    "import soundfile as sf"
   ]
  },
  {
   "cell_type": "markdown",
   "metadata": {
    "pycharm": {
     "name": "#%% md\n"
    }
   },
   "source": [
    "Add path to util-functions"
   ]
  },
  {
   "cell_type": "code",
   "execution_count": 2,
   "metadata": {
    "pycharm": {
     "name": "#%%\n"
    }
   },
   "outputs": [],
   "source": [
    "import sys\n",
    "sys.path.append('D:/1. Studium/7. Semester/BA/Birdvoice/utils')"
   ]
  },
  {
   "cell_type": "markdown",
   "metadata": {
    "pycharm": {
     "name": "#%% md\n"
    }
   },
   "source": [
    "The Paths to the OD-databases"
   ]
  },
  {
   "cell_type": "code",
   "execution_count": 3,
   "metadata": {
    "pycharm": {
     "name": "#%%\n"
    }
   },
   "outputs": [],
   "source": [
    "databasePathsParusMajor=['../../../dataPreprocessing/databases/od/ParusMajor/ParusMajorSongOD1.csv', '../../../dataPreprocessing/databases/od/ParusMajor/ParusMajorSongOD5.csv']\n",
    "databasePathsTurdusMerula=['../../../dataPreprocessing/databases/od/TurdusMerula/TurdusMerulaSongOD5.csv']\n",
    "databasePathsCorvusCorone=['../../../dataPreprocessing/databases/od/CorvusCorone/CorvusCoroneCallOD5.csv']"
   ]
  },
  {
   "cell_type": "markdown",
   "metadata": {
    "pycharm": {
     "name": "#%% md\n"
    }
   },
   "source": [
    "Load data from chosen path"
   ]
  },
  {
   "cell_type": "code",
   "execution_count": 4,
   "metadata": {
    "pycharm": {
     "name": "#%%\n"
    }
   },
   "outputs": [
    {
     "name": "stdout",
     "output_type": "stream",
     "text": [
      "(2000, 55125)\n"
     ]
    }
   ],
   "source": [
    "sampleCount = 2000\n",
    "\n",
    "x_train = pd.read_csv(databasePathsCorvusCorone[0], header=None, delimiter=',', index_col=None, nrows=sampleCount).to_numpy()\n",
    "_, AUDIO_COLS = x_train.shape\n",
    "print(x_train.shape)"
   ]
  },
  {
   "cell_type": "markdown",
   "metadata": {
    "pycharm": {
     "name": "#%% md\n"
    }
   },
   "source": [
    "Generator"
   ]
  },
  {
   "cell_type": "code",
   "execution_count": 5,
   "metadata": {
    "pycharm": {
     "name": "#%%\n"
    }
   },
   "outputs": [],
   "source": [
    "def buildGenerator():\n",
    "    model = keras.models.Sequential()\n",
    "    \n",
    "    model.add(keras.layers.InputLayer(input_shape=(AUDIO_COLS)))\n",
    "    \n",
    "    model.add(keras.layers.Dense(256))\n",
    "\n",
    "    model.add(keras.layers.Dense(512))\n",
    "\n",
    "    model.add(keras.layers.Dense(1024))\n",
    "\n",
    "    model.add(keras.layers.Dense(AUDIO_COLS, activation=\"tanh\"))\n",
    "              \n",
    "    return model"
   ]
  },
  {
   "cell_type": "markdown",
   "metadata": {
    "pycharm": {
     "name": "#%% md\n"
    }
   },
   "source": [
    "Discriminator"
   ]
  },
  {
   "cell_type": "code",
   "execution_count": 6,
   "metadata": {
    "pycharm": {
     "name": "#%%\n"
    }
   },
   "outputs": [],
   "source": [
    "def buildDiscriminator():\n",
    "    model = keras.models.Sequential()\n",
    "    \n",
    "    model.add(keras.layers.InputLayer(AUDIO_COLS))\n",
    "    \n",
    "    model.add(keras.layers.Dense(512))\n",
    "    \n",
    "    model.add(keras.layers.Dense(256))\n",
    "\n",
    "    model.add(keras.layers.Dense(1, activation=\"sigmoid\"))\n",
    "\n",
    "    return model"
   ]
  },
  {
   "cell_type": "markdown",
   "metadata": {
    "pycharm": {
     "name": "#%% md\n"
    }
   },
   "source": [
    "Train function"
   ]
  },
  {
   "cell_type": "code",
   "execution_count": 7,
   "metadata": {
    "pycharm": {
     "name": "#%%\n"
    }
   },
   "outputs": [],
   "source": [
    "def train(iterations, batch_size=64):\n",
    "    \n",
    "    valid = np.ones(batch_size)\n",
    "    generated = np.zeros(batch_size)\n",
    "    \n",
    "    for i in range(iterations):\n",
    "        #select audios from data\n",
    "        indices = np.random.randint(0, len(x_train), batch_size)\n",
    "        audios = x_train[indices]\n",
    "        \n",
    "        #get fake audio from generator\n",
    "        noise = np.random.normal(0,0.05, (batch_size, AUDIO_COLS))\n",
    "        generated_audios = generator.predict(noise)\n",
    "        \n",
    "        # train discriminator with the \"real\" audios:\n",
    "        d_loss_real = discriminator.train_on_batch(audios, valid,return_dict=True)\n",
    "        d_loss_gen = discriminator.train_on_batch(generated_audios, generated, return_dict=True)\n",
    "        \n",
    "        print(f\"Iteration: {i}\")\n",
    "        print(f\"d_loss_real: {d_loss_real}\")\n",
    "        print(f\"d_loss_gen: {d_loss_gen}\")\n",
    "\n",
    "        # train generator \n",
    "        noise = np.random.normal(0,0.05, (batch_size, AUDIO_COLS))\n",
    "        g_loss = gan.train_on_batch(noise, valid)\n",
    "        \n",
    "        print(f\"g_loss: {g_loss}\")                                       "
   ]
  },
  {
   "cell_type": "markdown",
   "metadata": {
    "pycharm": {
     "name": "#%% md\n"
    }
   },
   "source": [
    "Optimizer"
   ]
  },
  {
   "cell_type": "code",
   "execution_count": 8,
   "metadata": {
    "pycharm": {
     "name": "#%%\n"
    }
   },
   "outputs": [],
   "source": [
    "optimiser = keras.optimizers.Adamax(0.001, 0.9)"
   ]
  },
  {
   "cell_type": "markdown",
   "metadata": {
    "pycharm": {
     "name": "#%% md\n"
    }
   },
   "source": [
    "Create the discriminator"
   ]
  },
  {
   "cell_type": "code",
   "execution_count": 9,
   "metadata": {
    "pycharm": {
     "name": "#%%\n"
    }
   },
   "outputs": [],
   "source": [
    "discriminator = buildDiscriminator()\n",
    "discriminator.compile(loss = \"binary_crossentropy\",\n",
    "                      optimizer = optimiser,\n",
    "                      metrics = \"accuracy\")"
   ]
  },
  {
   "cell_type": "markdown",
   "metadata": {
    "pycharm": {
     "name": "#%% md\n"
    }
   },
   "source": [
    "Create the generator"
   ]
  },
  {
   "cell_type": "code",
   "execution_count": 10,
   "metadata": {
    "pycharm": {
     "name": "#%%\n"
    }
   },
   "outputs": [],
   "source": [
    "generator = buildGenerator()\n",
    "discriminator.trainable = False # freeze weights of discriminator\n",
    "gan = keras.models.Sequential( [generator, discriminator] )\n",
    "gan.compile(loss=\"binary_crossentropy\",\n",
    "           optimizer = optimiser,\n",
    "           metrics = \"accuracy\")\n"
   ]
  },
  {
   "cell_type": "markdown",
   "metadata": {
    "pycharm": {
     "name": "#%% md\n"
    }
   },
   "source": [
    "Run the training:"
   ]
  },
  {
   "cell_type": "code",
   "execution_count": 11,
   "metadata": {
    "pycharm": {
     "name": "#%%\n"
    }
   },
   "outputs": [
    {
     "name": "stdout",
     "output_type": "stream",
     "text": [
      "2/2 [==============================] - 0s 25ms/step\n",
      "Iteration: 0\n",
      "d_loss_real: {'loss': 0.6889265775680542, 'accuracy': 0.5625}\n",
      "d_loss_gen: {'loss': 0.7125571966171265, 'accuracy': 0.375}\n",
      "g_loss: [0.6891723871231079, 0.53125]\n",
      "2/2 [==============================] - 0s 20ms/step\n",
      "Iteration: 1\n",
      "d_loss_real: {'loss': 0.7498475313186646, 'accuracy': 0.578125}\n",
      "d_loss_gen: {'loss': 1.921172857284546, 'accuracy': 0.375}\n",
      "g_loss: [1.198128581047058, 0.53125]\n",
      "2/2 [==============================] - 0s 20ms/step\n",
      "Iteration: 2\n",
      "d_loss_real: {'loss': 0.6663909554481506, 'accuracy': 0.6875}\n",
      "d_loss_gen: {'loss': 3.0895185470581055, 'accuracy': 0.1875}\n",
      "g_loss: [0.6418967247009277, 0.6875]\n",
      "2/2 [==============================] - 0s 24ms/step\n",
      "Iteration: 3\n",
      "d_loss_real: {'loss': 0.6334263682365417, 'accuracy': 0.6875}\n",
      "d_loss_gen: {'loss': 3.098616600036621, 'accuracy': 0.234375}\n",
      "g_loss: [0.48145750164985657, 0.828125]\n",
      "2/2 [==============================] - 0s 24ms/step\n",
      "Iteration: 4\n",
      "d_loss_real: {'loss': 1.3565318584442139, 'accuracy': 0.71875}\n",
      "d_loss_gen: {'loss': 2.2378313541412354, 'accuracy': 0.15625}\n",
      "g_loss: [0.37907910346984863, 0.890625]\n",
      "2/2 [==============================] - 0s 25ms/step\n",
      "Iteration: 5\n",
      "d_loss_real: {'loss': 0.6724518537521362, 'accuracy': 0.609375}\n",
      "d_loss_gen: {'loss': 0.9980965256690979, 'accuracy': 0.28125}\n",
      "g_loss: [1.368004560470581, 0.359375]\n",
      "2/2 [==============================] - 0s 26ms/step\n",
      "Iteration: 6\n",
      "d_loss_real: {'loss': 0.7002710103988647, 'accuracy': 0.46875}\n",
      "d_loss_gen: {'loss': 0.46621251106262207, 'accuracy': 0.765625}\n",
      "g_loss: [3.3999757766723633, 0.15625]\n",
      "2/2 [==============================] - 0s 27ms/step\n",
      "Iteration: 7\n",
      "d_loss_real: {'loss': 0.7184194922447205, 'accuracy': 0.328125}\n",
      "d_loss_gen: {'loss': 0.7361342906951904, 'accuracy': 0.71875}\n",
      "g_loss: [3.98606276512146, 0.234375]\n",
      "2/2 [==============================] - 0s 25ms/step\n",
      "Iteration: 8\n",
      "d_loss_real: {'loss': 0.7924844026565552, 'accuracy': 0.390625}\n",
      "d_loss_gen: {'loss': 1.0520329475402832, 'accuracy': 0.75}\n",
      "g_loss: [4.734485626220703, 0.25]\n",
      "2/2 [==============================] - 0s 27ms/step\n",
      "Iteration: 9\n",
      "d_loss_real: {'loss': 1.00129234790802, 'accuracy': 0.515625}\n",
      "d_loss_gen: {'loss': 1.2415807247161865, 'accuracy': 0.671875}\n",
      "g_loss: [4.582932472229004, 0.28125]\n",
      "2/2 [==============================] - 0s 27ms/step\n",
      "Iteration: 10\n",
      "d_loss_real: {'loss': 0.7722121477127075, 'accuracy': 0.453125}\n",
      "d_loss_gen: {'loss': 1.7758433818817139, 'accuracy': 0.578125}\n",
      "g_loss: [3.1963047981262207, 0.359375]\n",
      "2/2 [==============================] - 0s 22ms/step\n",
      "Iteration: 11\n",
      "d_loss_real: {'loss': 0.9783226847648621, 'accuracy': 0.4375}\n",
      "d_loss_gen: {'loss': 2.6139090061187744, 'accuracy': 0.515625}\n",
      "g_loss: [2.88289475440979, 0.515625]\n",
      "2/2 [==============================] - 0s 26ms/step\n",
      "Iteration: 12\n",
      "d_loss_real: {'loss': 0.7545658946037292, 'accuracy': 0.53125}\n",
      "d_loss_gen: {'loss': 2.3632192611694336, 'accuracy': 0.421875}\n",
      "g_loss: [2.277878522872925, 0.59375]\n",
      "2/2 [==============================] - 0s 21ms/step\n",
      "Iteration: 13\n",
      "d_loss_real: {'loss': 0.7146204710006714, 'accuracy': 0.5}\n",
      "d_loss_gen: {'loss': 4.097637176513672, 'accuracy': 0.28125}\n",
      "g_loss: [2.1962153911590576, 0.515625]\n",
      "2/2 [==============================] - 0s 27ms/step\n",
      "Iteration: 14\n",
      "d_loss_real: {'loss': 0.7429854273796082, 'accuracy': 0.53125}\n",
      "d_loss_gen: {'loss': 2.1325550079345703, 'accuracy': 0.421875}\n",
      "g_loss: [1.0137581825256348, 0.671875]\n",
      "2/2 [==============================] - 0s 25ms/step\n",
      "Iteration: 15\n",
      "d_loss_real: {'loss': 0.8350883722305298, 'accuracy': 0.578125}\n",
      "d_loss_gen: {'loss': 2.431023120880127, 'accuracy': 0.28125}\n",
      "g_loss: [0.7708938717842102, 0.625]\n",
      "2/2 [==============================] - 0s 23ms/step\n",
      "Iteration: 16\n",
      "d_loss_real: {'loss': 0.7556328773498535, 'accuracy': 0.640625}\n",
      "d_loss_gen: {'loss': 1.4580084085464478, 'accuracy': 0.34375}\n",
      "g_loss: [1.2842907905578613, 0.390625]\n",
      "2/2 [==============================] - 0s 22ms/step\n",
      "Iteration: 17\n",
      "d_loss_real: {'loss': 0.6917340159416199, 'accuracy': 0.546875}\n",
      "d_loss_gen: {'loss': 1.0058175325393677, 'accuracy': 0.640625}\n",
      "g_loss: [2.3876914978027344, 0.21875]\n",
      "2/2 [==============================] - 0s 26ms/step\n",
      "Iteration: 18\n",
      "d_loss_real: {'loss': 0.6061586141586304, 'accuracy': 0.6875}\n",
      "d_loss_gen: {'loss': 0.6443625688552856, 'accuracy': 0.71875}\n",
      "g_loss: [2.669431209564209, 0.265625]\n",
      "2/2 [==============================] - 0s 23ms/step\n",
      "Iteration: 19\n",
      "d_loss_real: {'loss': 0.6194732189178467, 'accuracy': 0.71875}\n",
      "d_loss_gen: {'loss': 0.3984844982624054, 'accuracy': 0.84375}\n",
      "g_loss: [3.39310359954834, 0.09375]\n",
      "2/2 [==============================] - 0s 24ms/step\n",
      "Iteration: 20\n",
      "d_loss_real: {'loss': 0.6765779852867126, 'accuracy': 0.75}\n",
      "d_loss_gen: {'loss': 0.47672146558761597, 'accuracy': 0.8125}\n",
      "g_loss: [3.4074461460113525, 0.125]\n",
      "2/2 [==============================] - 0s 25ms/step\n",
      "Iteration: 21\n",
      "d_loss_real: {'loss': 0.6842320561408997, 'accuracy': 0.640625}\n",
      "d_loss_gen: {'loss': 0.9108098149299622, 'accuracy': 0.71875}\n",
      "g_loss: [3.3160557746887207, 0.203125]\n",
      "2/2 [==============================] - 0s 25ms/step\n",
      "Iteration: 22\n",
      "d_loss_real: {'loss': 0.563502311706543, 'accuracy': 0.75}\n",
      "d_loss_gen: {'loss': 1.12891685962677, 'accuracy': 0.65625}\n",
      "g_loss: [4.0077805519104, 0.25]\n",
      "2/2 [==============================] - 0s 26ms/step\n",
      "Iteration: 23\n",
      "d_loss_real: {'loss': 0.6193825602531433, 'accuracy': 0.734375}\n",
      "d_loss_gen: {'loss': 1.2304197549819946, 'accuracy': 0.609375}\n",
      "g_loss: [4.8181657791137695, 0.21875]\n",
      "2/2 [==============================] - 0s 23ms/step\n",
      "Iteration: 24\n",
      "d_loss_real: {'loss': 0.6316013336181641, 'accuracy': 0.703125}\n",
      "d_loss_gen: {'loss': 1.5284512042999268, 'accuracy': 0.625}\n",
      "g_loss: [3.3903636932373047, 0.296875]\n",
      "2/2 [==============================] - 0s 29ms/step\n",
      "Iteration: 25\n",
      "d_loss_real: {'loss': 0.7104560732841492, 'accuracy': 0.625}\n",
      "d_loss_gen: {'loss': 2.062251567840576, 'accuracy': 0.578125}\n",
      "g_loss: [5.559296607971191, 0.28125]\n",
      "2/2 [==============================] - 0s 24ms/step\n",
      "Iteration: 26\n",
      "d_loss_real: {'loss': 0.6630154252052307, 'accuracy': 0.59375}\n",
      "d_loss_gen: {'loss': 1.8686180114746094, 'accuracy': 0.59375}\n",
      "g_loss: [5.14931058883667, 0.21875]\n",
      "2/2 [==============================] - 0s 25ms/step\n",
      "Iteration: 27\n",
      "d_loss_real: {'loss': 1.5273927450180054, 'accuracy': 0.640625}\n",
      "d_loss_gen: {'loss': 2.272411584854126, 'accuracy': 0.65625}\n",
      "g_loss: [5.077591896057129, 0.375]\n",
      "2/2 [==============================] - 0s 27ms/step\n",
      "Iteration: 28\n",
      "d_loss_real: {'loss': 1.14951753616333, 'accuracy': 0.546875}\n",
      "d_loss_gen: {'loss': 2.321164846420288, 'accuracy': 0.671875}\n",
      "g_loss: [7.815847396850586, 0.21875]\n",
      "2/2 [==============================] - 0s 23ms/step\n",
      "Iteration: 29\n",
      "d_loss_real: {'loss': 1.0562708377838135, 'accuracy': 0.640625}\n",
      "d_loss_gen: {'loss': 1.953646183013916, 'accuracy': 0.671875}\n",
      "g_loss: [5.974456310272217, 0.34375]\n",
      "2/2 [==============================] - 0s 26ms/step\n",
      "Iteration: 30\n",
      "d_loss_real: {'loss': 1.2858078479766846, 'accuracy': 0.5625}\n",
      "d_loss_gen: {'loss': 3.304001808166504, 'accuracy': 0.5}\n",
      "g_loss: [8.386482238769531, 0.3125]\n",
      "2/2 [==============================] - 0s 24ms/step\n",
      "Iteration: 31\n",
      "d_loss_real: {'loss': 0.7160516977310181, 'accuracy': 0.640625}\n",
      "d_loss_gen: {'loss': 4.078889846801758, 'accuracy': 0.421875}\n",
      "g_loss: [7.426494598388672, 0.296875]\n",
      "2/2 [==============================] - 0s 24ms/step\n",
      "Iteration: 32\n",
      "d_loss_real: {'loss': 1.1904504299163818, 'accuracy': 0.5}\n",
      "d_loss_gen: {'loss': 4.767484664916992, 'accuracy': 0.46875}\n",
      "g_loss: [5.4792280197143555, 0.484375]\n",
      "2/2 [==============================] - 0s 26ms/step\n",
      "Iteration: 33\n",
      "d_loss_real: {'loss': 1.5714023113250732, 'accuracy': 0.53125}\n",
      "d_loss_gen: {'loss': 8.392219543457031, 'accuracy': 0.34375}\n",
      "g_loss: [3.683809757232666, 0.515625]\n",
      "2/2 [==============================] - 0s 23ms/step\n",
      "Iteration: 34\n",
      "d_loss_real: {'loss': 1.280127763748169, 'accuracy': 0.59375}\n",
      "d_loss_gen: {'loss': 11.932244300842285, 'accuracy': 0.296875}\n",
      "g_loss: [3.3917031288146973, 0.515625]\n",
      "2/2 [==============================] - 0s 25ms/step\n",
      "Iteration: 35\n",
      "d_loss_real: {'loss': 1.028059720993042, 'accuracy': 0.546875}\n",
      "d_loss_gen: {'loss': 14.001188278198242, 'accuracy': 0.25}\n",
      "g_loss: [3.9670984745025635, 0.6875]\n",
      "2/2 [==============================] - 0s 30ms/step\n",
      "Iteration: 36\n",
      "d_loss_real: {'loss': 2.0456948280334473, 'accuracy': 0.453125}\n",
      "d_loss_gen: {'loss': 12.144054412841797, 'accuracy': 0.25}\n",
      "g_loss: [5.233042240142822, 0.5625]\n",
      "2/2 [==============================] - 0s 23ms/step\n",
      "Iteration: 37\n",
      "d_loss_real: {'loss': 1.1723768711090088, 'accuracy': 0.578125}\n",
      "d_loss_gen: {'loss': 13.143118858337402, 'accuracy': 0.125}\n",
      "g_loss: [4.099678039550781, 0.625]\n",
      "2/2 [==============================] - 0s 24ms/step\n",
      "Iteration: 38\n",
      "d_loss_real: {'loss': 3.581589698791504, 'accuracy': 0.453125}\n",
      "d_loss_gen: {'loss': 11.245054244995117, 'accuracy': 0.234375}\n",
      "g_loss: [6.113895416259766, 0.40625]\n",
      "2/2 [==============================] - 0s 26ms/step\n",
      "Iteration: 39\n",
      "d_loss_real: {'loss': 1.0566861629486084, 'accuracy': 0.5}\n",
      "d_loss_gen: {'loss': 5.10348653793335, 'accuracy': 0.328125}\n",
      "g_loss: [10.855318069458008, 0.359375]\n",
      "2/2 [==============================] - 0s 25ms/step\n",
      "Iteration: 40\n",
      "d_loss_real: {'loss': 0.980097770690918, 'accuracy': 0.453125}\n",
      "d_loss_gen: {'loss': 2.418821334838867, 'accuracy': 0.640625}\n",
      "g_loss: [15.326776504516602, 0.234375]\n",
      "2/2 [==============================] - 0s 20ms/step\n",
      "Iteration: 41\n",
      "d_loss_real: {'loss': 0.9237834215164185, 'accuracy': 0.4375}\n",
      "d_loss_gen: {'loss': 4.629269599914551, 'accuracy': 0.640625}\n",
      "g_loss: [22.545799255371094, 0.203125]\n",
      "2/2 [==============================] - 0s 26ms/step\n",
      "Iteration: 42\n",
      "d_loss_real: {'loss': 0.9268019199371338, 'accuracy': 0.46875}\n",
      "d_loss_gen: {'loss': 2.812476396560669, 'accuracy': 0.765625}\n",
      "g_loss: [20.51000213623047, 0.25]\n",
      "2/2 [==============================] - 0s 24ms/step\n",
      "Iteration: 43\n",
      "d_loss_real: {'loss': 2.889230251312256, 'accuracy': 0.390625}\n",
      "d_loss_gen: {'loss': 6.948375225067139, 'accuracy': 0.640625}\n",
      "g_loss: [29.056222915649414, 0.28125]\n",
      "2/2 [==============================] - 0s 21ms/step\n",
      "Iteration: 44\n",
      "d_loss_real: {'loss': 1.007942795753479, 'accuracy': 0.515625}\n",
      "d_loss_gen: {'loss': 3.9410512447357178, 'accuracy': 0.765625}\n",
      "g_loss: [35.99118423461914, 0.21875]\n",
      "2/2 [==============================] - 0s 20ms/step\n",
      "Iteration: 45\n",
      "d_loss_real: {'loss': 0.7983366250991821, 'accuracy': 0.515625}\n",
      "d_loss_gen: {'loss': 7.736744403839111, 'accuracy': 0.640625}\n",
      "g_loss: [42.788604736328125, 0.28125]\n",
      "2/2 [==============================] - 0s 24ms/step\n",
      "Iteration: 46\n",
      "d_loss_real: {'loss': 0.6962181329727173, 'accuracy': 0.59375}\n",
      "d_loss_gen: {'loss': 7.103479385375977, 'accuracy': 0.75}\n",
      "g_loss: [44.889808654785156, 0.296875]\n",
      "2/2 [==============================] - 0s 29ms/step\n",
      "Iteration: 47\n",
      "d_loss_real: {'loss': 1.0899806022644043, 'accuracy': 0.65625}\n",
      "d_loss_gen: {'loss': 8.553864479064941, 'accuracy': 0.796875}\n",
      "g_loss: [52.57200622558594, 0.28125]\n",
      "2/2 [==============================] - 0s 29ms/step\n",
      "Iteration: 48\n",
      "d_loss_real: {'loss': 0.8640713691711426, 'accuracy': 0.578125}\n",
      "d_loss_gen: {'loss': 8.959592819213867, 'accuracy': 0.75}\n",
      "g_loss: [47.904300689697266, 0.25]\n",
      "2/2 [==============================] - 0s 25ms/step\n",
      "Iteration: 49\n",
      "d_loss_real: {'loss': 2.2754311561584473, 'accuracy': 0.625}\n",
      "d_loss_gen: {'loss': 15.218952178955078, 'accuracy': 0.6875}\n",
      "g_loss: [44.967689514160156, 0.28125]\n"
     ]
    }
   ],
   "source": [
    "ITERATIONS = 50\n",
    "BATCH_SIZE = 64\n",
    "\n",
    "train(iterations=ITERATIONS, batch_size=BATCH_SIZE)"
   ]
  },
  {
   "cell_type": "markdown",
   "metadata": {
    "pycharm": {
     "name": "#%% md\n"
    }
   },
   "source": [
    "Generator-test"
   ]
  },
  {
   "cell_type": "code",
   "execution_count": 12,
   "metadata": {
    "pycharm": {
     "name": "#%%\n"
    }
   },
   "outputs": [
    {
     "name": "stdout",
     "output_type": "stream",
     "text": [
      "1/1 [==============================] - 0s 98ms/step\n"
     ]
    },
    {
     "data": {
      "text/plain": "[<matplotlib.lines.Line2D at 0x2190b2e6d08>]"
     },
     "execution_count": 12,
     "metadata": {},
     "output_type": "execute_result"
    },
    {
     "data": {
      "text/plain": "<Figure size 1200x600 with 1 Axes>",
      "image/png": "[encoded data removed]"
     },
     "metadata": {},
     "output_type": "display_data"
    },
    {
     "data": {
      "text/plain": "<Figure size 1200x600 with 1 Axes>",
      "image/png": "[encoded data removed]"
     },
     "metadata": {},
     "output_type": "display_data"
    }
   ],
   "source": [
    "noise = np.random.normal(0,0.05, (1, AUDIO_COLS))\n",
    "fake_audios = generator.predict(noise)\n",
    "reshaped_fake_audio = np.reshape(fake_audios, AUDIO_COLS)\n",
    "\n",
    "stftdata = librosa.stft(reshaped_fake_audio)\n",
    "glAudio = librosa.griffinlim(stftdata)\n",
    "\n",
    "#first sample\n",
    "plt.figure(figsize=(12, 6))\n",
    "plt.plot(reshaped_fake_audio[0:11025])\n",
    "\n",
    "#first sample - griffin-lim\n",
    "plt.figure(figsize=(12, 6))\n",
    "plt.plot(glAudio[0:11025])"
   ]
  },
  {
   "cell_type": "code",
   "execution_count": 13,
   "metadata": {
    "pycharm": {
     "name": "#%%\n"
    }
   },
   "outputs": [
    {
     "ename": "RuntimeError",
     "evalue": "Error opening 'cc5g1d1gen.wav': System error.",
     "output_type": "error",
     "traceback": [
      "\u001B[1;31m---------------------------------------------------------------------------\u001B[0m",
      "\u001B[1;31mRuntimeError\u001B[0m                              Traceback (most recent call last)",
      "\u001B[1;32m~\\AppData\\Local\\Temp\\ipykernel_14800\\1269332943.py\u001B[0m in \u001B[0;36m<module>\u001B[1;34m\u001B[0m\n\u001B[1;32m----> 1\u001B[1;33m \u001B[0msf\u001B[0m\u001B[1;33m.\u001B[0m\u001B[0mwrite\u001B[0m\u001B[1;33m(\u001B[0m\u001B[1;34m\"cc5g1d1gen.wav\"\u001B[0m\u001B[1;33m,\u001B[0m \u001B[0mreshaped_fake_audio\u001B[0m\u001B[1;33m,\u001B[0m \u001B[1;36m11025\u001B[0m\u001B[1;33m)\u001B[0m\u001B[1;33m\u001B[0m\u001B[1;33m\u001B[0m\u001B[0m\n\u001B[0m\u001B[0;32m      2\u001B[0m \u001B[0msf\u001B[0m\u001B[1;33m.\u001B[0m\u001B[0mwrite\u001B[0m\u001B[1;33m(\u001B[0m\u001B[1;34m\"cc5g1d1gl.wav\"\u001B[0m\u001B[1;33m,\u001B[0m \u001B[0mglAudio\u001B[0m\u001B[1;33m,\u001B[0m \u001B[1;36m11025\u001B[0m\u001B[1;33m)\u001B[0m\u001B[1;33m\u001B[0m\u001B[1;33m\u001B[0m\u001B[0m\n",
      "\u001B[1;32m~\\anaconda3\\envs\\workspace\\lib\\site-packages\\soundfile.py\u001B[0m in \u001B[0;36mwrite\u001B[1;34m(file, data, samplerate, subtype, endian, format, closefd)\u001B[0m\n\u001B[0;32m    313\u001B[0m         \u001B[0mchannels\u001B[0m \u001B[1;33m=\u001B[0m \u001B[0mdata\u001B[0m\u001B[1;33m.\u001B[0m\u001B[0mshape\u001B[0m\u001B[1;33m[\u001B[0m\u001B[1;36m1\u001B[0m\u001B[1;33m]\u001B[0m\u001B[1;33m\u001B[0m\u001B[1;33m\u001B[0m\u001B[0m\n\u001B[0;32m    314\u001B[0m     with SoundFile(file, 'w', samplerate, channels,\n\u001B[1;32m--> 315\u001B[1;33m                    subtype, endian, format, closefd) as f:\n\u001B[0m\u001B[0;32m    316\u001B[0m         \u001B[0mf\u001B[0m\u001B[1;33m.\u001B[0m\u001B[0mwrite\u001B[0m\u001B[1;33m(\u001B[0m\u001B[0mdata\u001B[0m\u001B[1;33m)\u001B[0m\u001B[1;33m\u001B[0m\u001B[1;33m\u001B[0m\u001B[0m\n\u001B[0;32m    317\u001B[0m \u001B[1;33m\u001B[0m\u001B[0m\n",
      "\u001B[1;32m~\\anaconda3\\envs\\workspace\\lib\\site-packages\\soundfile.py\u001B[0m in \u001B[0;36m__init__\u001B[1;34m(self, file, mode, samplerate, channels, subtype, endian, format, closefd)\u001B[0m\n\u001B[0;32m    627\u001B[0m         self._info = _create_info_struct(file, mode, samplerate, channels,\n\u001B[0;32m    628\u001B[0m                                          format, subtype, endian)\n\u001B[1;32m--> 629\u001B[1;33m         \u001B[0mself\u001B[0m\u001B[1;33m.\u001B[0m\u001B[0m_file\u001B[0m \u001B[1;33m=\u001B[0m \u001B[0mself\u001B[0m\u001B[1;33m.\u001B[0m\u001B[0m_open\u001B[0m\u001B[1;33m(\u001B[0m\u001B[0mfile\u001B[0m\u001B[1;33m,\u001B[0m \u001B[0mmode_int\u001B[0m\u001B[1;33m,\u001B[0m \u001B[0mclosefd\u001B[0m\u001B[1;33m)\u001B[0m\u001B[1;33m\u001B[0m\u001B[1;33m\u001B[0m\u001B[0m\n\u001B[0m\u001B[0;32m    630\u001B[0m         \u001B[1;32mif\u001B[0m \u001B[0mset\u001B[0m\u001B[1;33m(\u001B[0m\u001B[0mmode\u001B[0m\u001B[1;33m)\u001B[0m\u001B[1;33m.\u001B[0m\u001B[0missuperset\u001B[0m\u001B[1;33m(\u001B[0m\u001B[1;34m'r+'\u001B[0m\u001B[1;33m)\u001B[0m \u001B[1;32mand\u001B[0m \u001B[0mself\u001B[0m\u001B[1;33m.\u001B[0m\u001B[0mseekable\u001B[0m\u001B[1;33m(\u001B[0m\u001B[1;33m)\u001B[0m\u001B[1;33m:\u001B[0m\u001B[1;33m\u001B[0m\u001B[1;33m\u001B[0m\u001B[0m\n\u001B[0;32m    631\u001B[0m             \u001B[1;31m# Move write position to 0 (like in Python file objects)\u001B[0m\u001B[1;33m\u001B[0m\u001B[1;33m\u001B[0m\u001B[1;33m\u001B[0m\u001B[0m\n",
      "\u001B[1;32m~\\anaconda3\\envs\\workspace\\lib\\site-packages\\soundfile.py\u001B[0m in \u001B[0;36m_open\u001B[1;34m(self, file, mode_int, closefd)\u001B[0m\n\u001B[0;32m   1182\u001B[0m             \u001B[1;32mraise\u001B[0m \u001B[0mTypeError\u001B[0m\u001B[1;33m(\u001B[0m\u001B[1;34m\"Invalid file: {0!r}\"\u001B[0m\u001B[1;33m.\u001B[0m\u001B[0mformat\u001B[0m\u001B[1;33m(\u001B[0m\u001B[0mself\u001B[0m\u001B[1;33m.\u001B[0m\u001B[0mname\u001B[0m\u001B[1;33m)\u001B[0m\u001B[1;33m)\u001B[0m\u001B[1;33m\u001B[0m\u001B[1;33m\u001B[0m\u001B[0m\n\u001B[0;32m   1183\u001B[0m         _error_check(_snd.sf_error(file_ptr),\n\u001B[1;32m-> 1184\u001B[1;33m                      \"Error opening {0!r}: \".format(self.name))\n\u001B[0m\u001B[0;32m   1185\u001B[0m         \u001B[1;32mif\u001B[0m \u001B[0mmode_int\u001B[0m \u001B[1;33m==\u001B[0m \u001B[0m_snd\u001B[0m\u001B[1;33m.\u001B[0m\u001B[0mSFM_WRITE\u001B[0m\u001B[1;33m:\u001B[0m\u001B[1;33m\u001B[0m\u001B[1;33m\u001B[0m\u001B[0m\n\u001B[0;32m   1186\u001B[0m             \u001B[1;31m# Due to a bug in libsndfile version <= 1.0.25, frames != 0\u001B[0m\u001B[1;33m\u001B[0m\u001B[1;33m\u001B[0m\u001B[1;33m\u001B[0m\u001B[0m\n",
      "\u001B[1;32m~\\anaconda3\\envs\\workspace\\lib\\site-packages\\soundfile.py\u001B[0m in \u001B[0;36m_error_check\u001B[1;34m(err, prefix)\u001B[0m\n\u001B[0;32m   1355\u001B[0m     \u001B[1;32mif\u001B[0m \u001B[0merr\u001B[0m \u001B[1;33m!=\u001B[0m \u001B[1;36m0\u001B[0m\u001B[1;33m:\u001B[0m\u001B[1;33m\u001B[0m\u001B[1;33m\u001B[0m\u001B[0m\n\u001B[0;32m   1356\u001B[0m         \u001B[0merr_str\u001B[0m \u001B[1;33m=\u001B[0m \u001B[0m_snd\u001B[0m\u001B[1;33m.\u001B[0m\u001B[0msf_error_number\u001B[0m\u001B[1;33m(\u001B[0m\u001B[0merr\u001B[0m\u001B[1;33m)\u001B[0m\u001B[1;33m\u001B[0m\u001B[1;33m\u001B[0m\u001B[0m\n\u001B[1;32m-> 1357\u001B[1;33m         \u001B[1;32mraise\u001B[0m \u001B[0mRuntimeError\u001B[0m\u001B[1;33m(\u001B[0m\u001B[0mprefix\u001B[0m \u001B[1;33m+\u001B[0m \u001B[0m_ffi\u001B[0m\u001B[1;33m.\u001B[0m\u001B[0mstring\u001B[0m\u001B[1;33m(\u001B[0m\u001B[0merr_str\u001B[0m\u001B[1;33m)\u001B[0m\u001B[1;33m.\u001B[0m\u001B[0mdecode\u001B[0m\u001B[1;33m(\u001B[0m\u001B[1;34m'utf-8'\u001B[0m\u001B[1;33m,\u001B[0m \u001B[1;34m'replace'\u001B[0m\u001B[1;33m)\u001B[0m\u001B[1;33m)\u001B[0m\u001B[1;33m\u001B[0m\u001B[1;33m\u001B[0m\u001B[0m\n\u001B[0m\u001B[0;32m   1358\u001B[0m \u001B[1;33m\u001B[0m\u001B[0m\n\u001B[0;32m   1359\u001B[0m \u001B[1;33m\u001B[0m\u001B[0m\n",
      "\u001B[1;31mRuntimeError\u001B[0m: Error opening 'cc5g1d1gen.wav': System error."
     ]
    }
   ],
   "source": [
    "sf.write(\"cc5g1d1gen.wav\", reshaped_fake_audio, 11025)\n",
    "sf.write(\"cc5g1d1gl.wav\", glAudio, 11025)"
   ]
  }
 ],
 "metadata": {
  "interpreter": {
   "hash": "aa9a882852ac62e17bf9b766fd20d316f23d7dc4029249375b9ccd5e4b3c823d"
  },
  "kernelspec": {
   "display_name": "Python 3.9.4 64-bit",
   "name": "python3"
  },
  "language_info": {
   "codemirror_mode": {
    "name": "ipython",
    "version": 3
   },
   "file_extension": ".py",
   "mimetype": "text/x-python",
   "name": "python",
   "nbconvert_exporter": "python",
   "pygments_lexer": "ipython3",
   "version": "3.9.4"
  }
 },
 "nbformat": 4,
 "nbformat_minor": 2
}