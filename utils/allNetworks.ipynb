{
 "cells": [
  {
   "cell_type": "markdown",
   "metadata": {
    "pycharm": {
     "name": "#%% md\n"
    }
   },
   "source": [
    "FFD-GAN - OD-data"
   ]
  },
  {
   "cell_type": "code",
   "execution_count": 1,
   "metadata": {
    "pycharm": {
     "name": "#%%\n"
    }
   },
   "outputs": [],
   "source": [
    "from generatorsOD_FFD import *\n",
    "from discriminatorsOD_FFD import *"
   ]
  },
  {
   "cell_type": "code",
   "execution_count": 2,
   "metadata": {
    "pycharm": {
     "name": "#%%\n"
    }
   },
   "outputs": [],
   "source": [
    "discriminator1 = buildDiscriminator1(55125)\n",
    "\n",
    "generator1 = buildGenerator1(55125)"
   ]
  },
  {
   "cell_type": "code",
   "execution_count": 3,
   "metadata": {
    "pycharm": {
     "name": "#%%\n"
    }
   },
   "outputs": [
    {
     "name": "stdout",
     "output_type": "stream",
     "text": [
      "Model: \"sequential\"\n",
      "_________________________________________________________________\n",
      " Layer (type)                Output Shape              Param #   \n",
      "=================================================================\n",
      " dense (Dense)               (None, 512)               28224512  \n",
      "                                                                 \n",
      " dense_1 (Dense)             (None, 256)               131328    \n",
      "                                                                 \n",
      " dense_2 (Dense)             (None, 1)                 257       \n",
      "                                                                 \n",
      "=================================================================\n",
      "Total params: 28,356,097\n",
      "Trainable params: 28,356,097\n",
      "Non-trainable params: 0\n",
      "_________________________________________________________________\n",
      "None\n",
      "Model: \"sequential_1\"\n",
      "_________________________________________________________________\n",
      " Layer (type)                Output Shape              Param #   \n",
      "=================================================================\n",
      " dense_3 (Dense)             (None, 256)               14112256  \n",
      "                                                                 \n",
      " dense_4 (Dense)             (None, 512)               131584    \n",
      "                                                                 \n",
      " dense_5 (Dense)             (None, 1024)              525312    \n",
      "                                                                 \n",
      " dense_6 (Dense)             (None, 55125)             56503125  \n",
      "                                                                 \n",
      "=================================================================\n",
      "Total params: 71,272,277\n",
      "Trainable params: 71,272,277\n",
      "Non-trainable params: 0\n",
      "_________________________________________________________________\n",
      "None\n"
     ]
    }
   ],
   "source": [
    "print(discriminator1.summary())\n",
    "\n",
    "print(generator1.summary())\n"
   ]
  },
  {
   "cell_type": "markdown",
   "metadata": {
    "pycharm": {
     "name": "#%% md\n"
    }
   },
   "source": [
    "RNN-GAN - OD-data"
   ]
  },
  {
   "cell_type": "code",
   "execution_count": 4,
   "metadata": {
    "pycharm": {
     "name": "#%%\n"
    }
   },
   "outputs": [],
   "source": [
    "from generatorsOD import *\n",
    "from discriminatorsOD import *"
   ]
  },
  {
   "cell_type": "code",
   "execution_count": 5,
   "metadata": {
    "pycharm": {
     "name": "#%%\n"
    }
   },
   "outputs": [],
   "source": [
    "discriminator1 = buildDiscriminator1(55125)\n",
    "discriminator2 = buildDiscriminator2(55125)\n",
    "discriminator3 = buildDiscriminator3(55125)\n",
    "\n",
    "generator1 = buildGenerator1(55125)\n",
    "generator2_1 = buildGenerator2_1(55125)\n",
    "generator2_2 = buildGenerator2_2(55125)\n",
    "generator3 = buildGenerator3(55125)\n",
    "generator4 = buildGenerator4(55125)"
   ]
  },
  {
   "cell_type": "code",
   "execution_count": 6,
   "metadata": {
    "pycharm": {
     "name": "#%%\n"
    }
   },
   "outputs": [
    {
     "name": "stdout",
     "output_type": "stream",
     "text": [
      "Model: \"sequential_2\"\n",
      "_________________________________________________________________\n",
      " Layer (type)                Output Shape              Param #   \n",
      "=================================================================\n",
      " dense_7 (Dense)             (None, 1, 512)            28224512  \n",
      "                                                                 \n",
      " dense_8 (Dense)             (None, 1, 256)            131328    \n",
      "                                                                 \n",
      " dense_9 (Dense)             (None, 1, 55125)          14167125  \n",
      "                                                                 \n",
      "=================================================================\n",
      "Total params: 42,522,965\n",
      "Trainable params: 42,522,965\n",
      "Non-trainable params: 0\n",
      "_________________________________________________________________\n",
      "None\n",
      "Model: \"sequential_3\"\n",
      "_________________________________________________________________\n",
      " Layer (type)                Output Shape              Param #   \n",
      "=================================================================\n",
      " dense_10 (Dense)            (None, 1, 512)            28224512  \n",
      "                                                                 \n",
      " lstm (LSTM)                 (None, 1, 256)            787456    \n",
      "                                                                 \n",
      " dense_11 (Dense)            (None, 1, 55125)          14167125  \n",
      "                                                                 \n",
      "=================================================================\n",
      "Total params: 43,179,093\n",
      "Trainable params: 43,179,093\n",
      "Non-trainable params: 0\n",
      "_________________________________________________________________\n",
      "None\n",
      "Model: \"sequential_4\"\n",
      "_________________________________________________________________\n",
      " Layer (type)                Output Shape              Param #   \n",
      "=================================================================\n",
      " lstm_1 (LSTM)               (None, 1, 512)            113946624 \n",
      "                                                                 \n",
      " lstm_2 (LSTM)               (None, 1, 256)            787456    \n",
      "                                                                 \n",
      " dense_12 (Dense)            (None, 1, 55125)          14167125  \n",
      "                                                                 \n",
      "=================================================================\n",
      "Total params: 128,901,205\n",
      "Trainable params: 128,901,205\n",
      "Non-trainable params: 0\n",
      "_________________________________________________________________\n",
      "None\n",
      "Model: \"sequential_5\"\n",
      "_________________________________________________________________\n",
      " Layer (type)                Output Shape              Param #   \n",
      "=================================================================\n",
      " dense_13 (Dense)            (None, 1, 256)            14112256  \n",
      "                                                                 \n",
      " lstm_3 (LSTM)               (None, 1, 512)            1574912   \n",
      "                                                                 \n",
      " dense_14 (Dense)            (None, 1, 55125)          28279125  \n",
      "                                                                 \n",
      "=================================================================\n",
      "Total params: 43,966,293\n",
      "Trainable params: 43,966,293\n",
      "Non-trainable params: 0\n",
      "_________________________________________________________________\n",
      "None\n",
      "Model: \"sequential_6\"\n",
      "_________________________________________________________________\n",
      " Layer (type)                Output Shape              Param #   \n",
      "=================================================================\n",
      " lstm_4 (LSTM)               (None, 1, 256)            56711168  \n",
      "                                                                 \n",
      " lstm_5 (LSTM)               (None, 1, 512)            1574912   \n",
      "                                                                 \n",
      " dense_15 (Dense)            (None, 1, 55125)          28279125  \n",
      "                                                                 \n",
      "=================================================================\n",
      "Total params: 86,565,205\n",
      "Trainable params: 86,565,205\n",
      "Non-trainable params: 0\n",
      "_________________________________________________________________\n",
      "None\n",
      "Model: \"sequential_7\"\n",
      "_________________________________________________________________\n",
      " Layer (type)                Output Shape              Param #   \n",
      "=================================================================\n",
      " lstm_6 (LSTM)               (None, 1, 256)            56711168  \n",
      "                                                                 \n",
      " lstm_7 (LSTM)               (None, 1, 512)            1574912   \n",
      "                                                                 \n",
      " lstm_8 (LSTM)               (None, 1, 1024)           6295552   \n",
      "                                                                 \n",
      " dense_16 (Dense)            (None, 1, 55125)          56503125  \n",
      "                                                                 \n",
      "=================================================================\n",
      "Total params: 121,084,757\n",
      "Trainable params: 121,084,757\n",
      "Non-trainable params: 0\n",
      "_________________________________________________________________\n",
      "None\n",
      "Model: \"sequential_8\"\n",
      "_________________________________________________________________\n",
      " Layer (type)                Output Shape              Param #   \n",
      "=================================================================\n",
      " dense_17 (Dense)            (None, 1, 256)            14112256  \n",
      "                                                                 \n",
      " dense_18 (Dense)            (None, 1, 512)            131584    \n",
      "                                                                 \n",
      " lstm_9 (LSTM)               (None, 1, 1024)           6295552   \n",
      "                                                                 \n",
      " dense_19 (Dense)            (None, 1, 55125)          56503125  \n",
      "                                                                 \n",
      "=================================================================\n",
      "Total params: 77,042,517\n",
      "Trainable params: 77,042,517\n",
      "Non-trainable params: 0\n",
      "_________________________________________________________________\n",
      "None\n",
      "Model: \"sequential_9\"\n",
      "_________________________________________________________________\n",
      " Layer (type)                Output Shape              Param #   \n",
      "=================================================================\n",
      " dense_20 (Dense)            (None, 1, 256)            14112256  \n",
      "                                                                 \n",
      " dense_21 (Dense)            (None, 1, 512)            131584    \n",
      "                                                                 \n",
      " dense_22 (Dense)            (None, 1, 1024)           525312    \n",
      "                                                                 \n",
      " lstm_10 (LSTM)              (None, 1, 2048)           25174016  \n",
      "                                                                 \n",
      " dense_23 (Dense)            (None, 1, 55125)          112951125 \n",
      "                                                                 \n",
      "=================================================================\n",
      "Total params: 152,894,293\n",
      "Trainable params: 152,894,293\n",
      "Non-trainable params: 0\n",
      "_________________________________________________________________\n",
      "None\n"
     ]
    }
   ],
   "source": [
    "print(discriminator1.summary())\n",
    "print(discriminator2.summary())\n",
    "print(discriminator3.summary())\n",
    "\n",
    "print(generator1.summary())\n",
    "print(generator2_1.summary())\n",
    "print(generator2_2.summary())\n",
    "print(generator3.summary())\n",
    "print(generator4.summary())"
   ]
  },
  {
   "cell_type": "markdown",
   "metadata": {
    "pycharm": {
     "name": "#%% md\n"
    }
   },
   "source": [
    "RNN-GAN - FT-data"
   ]
  },
  {
   "cell_type": "code",
   "execution_count": 7,
   "metadata": {
    "pycharm": {
     "name": "#%%\n"
    }
   },
   "outputs": [],
   "source": [
    "from generatorsFT import *\n",
    "from discriminatorsFT import *"
   ]
  },
  {
   "cell_type": "markdown",
   "metadata": {
    "pycharm": {
     "name": "#%% md\n"
    }
   },
   "source": [
    "RNN-GAN - FT-data (complex and absolute)"
   ]
  },
  {
   "cell_type": "code",
   "execution_count": 8,
   "metadata": {
    "pycharm": {
     "name": "#%%\n"
    }
   },
   "outputs": [],
   "source": [
    "discriminator1 = buildDiscriminator1(1025, 108)\n",
    "discriminator2 = buildDiscriminator2(1025, 108)\n",
    "discriminator3 = buildDiscriminator3(1025, 108)\n",
    "\n",
    "generator1 = buildGenerator1(1025, 108)\n",
    "generator2_1 = buildGenerator2_1(1025, 108)\n",
    "generator2_2 = buildGenerator2_2(1025, 108)\n",
    "generator3 = buildGenerator3(1025, 108)\n",
    "generator4 = buildGenerator4(1025, 108)"
   ]
  },
  {
   "cell_type": "code",
   "execution_count": 9,
   "metadata": {
    "pycharm": {
     "name": "#%%\n"
    }
   },
   "outputs": [
    {
     "name": "stdout",
     "output_type": "stream",
     "text": [
      "Model: \"sequential_10\"\n",
      "_________________________________________________________________\n",
      " Layer (type)                Output Shape              Param #   \n",
      "=================================================================\n",
      " dense_24 (Dense)            (None, 1025, 512)         55808     \n",
      "                                                                 \n",
      " dense_25 (Dense)            (None, 1025, 256)         131328    \n",
      "                                                                 \n",
      " dense_26 (Dense)            (None, 1025, 108)         27756     \n",
      "                                                                 \n",
      "=================================================================\n",
      "Total params: 214,892\n",
      "Trainable params: 214,892\n",
      "Non-trainable params: 0\n",
      "_________________________________________________________________\n",
      "None\n",
      "Model: \"sequential_11\"\n",
      "_________________________________________________________________\n",
      " Layer (type)                Output Shape              Param #   \n",
      "=================================================================\n",
      " dense_27 (Dense)            (None, 1025, 512)         55808     \n",
      "                                                                 \n",
      " lstm_11 (LSTM)              (None, 1025, 256)         787456    \n",
      "                                                                 \n",
      " dense_28 (Dense)            (None, 1025, 108)         27756     \n",
      "                                                                 \n",
      "=================================================================\n",
      "Total params: 871,020\n",
      "Trainable params: 871,020\n",
      "Non-trainable params: 0\n",
      "_________________________________________________________________\n",
      "None\n",
      "Model: \"sequential_12\"\n",
      "_________________________________________________________________\n",
      " Layer (type)                Output Shape              Param #   \n",
      "=================================================================\n",
      " lstm_12 (LSTM)              (None, 1025, 512)         1271808   \n",
      "                                                                 \n",
      " lstm_13 (LSTM)              (None, 1025, 256)         787456    \n",
      "                                                                 \n",
      " dense_29 (Dense)            (None, 1025, 108)         27756     \n",
      "                                                                 \n",
      "=================================================================\n",
      "Total params: 2,087,020\n",
      "Trainable params: 2,087,020\n",
      "Non-trainable params: 0\n",
      "_________________________________________________________________\n",
      "None\n",
      "Model: \"sequential_13\"\n",
      "_________________________________________________________________\n",
      " Layer (type)                Output Shape              Param #   \n",
      "=================================================================\n",
      " dense_30 (Dense)            (None, 1025, 256)         27904     \n",
      "                                                                 \n",
      " lstm_14 (LSTM)              (None, 1025, 512)         1574912   \n",
      "                                                                 \n",
      " dense_31 (Dense)            (None, 1025, 108)         55404     \n",
      "                                                                 \n",
      " reshape (Reshape)           (None, 1025, 108)         0         \n",
      "                                                                 \n",
      "=================================================================\n",
      "Total params: 1,658,220\n",
      "Trainable params: 1,658,220\n",
      "Non-trainable params: 0\n",
      "_________________________________________________________________\n",
      "None\n",
      "Model: \"sequential_14\"\n",
      "_________________________________________________________________\n",
      " Layer (type)                Output Shape              Param #   \n",
      "=================================================================\n",
      " lstm_15 (LSTM)              (None, 1025, 256)         373760    \n",
      "                                                                 \n",
      " lstm_16 (LSTM)              (None, 1025, 512)         1574912   \n",
      "                                                                 \n",
      " dense_32 (Dense)            (None, 1025, 108)         55404     \n",
      "                                                                 \n",
      " reshape_1 (Reshape)         (None, 1025, 108)         0         \n",
      "                                                                 \n",
      "=================================================================\n",
      "Total params: 2,004,076\n",
      "Trainable params: 2,004,076\n",
      "Non-trainable params: 0\n",
      "_________________________________________________________________\n",
      "None\n",
      "Model: \"sequential_15\"\n",
      "_________________________________________________________________\n",
      " Layer (type)                Output Shape              Param #   \n",
      "=================================================================\n",
      " lstm_17 (LSTM)              (None, 1025, 256)         373760    \n",
      "                                                                 \n",
      " lstm_18 (LSTM)              (None, 1025, 512)         1574912   \n",
      "                                                                 \n",
      " lstm_19 (LSTM)              (None, 1025, 1024)        6295552   \n",
      "                                                                 \n",
      " dense_33 (Dense)            (None, 1025, 108)         110700    \n",
      "                                                                 \n",
      " reshape_2 (Reshape)         (None, 1025, 108)         0         \n",
      "                                                                 \n",
      "=================================================================\n",
      "Total params: 8,354,924\n",
      "Trainable params: 8,354,924\n",
      "Non-trainable params: 0\n",
      "_________________________________________________________________\n",
      "None\n",
      "Model: \"sequential_16\"\n",
      "_________________________________________________________________\n",
      " Layer (type)                Output Shape              Param #   \n",
      "=================================================================\n",
      " dense_34 (Dense)            (None, 1025, 256)         27904     \n",
      "                                                                 \n",
      " dense_35 (Dense)            (None, 1025, 512)         131584    \n",
      "                                                                 \n",
      " lstm_20 (LSTM)              (None, 1025, 1024)        6295552   \n",
      "                                                                 \n",
      " dense_36 (Dense)            (None, 1025, 108)         110700    \n",
      "                                                                 \n",
      " reshape_3 (Reshape)         (None, 1025, 108)         0         \n",
      "                                                                 \n",
      "=================================================================\n",
      "Total params: 6,565,740\n",
      "Trainable params: 6,565,740\n",
      "Non-trainable params: 0\n",
      "_________________________________________________________________\n",
      "None\n",
      "Model: \"sequential_17\"\n",
      "_________________________________________________________________\n",
      " Layer (type)                Output Shape              Param #   \n",
      "=================================================================\n",
      " dense_37 (Dense)            (None, 1025, 256)         27904     \n",
      "                                                                 \n",
      " dense_38 (Dense)            (None, 1025, 512)         131584    \n",
      "                                                                 \n",
      " dense_39 (Dense)            (None, 1025, 1024)        525312    \n",
      "                                                                 \n",
      " lstm_21 (LSTM)              (None, 1025, 2048)        25174016  \n",
      "                                                                 \n",
      " dense_40 (Dense)            (None, 1025, 108)         221292    \n",
      "                                                                 \n",
      " reshape_4 (Reshape)         (None, 1025, 108)         0         \n",
      "                                                                 \n",
      "=================================================================\n",
      "Total params: 26,080,108\n",
      "Trainable params: 26,080,108\n",
      "Non-trainable params: 0\n",
      "_________________________________________________________________\n",
      "None\n"
     ]
    }
   ],
   "source": [
    "print(discriminator1.summary())\n",
    "print(discriminator2.summary())\n",
    "print(discriminator3.summary())\n",
    "\n",
    "print(generator1.summary())\n",
    "print(generator2_1.summary())\n",
    "print(generator2_2.summary())\n",
    "print(generator3.summary())\n",
    "print(generator4.summary())"
   ]
  },
  {
   "cell_type": "markdown",
   "metadata": {
    "pycharm": {
     "name": "#%% md\n"
    }
   },
   "source": [
    "RNN-GAN - FT-data (split)"
   ]
  },
  {
   "cell_type": "code",
   "execution_count": 10,
   "metadata": {
    "pycharm": {
     "name": "#%%\n"
    }
   },
   "outputs": [],
   "source": [
    "discriminator1 = buildDiscriminator1(1025, 216)\n",
    "discriminator2 = buildDiscriminator2(1025, 216)\n",
    "discriminator3 = buildDiscriminator3(1025, 216)\n",
    "\n",
    "generator1 = buildGenerator1(1025, 216)\n",
    "generator2_1 = buildGenerator2_1(1025, 216)\n",
    "generator2_2 = buildGenerator2_2(1025, 216)\n",
    "generator3 = buildGenerator3(1025, 216)\n",
    "generator4 = buildGenerator4(1025, 216)"
   ]
  },
  {
   "cell_type": "code",
   "execution_count": 11,
   "metadata": {
    "pycharm": {
     "name": "#%%\n"
    }
   },
   "outputs": [
    {
     "name": "stdout",
     "output_type": "stream",
     "text": [
      "Model: \"sequential_18\"\n",
      "_________________________________________________________________\n",
      " Layer (type)                Output Shape              Param #   \n",
      "=================================================================\n",
      " dense_41 (Dense)            (None, 1025, 512)         111104    \n",
      "                                                                 \n",
      " dense_42 (Dense)            (None, 1025, 256)         131328    \n",
      "                                                                 \n",
      " dense_43 (Dense)            (None, 1025, 216)         55512     \n",
      "                                                                 \n",
      "=================================================================\n",
      "Total params: 297,944\n",
      "Trainable params: 297,944\n",
      "Non-trainable params: 0\n",
      "_________________________________________________________________\n",
      "None\n",
      "Model: \"sequential_19\"\n",
      "_________________________________________________________________\n",
      " Layer (type)                Output Shape              Param #   \n",
      "=================================================================\n",
      " dense_44 (Dense)            (None, 1025, 512)         111104    \n",
      "                                                                 \n",
      " lstm_22 (LSTM)              (None, 1025, 256)         787456    \n",
      "                                                                 \n",
      " dense_45 (Dense)            (None, 1025, 216)         55512     \n",
      "                                                                 \n",
      "=================================================================\n",
      "Total params: 954,072\n",
      "Trainable params: 954,072\n",
      "Non-trainable params: 0\n",
      "_________________________________________________________________\n",
      "None\n",
      "Model: \"sequential_20\"\n",
      "_________________________________________________________________\n",
      " Layer (type)                Output Shape              Param #   \n",
      "=================================================================\n",
      " lstm_23 (LSTM)              (None, 1025, 512)         1492992   \n",
      "                                                                 \n",
      " lstm_24 (LSTM)              (None, 1025, 256)         787456    \n",
      "                                                                 \n",
      " dense_46 (Dense)            (None, 1025, 216)         55512     \n",
      "                                                                 \n",
      "=================================================================\n",
      "Total params: 2,335,960\n",
      "Trainable params: 2,335,960\n",
      "Non-trainable params: 0\n",
      "_________________________________________________________________\n",
      "None\n",
      "Model: \"sequential_21\"\n",
      "_________________________________________________________________\n",
      " Layer (type)                Output Shape              Param #   \n",
      "=================================================================\n",
      " dense_47 (Dense)            (None, 1025, 256)         55552     \n",
      "                                                                 \n",
      " lstm_25 (LSTM)              (None, 1025, 512)         1574912   \n",
      "                                                                 \n",
      " dense_48 (Dense)            (None, 1025, 216)         110808    \n",
      "                                                                 \n",
      " reshape_5 (Reshape)         (None, 1025, 216)         0         \n",
      "                                                                 \n",
      "=================================================================\n",
      "Total params: 1,741,272\n",
      "Trainable params: 1,741,272\n",
      "Non-trainable params: 0\n",
      "_________________________________________________________________\n",
      "None\n",
      "Model: \"sequential_22\"\n",
      "_________________________________________________________________\n",
      " Layer (type)                Output Shape              Param #   \n",
      "=================================================================\n",
      " lstm_26 (LSTM)              (None, 1025, 256)         484352    \n",
      "                                                                 \n",
      " lstm_27 (LSTM)              (None, 1025, 512)         1574912   \n",
      "                                                                 \n",
      " dense_49 (Dense)            (None, 1025, 216)         110808    \n",
      "                                                                 \n",
      " reshape_6 (Reshape)         (None, 1025, 216)         0         \n",
      "                                                                 \n",
      "=================================================================\n",
      "Total params: 2,170,072\n",
      "Trainable params: 2,170,072\n",
      "Non-trainable params: 0\n",
      "_________________________________________________________________\n",
      "None\n",
      "Model: \"sequential_23\"\n",
      "_________________________________________________________________\n",
      " Layer (type)                Output Shape              Param #   \n",
      "=================================================================\n",
      " lstm_28 (LSTM)              (None, 1025, 256)         484352    \n",
      "                                                                 \n",
      " lstm_29 (LSTM)              (None, 1025, 512)         1574912   \n",
      "                                                                 \n",
      " lstm_30 (LSTM)              (None, 1025, 1024)        6295552   \n",
      "                                                                 \n",
      " dense_50 (Dense)            (None, 1025, 216)         221400    \n",
      "                                                                 \n",
      " reshape_7 (Reshape)         (None, 1025, 216)         0         \n",
      "                                                                 \n",
      "=================================================================\n",
      "Total params: 8,576,216\n",
      "Trainable params: 8,576,216\n",
      "Non-trainable params: 0\n",
      "_________________________________________________________________\n",
      "None\n",
      "Model: \"sequential_24\"\n",
      "_________________________________________________________________\n",
      " Layer (type)                Output Shape              Param #   \n",
      "=================================================================\n",
      " dense_51 (Dense)            (None, 1025, 256)         55552     \n",
      "                                                                 \n",
      " dense_52 (Dense)            (None, 1025, 512)         131584    \n",
      "                                                                 \n",
      " lstm_31 (LSTM)              (None, 1025, 1024)        6295552   \n",
      "                                                                 \n",
      " dense_53 (Dense)            (None, 1025, 216)         221400    \n",
      "                                                                 \n",
      " reshape_8 (Reshape)         (None, 1025, 216)         0         \n",
      "                                                                 \n",
      "=================================================================\n",
      "Total params: 6,704,088\n",
      "Trainable params: 6,704,088\n",
      "Non-trainable params: 0\n",
      "_________________________________________________________________\n",
      "None\n",
      "Model: \"sequential_25\"\n",
      "_________________________________________________________________\n",
      " Layer (type)                Output Shape              Param #   \n",
      "=================================================================\n",
      " dense_54 (Dense)            (None, 1025, 256)         55552     \n",
      "                                                                 \n",
      " dense_55 (Dense)            (None, 1025, 512)         131584    \n",
      "                                                                 \n",
      " dense_56 (Dense)            (None, 1025, 1024)        525312    \n",
      "                                                                 \n",
      " lstm_32 (LSTM)              (None, 1025, 2048)        25174016  \n",
      "                                                                 \n",
      " dense_57 (Dense)            (None, 1025, 216)         442584    \n",
      "                                                                 \n",
      " reshape_9 (Reshape)         (None, 1025, 216)         0         \n",
      "                                                                 \n",
      "=================================================================\n",
      "Total params: 26,329,048\n",
      "Trainable params: 26,329,048\n",
      "Non-trainable params: 0\n",
      "_________________________________________________________________\n",
      "None\n"
     ]
    }
   ],
   "source": [
    "print(discriminator1.summary())\n",
    "print(discriminator2.summary())\n",
    "print(discriminator3.summary())\n",
    "\n",
    "print(generator1.summary())\n",
    "print(generator2_1.summary())\n",
    "print(generator2_2.summary())\n",
    "print(generator3.summary())\n",
    "print(generator4.summary())"
   ]
  }
 ],
 "metadata": {
  "interpreter": {
   "hash": "aa9a882852ac62e17bf9b766fd20d316f23d7dc4029249375b9ccd5e4b3c823d"
  },
  "kernelspec": {
   "display_name": "Python 3.9.4 64-bit",
   "language": "python",
   "name": "python3"
  },
  "language_info": {
   "codemirror_mode": {
    "name": "ipython",
    "version": 3
   },
   "file_extension": ".py",
   "mimetype": "text/x-python",
   "name": "python",
   "nbconvert_exporter": "python",
   "pygments_lexer": "ipython3",
   "version": "3.9.4"
  },
  "orig_nbformat": 4
 },
 "nbformat": 4,
 "nbformat_minor": 2
}