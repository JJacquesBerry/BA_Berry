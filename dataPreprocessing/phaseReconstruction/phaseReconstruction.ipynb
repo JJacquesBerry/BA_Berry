{
 "cells": [
  {
   "cell_type": "code",
   "execution_count": 171,
   "metadata": {
    "pycharm": {
     "name": "#%%\n"
    }
   },
   "outputs": [],
   "source": [
    "import librosa\n",
    "import numpy as np\n",
    "import tqdm"
   ]
  },
  {
   "cell_type": "code",
   "execution_count": 172,
   "metadata": {
    "pycharm": {
     "name": "#%%\n"
    }
   },
   "outputs": [],
   "source": [
    "def griffinlim(spectrogram,\n",
    "               n_iter = 100,\n",
    "               window = 'hann',\n",
    "               n_fft = 2048,\n",
    "               hop_length = -1,\n",
    "               verbose = False):\n",
    "        \"\"\"Implements the Griffin-Lim algorithm for phase\n",
    "            reconstruction. Code found at\n",
    "            https://github.com/librosa/librosa/issues/434. \n",
    "\n",
    "        @param spectrogram magnitudes of fft compoents by time step\n",
    "        @param n_iter number of iteration of the algorithm\n",
    "        @param window window function to use for overlapping samples\n",
    "        @param n_fft number of Fourier components in spectrogram\n",
    "                   @todo n_fft can in fact be extraced from spectrogram.\n",
    "        @param hop_length distance between midpoint of overlapping\n",
    "        time bins for fft. \n",
    "        @param verbose display progress info or not.\n",
    "        @return stft with phases restored.\n",
    "        \"\"\"\n",
    "\n",
    "        if hop_length == -1:\n",
    "            # same default as for the librosa's [i]sftf function.\n",
    "            hop_length = n_fft // 4\n",
    "\n",
    "        # start with random phases/angles\n",
    "        angles = np.exp(2j * np.pi * np.random.rand(*spectrogram.shape))\n",
    "        print(spectrogram.shape)\n",
    "        print(angles.shape)\n",
    "        #print(\"______________\")\n",
    "        #print(np.abs(spectrogram).astype(np.complex))\n",
    "\n",
    "        # use progress bar for iteration -- a gimmick\n",
    "        t = tqdm.tqdm(range(n_iter), ncols=100, mininterval=2.0, disable=not verbose) \n",
    "        print(t)\n",
    "\n",
    "        for i in t:\n",
    "\n",
    "            full = np.dot(np.abs(spectrogram).astype(np.complex),angles)  #abs of spek(magnitudes) * random magnitudes\n",
    "            \n",
    "            inverse = librosa.istft(full, hop_length = hop_length, window = window) \n",
    "            rebuilt = librosa.stft(inverse, n_fft = n_fft,\n",
    "            hop_length = hop_length, window = window) \n",
    "            angles = np.exp(1j * np.angle(rebuilt))\n",
    "\n",
    "            if verbose:\n",
    "                diff = np.abs(spectrogram) - np.abs(rebuilt)\n",
    "                t.set_postfix(loss=np.linalg.norm(diff, 'fro'))\n",
    "\n",
    "        return np.abs(spectrogram).astype(np.complex) * angles"
   ]
  },
  {
   "cell_type": "code",
   "execution_count": 193,
   "metadata": {
    "pycharm": {
     "name": "#%%\n"
    }
   },
   "outputs": [
    {
     "name": "stdout",
     "output_type": "stream",
     "text": [
      "0.9752380952380952\n"
     ]
    }
   ],
   "source": [
    "audioPath = \"../../gan/rnn/stft/stftreconstructed.wav\"\n",
    "#audioPath = \"soundFiles/Test/test1.m4a\"\n",
    "    \n",
    "audioData, sr = librosa.load(audioPath, sr=11025)\n",
    "audioData = audioData[0:11025]    \n",
    " \n",
    "print(len(audioData)/sr)"
   ]
  },
  {
   "cell_type": "code",
   "execution_count": 194,
   "metadata": {
    "pycharm": {
     "name": "#%%\n"
    }
   },
   "outputs": [
    {
     "name": "stdout",
     "output_type": "stream",
     "text": [
      "[[0.07239701 0.0720422  0.12953109 ... 0.03051856 0.03845296 0.11870991]\n",
      " [0.05582868 0.00613326 0.11987438 ... 0.02761455 0.08153053 0.12875462]\n",
      " [0.06451701 0.02890061 0.1285662  ... 0.04365517 0.06108122 0.16167316]\n",
      " ...\n",
      " [0.7764682  0.4380449  0.7162789  ... 0.07170157 0.34409127 0.52925426]\n",
      " [0.80427766 0.50264126 0.84306145 ... 0.24207065 0.02755863 0.30685535]\n",
      " [0.86229247 0.356558   0.83569837 ... 0.27969074 0.30903253 0.3295638 ]]\n"
     ]
    }
   ],
   "source": [
    "stftData = librosa.stft(audioData)\n",
    "absStftData = abs(stftData)\n",
    "#print(stftData)\n",
    "#print(\"_________\")\n",
    "print(absStftData)"
   ]
  },
  {
   "cell_type": "code",
   "execution_count": 195,
   "metadata": {
    "pycharm": {
     "name": "#%%\n"
    }
   },
   "outputs": [
    {
     "name": "stdout",
     "output_type": "stream",
     "text": [
      "[ 0.01765062 -0.00769939 -0.04611916 ... -0.01044949  0.01976285\n",
      " -0.02607404]\n"
     ]
    }
   ],
   "source": [
    "reconstructed = librosa.griffinlim(absStftData)\n",
    "print(reconstructed)"
   ]
  },
  {
   "cell_type": "code",
   "execution_count": 196,
   "metadata": {
    "pycharm": {
     "name": "#%%\n"
    }
   },
   "outputs": [],
   "source": [
    "import soundfile as sf\n",
    "\n",
    "sf.write(\"reconstructedTest.wav\", reconstructed, sr)"
   ]
  }
 ],
 "metadata": {
  "interpreter": {
   "hash": "aa9a882852ac62e17bf9b766fd20d316f23d7dc4029249375b9ccd5e4b3c823d"
  },
  "kernelspec": {
   "display_name": "Python 3.9.4 64-bit",
   "language": "python",
   "name": "python3"
  },
  "language_info": {
   "codemirror_mode": {
    "name": "ipython",
    "version": 3
   },
   "file_extension": ".py",
   "mimetype": "text/x-python",
   "name": "python",
   "nbconvert_exporter": "python",
   "pygments_lexer": "ipython3",
   "version": "3.9.4"
  },
  "orig_nbformat": 4
 },
 "nbformat": 4,
 "nbformat_minor": 2
}