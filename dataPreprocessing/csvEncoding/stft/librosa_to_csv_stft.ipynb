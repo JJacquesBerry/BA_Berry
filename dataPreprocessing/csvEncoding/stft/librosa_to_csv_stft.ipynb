{
 "cells": [
  {
   "cell_type": "code",
   "execution_count": 1,
   "metadata": {
    "pycharm": {
     "name": "#%%\n"
    }
   },
   "outputs": [
    {
     "ename": "ModuleNotFoundError",
     "evalue": "No module named 'librosa'",
     "output_type": "error",
     "traceback": [
      "\u001B[1;31m---------------------------------------------------------------------------\u001B[0m",
      "\u001B[1;31mModuleNotFoundError\u001B[0m                       Traceback (most recent call last)",
      "Input \u001B[1;32mIn [1]\u001B[0m, in \u001B[0;36m<cell line: 1>\u001B[1;34m()\u001B[0m\n\u001B[1;32m----> 1\u001B[0m \u001B[38;5;28;01mimport\u001B[39;00m \u001B[38;5;21;01mlibrosa\u001B[39;00m\u001B[38;5;21;01m.\u001B[39;00m\u001B[38;5;21;01mdisplay\u001B[39;00m\n\u001B[0;32m      2\u001B[0m \u001B[38;5;28;01mimport\u001B[39;00m \u001B[38;5;21;01mpandas\u001B[39;00m \u001B[38;5;28;01mas\u001B[39;00m \u001B[38;5;21;01mpd\u001B[39;00m\n\u001B[0;32m      3\u001B[0m \u001B[38;5;28;01mimport\u001B[39;00m \u001B[38;5;21;01mnumpy\u001B[39;00m \u001B[38;5;28;01mas\u001B[39;00m \u001B[38;5;21;01mnp\u001B[39;00m\n",
      "\u001B[1;31mModuleNotFoundError\u001B[0m: No module named 'librosa'"
     ]
    }
   ],
   "source": [
    "import librosa.display\n",
    "import pandas as pd\n",
    "import numpy as np\n",
    "import os"
   ]
  },
  {
   "cell_type": "markdown",
   "metadata": {
    "pycharm": {
     "name": "#%% md\n"
    }
   },
   "source": [
    "Data processing\n",
    "\n",
    "- fill audioData\n",
    "- part in seconds"
   ]
  },
  {
   "cell_type": "code",
   "execution_count": null,
   "metadata": {
    "pycharm": {
     "name": "#%%\n"
    }
   },
   "outputs": [],
   "source": [
    "def reshapeAudioDataShort(index, audioPath):\n",
    "    print(index)\n",
    "\n",
    "    #get data\n",
    "    currentAudioPath = audioPath + str(index) + \".mp3\"\n",
    "    data, sr = librosa.load(currentAudioPath, sr=11025)\n",
    "\n",
    "    #needed lines float\n",
    "    lines = int(len(data)/sr)\n",
    "    #needed length\n",
    "    neededLength = lines * sr\n",
    "\n",
    "    #shorten data\n",
    "    print(\"length of audioData before: \" + str(len(data)))\n",
    "    print(\"in seconds: \" + str(len(data)/sr))\n",
    "    data = data[0:neededLength]\n",
    "    print(\"length of audioData after: \" + str(len(data)))\n",
    "    print(\"in seconds: \" + str(len(data)/sr))\n",
    "\n",
    "    #reshape data\n",
    "    reshapedData = np.reshape(data, [lines , sr])\n",
    "    #newDataframe = pd.DataFrame(reshapedData)\n",
    "\n",
    "    return reshapedData, lines\n",
    "    "
   ]
  },
  {
   "cell_type": "code",
   "execution_count": null,
   "metadata": {
    "pycharm": {
     "name": "#%%\n"
    }
   },
   "outputs": [],
   "source": [
    "#LENGTH PARAMETERS\n",
    "ONE_SECOND = 11025\n",
    "FIVE_SECONDS = 55125\n",
    "TEN_SECONDS = 110250\n",
    "THIRTY_SECONDS = 661500"
   ]
  },
  {
   "cell_type": "code",
   "execution_count": null,
   "metadata": {
    "pycharm": {
     "name": "#%%\n"
    }
   },
   "outputs": [],
   "source": [
    "def reshapeAudioDataLong(index, sampleLength, audioPath):\n",
    "    currentAudioPath = audioPath + str(index) + \".mp3\"\n",
    "    data, sr = librosa.load(currentAudioPath, sr=11025)\n",
    "\n",
    "    #runtergerundete Anzahl an benötigten Linien\n",
    "    #Anzahl an samples mit lines-Anzahl\n",
    "    lines = int(len(data)/sampleLength)\n",
    "    roundDownLength = lines * sampleLength\n",
    "\n",
    "    print(\"length of audioData before: \" + str(len(data)))\n",
    "    print(\"in seconds: \" + str(len(data)/sr))\n",
    "\n",
    "    #wenn runtergerundete Länge kürzer als audio\n",
    "    if(roundDownLength < len(data)):\n",
    "        \n",
    "        increasedlines = lines+1\n",
    "        neededLength = increasedlines * sampleLength\n",
    "        lengthDifference = neededLength - len(data)\n",
    "        \n",
    "        \n",
    "        if(lengthDifference > sr):\n",
    "            #shorten\n",
    "            data = data[0:roundDownLength]\n",
    "            reshapedData = np.reshape(data, [lines , sampleLength])\n",
    "\n",
    "            print(\"length of audioData after: \" + str(len(data)))\n",
    "            print(\"in seconds: \" + str(len(data)/sr))\n",
    "\n",
    "            #newDataframe = pd.DataFrame(reshapedData)\n",
    "            return reshapedData, lines\n",
    "        else:\n",
    "            #expand\n",
    "            zeroArray = np.tile(0.0, (lengthDifference, 1))\n",
    "            data = np.append(data, zeroArray)\n",
    "            reshapedData = np.reshape(data, [increasedlines , sampleLength])\n",
    "\n",
    "            print(\"length of audioData after: \" + str(len(data)))\n",
    "            print(\"in seconds: \" + str(len(data)/sr))\n",
    "\n",
    "            #newDataframe = pd.DataFrame(reshapedData)\n",
    "            return reshapedData, increasedlines\n",
    "\n",
    "    if(roundDownLength == len(data)):\n",
    "        reshapedData = np.reshape(data, [lines , sampleLength])\n",
    "        #newDataframe = pd.DataFrame(reshapedData)\n",
    "\n",
    "    return reshapedData, lines     "
   ]
  },
  {
   "cell_type": "markdown",
   "metadata": {
    "pycharm": {
     "name": "#%% md\n"
    }
   },
   "source": [
    "- do stft"
   ]
  },
  {
   "cell_type": "code",
   "execution_count": null,
   "metadata": {
    "pycharm": {
     "name": "#%%\n"
    }
   },
   "outputs": [],
   "source": [
    "# stft on audioData\n",
    "from csv import writer\n",
    "\n",
    "def saveStftToCsv(data, dataBasePath):\n",
    "    print(\"change to stft\")\n",
    "    for i in range (len(data)):\n",
    "        stftData = librosa.stft(data[i])\n",
    "        reshapedStftData = stftData.reshape(-1)\n",
    "\n",
    "        #save to csv\n",
    "        with open(dataBasePath, 'a') as csv_file:\n",
    "            csvWriter = writer(csv_file)\n",
    "            csvWriter.writerow(reshapedStftData)\n",
    "            csv_file.close()"
   ]
  },
  {
   "cell_type": "code",
   "execution_count": null,
   "metadata": {
    "pycharm": {
     "name": "#%%\n"
    }
   },
   "outputs": [],
   "source": [
    "print(len([file for file in os.listdir('../../../soundFiles/TurdusMerula/MP3/Song')]))\n",
    "audioFilePathsParusMajor=['../../../soundFiles/ParusMajor/MP3/Song', '../../../soundFiles/ParusMajor/MP3/Song/ParusMajorSong']\n",
    "audioFilePathsTurdusMerula=['../../../soundFiles/TurdusMerula/MP3/Song', '../../../soundFiles/TurdusMerula/MP3/Song/TurdusMerulaSong']\n",
    "audioFilePathsCorvusCorone=['../../../soundFiles/CorvusCorone/MP3/Call', '../../../soundFiles/CorvusCorone/MP3/Call/CorvusCoroneCall']\n",
    "\n",
    "databasePathsParusMajor=['../../dataBases/stft/parusMajor/ParusMajorSongFT1.csv', '../../dataBases/stft/parusMajor/ParusMajorSongFT5.csv']\n",
    "databasePathsTurdusMerula=['../../dataBases/stft/turdusMerula/TurdusMerulaSongFT5.csv']\n",
    "databasePathsCorvusCorone=['../../dataBases/stft/corvusCorone/CorvusCoroneCallFT5.csv']"
   ]
  },
  {
   "cell_type": "code",
   "execution_count": null,
   "metadata": {
    "pycharm": {
     "name": "#%%\n"
    }
   },
   "outputs": [],
   "source": [
    "print(\"save\", audioFilePathsParusMajor[0], \"with songs\", audioFilePathsParusMajor[1], \"to\", databasePathsParusMajor[0])"
   ]
  },
  {
   "cell_type": "code",
   "execution_count": null,
   "metadata": {
    "pycharm": {
     "name": "#%%\n"
    }
   },
   "outputs": [],
   "source": [
    "sampleCount = 0\n",
    "for i in range(len([file for file in os.listdir(audioFilePathsParusMajor[0])])):\n",
    "    print(\"_____________\", i)\n",
    "    if(sampleCount <= 5000):\n",
    "        reshapedData, currentSampleCount = reshapeAudioDataShort(i, audioFilePathsParusMajor[1])\n",
    "        print(\"currentSampleCount: \", currentSampleCount)\n",
    "        sampleCount += currentSampleCount\n",
    "        print(\"sampleCount: \", sampleCount)\n",
    "\n",
    "        #to stft\n",
    "        if(len(reshapedData) > 0):\n",
    "            stftData = saveStftToCsv(reshapedData, databasePathsParusMajor[0])\n",
    "        else:\n",
    "            print(\"data empty\")\n",
    "    else:\n",
    "        break\n",
    "\n",
    "#length 7m 3.4s"
   ]
  },
  {
   "cell_type": "code",
   "execution_count": null,
   "metadata": {
    "pycharm": {
     "name": "#%%\n"
    }
   },
   "outputs": [],
   "source": [
    "print(\"save\", audioFilePathsParusMajor[0], \"with songs\", audioFilePathsParusMajor[1], \"to\", databasePathsParusMajor[1])"
   ]
  },
  {
   "cell_type": "code",
   "execution_count": null,
   "metadata": {
    "pycharm": {
     "name": "#%%\n"
    }
   },
   "outputs": [],
   "source": [
    "sampleCount = 0\n",
    "for i in range(len([file for file in os.listdir(audioFilePathsParusMajor[0])])):\n",
    "    print(\"_____________\", i)\n",
    "    if(sampleCount <= 1000):\n",
    "        reshapedData, currentSampleCount = reshapeAudioDataLong(i, FIVE_SECONDS, audioFilePathsParusMajor[1])\n",
    "        print(\"currentSampleCount: \", currentSampleCount)\n",
    "        sampleCount += currentSampleCount\n",
    "        print(\"sampleCount: \", sampleCount)\n",
    "\n",
    "        #to stft\n",
    "        if(len(reshapedData) > 0):\n",
    "            stftData = saveStftToCsv(reshapedData, databasePathsParusMajor[1])\n",
    "        else:\n",
    "            print(\"data empty\")\n",
    "    else:\n",
    "        break\n",
    "\n",
    "#length 3m 6.6s"
   ]
  },
  {
   "cell_type": "code",
   "execution_count": null,
   "metadata": {
    "pycharm": {
     "name": "#%%\n"
    }
   },
   "outputs": [],
   "source": [
    "print(\"save\", audioFilePathsTurdusMerula[0], \"with songs\", audioFilePathsTurdusMerula[1], \"to\", databasePathsTurdusMerula[0])"
   ]
  },
  {
   "cell_type": "code",
   "execution_count": null,
   "metadata": {
    "pycharm": {
     "name": "#%%\n"
    }
   },
   "outputs": [],
   "source": [
    "sampleCount = 0\n",
    "for i in range(len([file for file in os.listdir(audioFilePathsTurdusMerula[0])])):\n",
    "    print(\"_____________\", i)\n",
    "    if(sampleCount <= 1000):\n",
    "        reshapedData, currentSampleCount = reshapeAudioDataLong(i, FIVE_SECONDS, audioFilePathsTurdusMerula[1])\n",
    "        print(\"currentSampleCount: \", currentSampleCount)\n",
    "        sampleCount += currentSampleCount\n",
    "        print(\"sampleCount: \", sampleCount)\n",
    "\n",
    "        #to stft\n",
    "        if(len(reshapedData) > 0):\n",
    "            stftData = saveStftToCsv(reshapedData, databasePathsTurdusMerula[0])\n",
    "        else:\n",
    "            print(\"data empty\")\n",
    "    else:\n",
    "        break\n",
    "\n",
    "#length 3m 6.6s"
   ]
  },
  {
   "cell_type": "code",
   "execution_count": null,
   "metadata": {
    "pycharm": {
     "name": "#%%\n"
    }
   },
   "outputs": [],
   "source": [
    "print(\"save\", audioFilePathsCorvusCorone[0], \"with songs\", audioFilePathsCorvusCorone[1], \"to\", databasePathsCorvusCorone[0])"
   ]
  },
  {
   "cell_type": "code",
   "execution_count": null,
   "metadata": {
    "pycharm": {
     "name": "#%%\n"
    }
   },
   "outputs": [],
   "source": [
    "sampleCount = 0\n",
    "for i in range(len([file for file in os.listdir(audioFilePathsCorvusCorone[0])])):\n",
    "    print(\"_____________\", i)\n",
    "    if(sampleCount <= 1000):\n",
    "        reshapedData, currentSampleCount = reshapeAudioDataLong(i, FIVE_SECONDS, audioFilePathsCorvusCorone[1])\n",
    "        print(\"currentSampleCount: \", currentSampleCount)\n",
    "        sampleCount += currentSampleCount\n",
    "        print(\"sampleCount: \", sampleCount)\n",
    "\n",
    "        #to stft\n",
    "        if(len(reshapedData) > 0):\n",
    "            stftData = saveStftToCsv(reshapedData, databasePathsCorvusCorone[0])\n",
    "        else:\n",
    "            print(\"data empty\")\n",
    "    else:\n",
    "        break\n",
    "\n",
    "#length 3m 6.6s"
   ]
  },
  {
   "cell_type": "code",
   "execution_count": null,
   "metadata": {
    "pycharm": {
     "name": "#%%\n"
    }
   },
   "outputs": [],
   "source": [
    "csvData = pd.read_csv(\"../../dataBases/TestSavingRows.csv\", header=None, delimiter=',', index_col=None).to_numpy()"
   ]
  },
  {
   "cell_type": "code",
   "execution_count": null,
   "metadata": {
    "pycharm": {
     "name": "#%%\n"
    }
   },
   "outputs": [],
   "source": [
    "print(csvData.shape)\n",
    "print(csvData[0])"
   ]
  },
  {
   "cell_type": "code",
   "execution_count": null,
   "metadata": {
    "pycharm": {
     "name": "#%%\n"
    }
   },
   "outputs": [],
   "source": [
    "lines = csvData.shape[0]#round(len(csvData)/(1025 * 108))\n",
    "reshapedData = np.reshape(csvData, [lines, 1025, 108])\n",
    "\n",
    "print(reshapedData.shape)\n",
    "print(reshapedData[0])"
   ]
  }
 ],
 "metadata": {
  "interpreter": {
   "hash": "aa9a882852ac62e17bf9b766fd20d316f23d7dc4029249375b9ccd5e4b3c823d"
  },
  "kernelspec": {
   "display_name": "Python 3.9.4 64-bit",
   "language": "python",
   "name": "python3"
  },
  "language_info": {
   "codemirror_mode": {
    "name": "ipython",
    "version": 3
   },
   "file_extension": ".py",
   "mimetype": "text/x-python",
   "name": "python",
   "nbconvert_exporter": "python",
   "pygments_lexer": "ipython3",
   "version": "3.9.4"
  },
  "orig_nbformat": 4
 },
 "nbformat": 4,
 "nbformat_minor": 2
}