{
 "cells": [
  {
   "cell_type": "code",
   "execution_count": 11,
   "metadata": {
    "pycharm": {
     "name": "#%%\n"
    }
   },
   "outputs": [],
   "source": [
    "import librosa.display\n",
    "import pandas as pd\n",
    "import numpy as np"
   ]
  },
  {
   "cell_type": "markdown",
   "metadata": {
    "pycharm": {
     "name": "#%% md\n"
    }
   },
   "source": [
    "Get all files"
   ]
  },
  {
   "cell_type": "code",
   "execution_count": 88,
   "metadata": {
    "pycharm": {
     "name": "#%%\n"
    }
   },
   "outputs": [],
   "source": [
    "def loadAndSaveData(index):\n",
    "    audioPath = \"../soundFiles/TroglodytesTroglodytes/MP3/TroglodytesTroglodytes\" + str(index) + \".mp3\"\n",
    "\n",
    "    #get data\n",
    "    audioData, sr = librosa.load(audioPath, sr=11025)\n",
    "\n",
    "    #needed lines float\n",
    "    lines = len(audioData)/11025\n",
    "    print(lines)\n",
    "\n",
    "    #needed lines rounded\n",
    "    roundNumber = round(len(audioData)/sr)\n",
    "    print(roundNumber)\n",
    "\n",
    "#number of lines either gets increased or not\n",
    "    #needed length\n",
    "    roundPreLength = roundNumber * sr\n",
    "\n",
    "    #if needed lines too small\n",
    "    if(roundPreLength < len(audioData)):\n",
    "        print(\"numer of lines increased\")\n",
    "        roundNumber = roundNumber+1\n",
    "    else:\n",
    "        print(\"number of lines okay!\")\n",
    "        \n",
    "    neededLength = roundNumber * sr\n",
    "\n",
    "    lengthDifference = neededLength - len(audioData)\n",
    "    print(\"difference: \" + str(lengthDifference))\n",
    "    print(\"length of audioData before: \" + str(len(audioData)))\n",
    "\n",
    "    newAudioArray = audioData.copy()\n",
    "    for i in range(lengthDifference):\n",
    "        #print(str(i))\n",
    "        newAudioArray = np.append(newAudioArray, [0.0])\n",
    "\n",
    "    print(\"length of audioData after: \" + str(len(newAudioArray)))\n",
    "\n",
    "    #reshape data\n",
    "    reshapedData = np.reshape(newAudioArray, [roundNumber , sr])\n",
    "\n",
    "    #dataframe\n",
    "    testDataframe = pd.DataFrame(reshapedData)\n",
    "\n",
    "    #save as csv\n",
    "    testDataframe.to_csv(\"TroglodytesTroglodytesTest.csv\", mode='w', header=False, index=False)\n",
    "    testDataframe.to_excel(\"TroglodytesTroglodytesTest.xlsx\", header=False, index=False)\n",
    "\n",
    "    print(index)"
   ]
  },
  {
   "cell_type": "code",
   "execution_count": 89,
   "metadata": {
    "pycharm": {
     "name": "#%%\n"
    }
   },
   "outputs": [
    {
     "name": "stdout",
     "output_type": "stream",
     "text": [
      "21.76154195011338\n",
      "22\n",
      "number of lines okay!\n",
      "difference: 2629\n",
      "length of audioData before: 239921\n",
      "length of audioData after: 242550\n",
      "0\n"
     ]
    }
   ],
   "source": [
    "loadAndSaveData(0)"
   ]
  }
 ],
 "metadata": {
  "interpreter": {
   "hash": "aa9a882852ac62e17bf9b766fd20d316f23d7dc4029249375b9ccd5e4b3c823d"
  },
  "kernelspec": {
   "display_name": "Python 3 (ipykernel)",
   "language": "python",
   "name": "python3"
  },
  "language_info": {
   "codemirror_mode": {
    "name": "ipython",
    "version": 3
   },
   "file_extension": ".py",
   "mimetype": "text/x-python",
   "name": "python",
   "nbconvert_exporter": "python",
   "pygments_lexer": "ipython3",
   "version": "3.9.12"
  }
 },
 "nbformat": 4,
 "nbformat_minor": 2
}
