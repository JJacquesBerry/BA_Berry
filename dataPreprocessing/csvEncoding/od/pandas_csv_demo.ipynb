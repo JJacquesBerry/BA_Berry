{
 "cells": [
  {
   "cell_type": "code",
   "execution_count": 1,
   "metadata": {
    "pycharm": {
     "name": "#%%\n"
    }
   },
   "outputs": [],
   "source": [
    "import pandas as pd\n",
    "import numpy as np"
   ]
  },
  {
   "cell_type": "code",
   "execution_count": 108,
   "metadata": {
    "pycharm": {
     "name": "#%%\n"
    }
   },
   "outputs": [],
   "source": [
    "#data\n",
    "testArray1 = [0.001, 0.002, 0.003]\n",
    "reshaped1 = np.reshape(testArray1, [1, 3])\n",
    "\n",
    "testArray2 = [[0.001, 0.12], [0.002, 0.23], [0.003, 0.234]]\n",
    "reshaped2 = np.reshape(testArray2, [3, 2])\n",
    "\n",
    "testArray3 = [[0.001, 0.12], [0.002, 0.23], [0.003]]\n",
    "\n",
    "if(len(testArray3[len(testArray3)-1]) < 2):\n",
    "    testArray3[len(testArray3)-1].append(0.0)\n",
    "reshaped3 = np.reshape(testArray3, [3, 2])\n",
    "\n",
    "#dataframe\n",
    "testDataframe = pd.DataFrame(reshaped2)\n",
    "\n",
    "\n",
    "testArray4 = np.array([[0.001, 0.12], [0.002, 0.23], [0.003, 0.23]])\n",
    "np.reshape(testArray4, -1)\n",
    "\n",
    "testArray5 = np.array([[0.001, 0.12], [0.002, 0.23], [0.003, 0.23]])\n",
    "np.reshape(testArray5, -1)\n",
    "\n",
    "#write to files\n",
    "testDataframe.to_csv(\"test.csv\", mode='w', header=False, index=True)\n",
    "with pd.ExcelWriter(\"test.xlsx\", mode='a') as xlsxWriter:\n",
    "    testDataframe.to_excel(xlsxWriter, \"test.xlsx\", header=False)"
   ]
  },
  {
   "cell_type": "code",
   "execution_count": 47,
   "metadata": {
    "pycharm": {
     "name": "#%%\n"
    }
   },
   "outputs": [
    {
     "name": "stdout",
     "output_type": "stream",
     "text": [
      "[0.001 0.12  0.002 0.23  0.003 0.23  0.001 0.12  0.002 0.23  0.003 0.23 ]\n"
     ]
    }
   ],
   "source": [
    "testArray4 = np.array([[0.001, 0.12], [0.002, 0.23], [0.003, 0.23]])\n",
    "reshaped = np.reshape(testArray4, -1)\n",
    "\n",
    "testArray5 = np.array([[0.001, 0.12], [0.002, 0.23], [0.003, 0.23]])\n",
    "reshaped2 = np.reshape(testArray5, -1)\n",
    "joinedData = np.append(reshaped, reshaped2)\n",
    "print(joinedData)\n",
    "\n",
    "testDataframe = pd.DataFrame(joinedData)\n",
    "testDataframe.to_csv(\"test.csv\", mode='w', header=False, index=False)\n",
    "\n",
    "#testDataframe = pd.DataFrame(testArray5)\n",
    "#testDataframe.to_csv(\"test2.csv\", mode='a', header=False, index=False)"
   ]
  },
  {
   "cell_type": "code",
   "execution_count": null,
   "metadata": {
    "pycharm": {
     "name": "#%%\n"
    }
   },
   "outputs": [],
   "source": [
    "arrayToExpand = [0.0, 0.1, 0.2]\n"
   ]
  },
  {
   "cell_type": "code",
   "execution_count": 48,
   "metadata": {
    "pycharm": {
     "name": "#%%\n"
    }
   },
   "outputs": [
    {
     "name": "stdout",
     "output_type": "stream",
     "text": [
      "(12, 1)\n",
      "[[0.001]\n",
      " [0.12 ]\n",
      " [0.002]\n",
      " [0.23 ]\n",
      " [0.003]\n",
      " [0.23 ]\n",
      " [0.001]\n",
      " [0.12 ]\n",
      " [0.002]\n",
      " [0.23 ]\n",
      " [0.003]\n",
      " [0.23 ]]\n"
     ]
    }
   ],
   "source": [
    "csvData = pd.read_csv(\"test.csv\", header=None, delimiter=',', index_col=None).to_numpy()\n",
    "\n",
    "print(csvData.shape)\n",
    "print(csvData)"
   ]
  }
 ],
 "metadata": {
  "interpreter": {
   "hash": "aa9a882852ac62e17bf9b766fd20d316f23d7dc4029249375b9ccd5e4b3c823d"
  },
  "kernelspec": {
   "display_name": "Python 3.9.4 64-bit",
   "language": "python",
   "name": "python3"
  },
  "language_info": {
   "codemirror_mode": {
    "name": "ipython",
    "version": 3
   },
   "file_extension": ".py",
   "mimetype": "text/x-python",
   "name": "python",
   "nbconvert_exporter": "python",
   "pygments_lexer": "ipython3",
   "version": "3.9.4"
  },
  "orig_nbformat": 4
 },
 "nbformat": 4,
 "nbformat_minor": 2
}