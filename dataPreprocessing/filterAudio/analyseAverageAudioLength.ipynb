{
 "cells": [
  {
   "cell_type": "code",
   "execution_count": 1,
   "metadata": {},
   "outputs": [],
   "source": [
    "import os\n",
    "from mutagen.mp3 import MP3"
   ]
  },
  {
   "cell_type": "code",
   "execution_count": 6,
   "metadata": {},
   "outputs": [
    {
     "name": "stdout",
     "output_type": "stream",
     "text": [
      "67.11285886117474\n"
     ]
    }
   ],
   "source": [
    "audioLength = 0\n",
    "\n",
    "for i in range(len([file for file in os.listdir('../../soundFiles/TroglodytesTroglodytes/MP3')])):\n",
    "    audioData = MP3(\"../../soundFiles/TroglodytesTroglodytes/MP3/TroglodytesTroglodytes\" + str(i) + \".mp3\")\n",
    "    audioLength += audioData.info.length\n",
    "\n",
    "print(audioLength/499)\n",
    "\n",
    "#67.11285886117474 average"
   ]
  }
 ],
 "metadata": {
  "interpreter": {
   "hash": "aa9a882852ac62e17bf9b766fd20d316f23d7dc4029249375b9ccd5e4b3c823d"
  },
  "kernelspec": {
   "display_name": "Python 3 (ipykernel)",
   "language": "python",
   "name": "python3"
  },
  "language_info": {
   "codemirror_mode": {
    "name": "ipython",
    "version": 3
   },
   "file_extension": ".py",
   "mimetype": "text/x-python",
   "name": "python",
   "nbconvert_exporter": "python",
   "pygments_lexer": "ipython3",
   "version": "3.9.12"
  }
 },
 "nbformat": 4,
 "nbformat_minor": 2
}
