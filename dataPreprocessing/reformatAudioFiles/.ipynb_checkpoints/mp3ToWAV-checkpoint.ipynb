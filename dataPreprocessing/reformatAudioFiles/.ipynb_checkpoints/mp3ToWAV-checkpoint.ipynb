{
 "cells": [
  {
   "cell_type": "code",
   "execution_count": 14,
   "metadata": {},
   "outputs": [],
   "source": [
    "from os import path\n",
    "from pydub import AudioSegment"
   ]
  },
  {
   "cell_type": "code",
   "execution_count": 18,
   "metadata": {},
   "outputs": [],
   "source": [
    "def convertData(index):\n",
    "    if(index != 120):\n",
    "        src = \"../soundFiles/TroglodytesTroglodytes/MP3/TroglodytesTroglodytes\" + str(index) + \".mp3\"\n",
    "        dst = \"../soundFiles/TroglodytesTroglodytes/WAV/TroglodytesTroglodytes\" + str(index) + \".wav\"\n",
    "\n",
    "        if(os.path.isfile(src) and not os.path.isfile(dst)):\n",
    "            so = AudioSegment.from_mp3(src)\n",
    "        \n",
    "            so.export(dst, format=\"wav\")"
   ]
  },
  {
   "cell_type": "code",
   "execution_count": 19,
   "metadata": {},
   "outputs": [],
   "source": [
    "for i in range(len([file for file in os.listdir('../soundFiles/TroglodytesTroglodytes/MP3')])):\n",
    "    convertData(i)"
   ]
  }
 ],
 "metadata": {
  "interpreter": {
   "hash": "aa9a882852ac62e17bf9b766fd20d316f23d7dc4029249375b9ccd5e4b3c823d"
  },
  "kernelspec": {
   "display_name": "Python 3 (ipykernel)",
   "language": "python",
   "name": "python3"
  },
  "language_info": {
   "codemirror_mode": {
    "name": "ipython",
    "version": 3
   },
   "file_extension": ".py",
   "mimetype": "text/x-python",
   "name": "python",
   "nbconvert_exporter": "python",
   "pygments_lexer": "ipython3",
   "version": "3.9.12"
  }
 },
 "nbformat": 4,
 "nbformat_minor": 2
}
