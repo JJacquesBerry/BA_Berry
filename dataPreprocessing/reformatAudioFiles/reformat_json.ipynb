{
 "cells": [
  {
   "cell_type": "code",
   "execution_count": null,
   "metadata": {
    "pycharm": {
     "name": "#%%\n"
    }
   },
   "outputs": [],
   "source": [
    "#reformats file\n",
    "\n",
    "import json\n",
    "from pathlib import Path\n",
    "\n",
    "jsonfile = open('D:\\\\1. Studium\\\\7. Semester\\BA\\\\birdvoice', \"r\")\n",
    "jsondata = json.load(jsonfile)\n",
    "jsondataalt = json.dumps(jsondata, indent=4)\n",
    "jsonfile.close()\n",
    "\n",
    "jsonfile = open('D:\\\\1. Studium\\\\7. Semester\\BA\\\\birdvoice', \"w\")\n",
    "jsonfile.write(json.dumps(jsondataalt))\n",
    "jsonfile.close()"
   ]
  }
 ],
 "metadata": {
  "kernelspec": {
   "display_name": "Python 3 (ipykernel)",
   "language": "python",
   "name": "python3"
  },
  "language_info": {
   "codemirror_mode": {
    "name": "ipython",
    "version": 3
   },
   "file_extension": ".py",
   "mimetype": "text/x-python",
   "name": "python",
   "nbconvert_exporter": "python",
   "pygments_lexer": "ipython3",
   "version": "3.9.12"
  }
 },
 "nbformat": 4,
 "nbformat_minor": 2
}