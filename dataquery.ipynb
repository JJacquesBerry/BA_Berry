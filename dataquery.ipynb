{
 "cells": [
  {
   "cell_type": "markdown",
   "metadata": {
    "pycharm": {
     "name": "#%% md\n"
    }
   },
   "source": [
    "Download-Test"
   ]
  },
  {
   "cell_type": "code",
   "execution_count": 1,
   "metadata": {
    "pycharm": {
     "name": "#%%\n"
    }
   },
   "outputs": [
    {
     "name": "stderr",
     "output_type": "stream",
     "text": [
      "  % Total    % Received % Xferd  Average Speed   Time    Time     Time  Current\n",
      "                                 Dload  Upload   Total   Spent    Left  Speed\n",
      "\n",
      "  0     0    0     0    0     0      0      0 --:--:-- --:--:-- --:--:--     0\n",
      "100     5  100     5    0     0     22      0 --:--:-- --:--:-- --:--:--    22\n",
      "  % Total    % Received % Xferd  Average Speed   Time    Time     Time  Current\n",
      "                                 Dload  Upload   Total   Spent    Left  Speed\n",
      "\n",
      "  0     0    0     0    0     0      0      0 --:--:-- --:--:-- --:--:--     0curl: (6) Could not resolve host: TroglodytesTroglodytes.json\n",
      "  % Total    % Received % Xferd  Average Speed   Time    Time     Time  Current\n",
      "                                 Dload  Upload   Total   Spent    Left  Speed\n",
      "\n",
      "  0     0    0     0    0     0      0      0 --:--:-- --:--:-- --:--:--     0\n",
      "  0     0    0     0    0     0      0      0 --:--:-- --:--:-- --:--:--     0\n",
      "100     5  100     5    0     0     24      0 --:--:-- --:--:-- --:--:--    24\n",
      "  % Total    % Received % Xferd  Average Speed   Time    Time     Time  Current\n",
      "                                 Dload  Upload   Total   Spent    Left  Speed\n",
      "\n",
      "  0     0    0     0    0     0      0      0 --:--:-- --:--:-- --:--:--     0curl: (6) Could not resolve host: ParusMajor.json\n",
      "  % Total    % Received % Xferd  Average Speed   Time    Time     Time  Current\n",
      "                                 Dload  Upload   Total   Spent    Left  Speed\n",
      "\n",
      "  0     0    0     0    0     0      0      0 --:--:-- --:--:-- --:--:--     0\n",
      "100     5  100     5    0     0     23      0 --:--:-- --:--:-- --:--:--    23\n",
      "  % Total    % Received % Xferd  Average Speed   Time    Time     Time  Current\n",
      "                                 Dload  Upload   Total   Spent    Left  Speed\n",
      "\n",
      "  0     0    0     0    0     0      0      0 --:--:-- --:--:-- --:--:--     0curl: (6) Could not resolve host: TurdusMerula.json\n",
      "  % Total    % Received % Xferd  Average Speed   Time    Time     Time  Current\n",
      "                                 Dload  Upload   Total   Spent    Left  Speed\n",
      "\n",
      "  0     0    0     0    0     0      0      0 --:--:-- --:--:-- --:--:--     0\n",
      "100     5  100     5    0     0     22      0 --:--:-- --:--:-- --:--:--    22\n",
      "  % Total    % Received % Xferd  Average Speed   Time    Time     Time  Current\n",
      "                                 Dload  Upload   Total   Spent    Left  Speed\n",
      "\n",
      "  0     0    0     0    0     0      0      0 --:--:-- --:--:-- --:--:--     0curl: (6) Could not resolve host: CorvusCornix.json\n",
      "  % Total    % Received % Xferd  Average Speed   Time    Time     Time  Current\n",
      "                                 Dload  Upload   Total   Spent    Left  Speed\n",
      "\n",
      "  0     0    0     0    0     0      0      0 --:--:-- --:--:-- --:--:--     0\n",
      "100     5  100     5    0     0     23      0 --:--:-- --:--:-- --:--:--    23\n",
      "100     5  100     5    0     0     23      0 --:--:-- --:--:-- --:--:--    23\n",
      "  % Total    % Received % Xferd  Average Speed   Time    Time     Time  Current\n",
      "                                 Dload  Upload   Total   Spent    Left  Speed\n",
      "\n",
      "  0     0    0     0    0     0      0      0 --:--:-- --:--:-- --:--:--     0curl: (6) Could not resolve host: CorvusCorone.json\n"
     ]
    }
   ],
   "source": [
    "\n",
    "!curl -O https://www.xeno-canto.org/api/2/recordings?query=troglodytes+troglodytes+q:A+type:song+lic:by-nc-sa TroglodytesTroglodytes.json\n",
    "!curl -O https://www.xeno-canto.org/api/2/recordings?query=parus+major+q:A+type:song+lic:by-nc-sa ParusMajor.json\n",
    "\n",
    "!curl -O https://www.xeno-canto.org/api/2/recordings?query=turdus+merula+q:A+type:song+lic:by-nc-sa TurdusMerula.json\n",
    "\n",
    "!curl -O https://www.xeno-canto.org/api/2/recordings?query=corvus+cornix+q:A+type:call+lic:by-nc-sa CorvusCornix.json\n",
    "!curl -O https://www.xeno-canto.org/api/2/recordings?query=corvus+corone+q:A+type:call+lic:by-nc-sa CorvusCorone.json"
   ]
  },
  {
   "cell_type": "code",
   "execution_count": 2,
   "metadata": {
    "pycharm": {
     "name": "#%%\n"
    }
   },
   "outputs": [],
   "source": [
    "import json\n",
    "import requests\n",
    "import urllib"
   ]
  },
  {
   "cell_type": "markdown",
   "source": [],
   "metadata": {
    "collapsed": false,
    "pycharm": {
     "name": "#%% md\n"
    }
   }
  },
  {
   "cell_type": "code",
   "execution_count": 3,
   "metadata": {
    "pycharm": {
     "name": "#%%\n"
    }
   },
   "outputs": [],
   "source": [
    "#prints file reformatted\n",
    "#jsonfile = open('D:\\\\1. Studium\\\\7. Semester\\BA\\\\birdvoice1', \"r\")\n",
    "#jsondata = json.load(jsonfile)\n",
    "#print(json.dumps(jsondata, indent=4))\n",
    "#jsonfile.close()"
   ]
  },
  {
   "cell_type": "markdown",
   "metadata": {
    "pycharm": {
     "name": "#%% md\n"
    }
   },
   "source": [
    "- Get all URLs from file"
   ]
  },
  {
   "cell_type": "code",
   "execution_count": 4,
   "metadata": {
    "pycharm": {
     "name": "#%%\n"
    }
   },
   "outputs": [
    {
     "ename": "FileNotFoundError",
     "evalue": "[Errno 2] No such file or directory: './soundFiles/ParusMajor/ParusMajorSongB.json'",
     "output_type": "error",
     "traceback": [
      "\u001B[1;31m---------------------------------------------------------------------------\u001B[0m",
      "\u001B[1;31mFileNotFoundError\u001B[0m                         Traceback (most recent call last)",
      "Input \u001B[1;32mIn [4]\u001B[0m, in \u001B[0;36m<cell line: 4>\u001B[1;34m()\u001B[0m\n\u001B[0;32m      1\u001B[0m species \u001B[38;5;241m=\u001B[39m [\u001B[38;5;124m'\u001B[39m\u001B[38;5;124m./soundFiles/TroglodytesTroglodytes/TroglodytesTroglodytesSong.json\u001B[39m\u001B[38;5;124m'\u001B[39m, \u001B[38;5;124m'\u001B[39m\u001B[38;5;124m./soundFiles/TurdusMerula/TurdusMerulaSong.json\u001B[39m\u001B[38;5;124m'\u001B[39m, \u001B[38;5;124m'\u001B[39m\u001B[38;5;124m./soundFiles/CorvusCornix/CorvusCornixCall.json\u001B[39m\u001B[38;5;124m'\u001B[39m, \u001B[38;5;124m'\u001B[39m\u001B[38;5;124m./soundFiles/CorvusCorone/CorvusCoroneCallB.json\u001B[39m\u001B[38;5;124m'\u001B[39m, \u001B[38;5;124m'\u001B[39m\u001B[38;5;124m./soundFiles/ParusMajor/ParusMajorSongB.json\u001B[39m\u001B[38;5;124m'\u001B[39m]\n\u001B[0;32m      3\u001B[0m \u001B[38;5;66;03m# gets filenames of all instances\u001B[39;00m\n\u001B[1;32m----> 4\u001B[0m jsonfile \u001B[38;5;241m=\u001B[39m \u001B[38;5;28;43mopen\u001B[39;49m\u001B[43m(\u001B[49m\u001B[43mspecies\u001B[49m\u001B[43m[\u001B[49m\u001B[38;5;241;43m4\u001B[39;49m\u001B[43m]\u001B[49m\u001B[43m,\u001B[49m\u001B[43m \u001B[49m\u001B[38;5;124;43m\"\u001B[39;49m\u001B[38;5;124;43mr\u001B[39;49m\u001B[38;5;124;43m\"\u001B[39;49m\u001B[43m)\u001B[49m\n\u001B[0;32m      5\u001B[0m jsondata \u001B[38;5;241m=\u001B[39m json\u001B[38;5;241m.\u001B[39mload(jsonfile)\n\u001B[0;32m      6\u001B[0m recordings \u001B[38;5;241m=\u001B[39m jsondata[\u001B[38;5;124m\"\u001B[39m\u001B[38;5;124mrecordings\u001B[39m\u001B[38;5;124m\"\u001B[39m]\n",
      "\u001B[1;31mFileNotFoundError\u001B[0m: [Errno 2] No such file or directory: './soundFiles/ParusMajor/ParusMajorSongB.json'"
     ]
    }
   ],
   "source": [
    "species = ['./soundFiles/TroglodytesTroglodytes/TroglodytesTroglodytesSong.json', './soundFiles/TurdusMerula/TurdusMerulaSong.json', './soundFiles/CorvusCornix/CorvusCornixCall.json', './soundFiles/CorvusCorone/CorvusCoroneCallB.json', './soundFiles/ParusMajor/ParusMajorSongB.json']\n",
    "\n",
    "# gets filenames of all instances\n",
    "jsonfile = open(species[4], \"r\")\n",
    "jsondata = json.load(jsonfile)\n",
    "recordings = jsondata[\"recordings\"]\n",
    "jsondata[\"recordings\"][0][\"gen\"]\n",
    "allrecordingfiles = []\n",
    "allFullUrls = []\n",
    "for record in recordings:\n",
    "    allrecordingfiles.append(record[\"file\"])\n",
    "\n",
    "#gets all long URLs\n",
    "for r in enumerate(allrecordingfiles):\n",
    "    newurl = str(r[1]).replace(\"//www.\", \"http://\")\n",
    "    requested_url = urllib.request.urlopen(newurl)\n",
    "    fullurl = requested_url.url\n",
    "    allFullUrls.append(fullurl)"
   ]
  },
  {
   "cell_type": "code",
   "execution_count": null,
   "metadata": {
    "pycharm": {
     "name": "#%%\n"
    }
   },
   "outputs": [],
   "source": [
    "print(len(allFullUrls))"
   ]
  },
  {
   "cell_type": "markdown",
   "metadata": {
    "pycharm": {
     "name": "#%% md\n"
    }
   },
   "source": [
    "- MP3-Dateien downloaden"
   ]
  },
  {
   "cell_type": "code",
   "execution_count": null,
   "metadata": {
    "pycharm": {
     "name": "#%%\n"
    }
   },
   "outputs": [],
   "source": [
    "#download files from URLs\n",
    "# avg. 7min/500files\n",
    "paths = [\"./soundFiles/TroglodytesTroglodytes/MP3/song/TroglodytesTroglodytesSong\", \"./soundFiles/TurdusMerula/MP3/song/TurdusMerulaSong\", \"./soundFiles/CorvusCornix/MP3/call/CorvusCornixCall\", \"./soundFiles/CorvusCorone/MP3/call/CorvusCoroneCall\", \"./soundFiles/ParusMajor/MP3/song/ParusMajorSong\"]\n",
    "\n",
    "for index, currentURL in enumerate(allFullUrls):\n",
    "    test = str(allFullUrls[index])\n",
    "    print(test)\n",
    "    requesttest = requests.get(test)\n",
    "    open(paths[4] + str(index+692) + \".mp3\", \"wb\").write(requesttest.content)"
   ]
  },
  {
   "cell_type": "code",
   "execution_count": null,
   "metadata": {
    "pycharm": {
     "name": "#%%\n"
    }
   },
   "outputs": [],
   "source": []
  },
  {
   "cell_type": "code",
   "execution_count": null,
   "metadata": {
    "pycharm": {
     "name": "#%%\n"
    }
   },
   "outputs": [],
   "source": []
  }
 ],
 "metadata": {
  "interpreter": {
   "hash": "aa9a882852ac62e17bf9b766fd20d316f23d7dc4029249375b9ccd5e4b3c823d"
  },
  "kernelspec": {
   "display_name": "Python 3 (ipykernel)",
   "language": "python",
   "name": "python3"
  },
  "language_info": {
   "codemirror_mode": {
    "name": "ipython",
    "version": 3
   },
   "file_extension": ".py",
   "mimetype": "text/x-python",
   "name": "python",
   "nbconvert_exporter": "python",
   "pygments_lexer": "ipython3",
   "version": "3.9.12"
  }
 },
 "nbformat": 4,
 "nbformat_minor": 2
}